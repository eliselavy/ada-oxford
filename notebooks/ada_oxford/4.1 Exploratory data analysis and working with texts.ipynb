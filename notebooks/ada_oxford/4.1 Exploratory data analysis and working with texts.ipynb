{
 "cells": [
  {
   "cell_type": "markdown",
   "metadata": {},
   "source": [
    "# Exploratory data analysis and working with texts\n",
    "\n",
    "In this notebook, we learn about:\n",
    "1. descriptive statistics to explore data;\n",
    "2. working with texts"
   ]
  },
  {
   "cell_type": "markdown",
   "metadata": {},
   "source": [
    "# Part 1: descriptive statistics\n",
    "\n",
    "*\"The goal of exploratory data analysis is to develop an understanding of your data. EDA is fundamentally a creative process. And like most creative processes, the key to asking quality questions is to generate a large quantity of questions.\"* \n",
    "\n",
    "Key questions:\n",
    "* Which kind of variation occurs within variables?\n",
    "* Which kind of co-variation occurs between variables?\n",
    "\n",
    "https://r4ds.had.co.nz/exploratory-data-analysis.html"
   ]
  },
  {
   "cell_type": "code",
   "execution_count": 2,
   "metadata": {},
   "outputs": [],
   "source": [
    "# imports\n",
    "\n",
    "import os, codecs\n",
    "import pandas as pd\n",
    "import numpy as np\n",
    "import seaborn as sns\n",
    "import matplotlib.pyplot as plt"
   ]
  },
  {
   "cell_type": "markdown",
   "metadata": {},
   "source": [
    "## Import the dataset\n",
    "Let us import the Venetian apprenticeship contracts dataset in memory."
   ]
  },
  {
   "cell_type": "code",
   "execution_count": 2,
   "metadata": {},
   "outputs": [],
   "source": [
    "root_folder = \"../data/apprenticeship_venice/\"\n",
    "df_contracts = pd.read_csv(codecs.open(os.path.join(root_folder,\"professions_data.csv\"), encoding=\"utf8\"), sep=\";\")\n",
    "df_professions = pd.read_csv(codecs.open(os.path.join(root_folder,\"professions_classification.csv\"), encoding=\"utf8\"), sep=\",\")"
   ]
  },
  {
   "cell_type": "markdown",
   "metadata": {},
   "source": [
    "Let's take another look to the dataset."
   ]
  },
  {
   "cell_type": "code",
   "execution_count": 4,
   "metadata": {},
   "outputs": [
    {
     "name": "stdout",
     "output_type": "stream",
     "text": [
      "<class 'pandas.core.frame.DataFrame'>\n",
      "RangeIndex: 9653 entries, 0 to 9652\n",
      "Data columns (total 47 columns):\n",
      "page_title                  9653 non-null object\n",
      "register                    9653 non-null object\n",
      "annual_salary               7870 non-null float64\n",
      "a_profession                9653 non-null object\n",
      "profession_code_strict      9618 non-null object\n",
      "profession_code_gen         9614 non-null object\n",
      "profession_cat              9597 non-null object\n",
      "corporation                 9350 non-null object\n",
      "keep_profession_a           9653 non-null int64\n",
      "complete_profession_a       9653 non-null int64\n",
      "enrolmentY                  9628 non-null float64\n",
      "enrolmentM                  9631 non-null float64\n",
      "startY                      9533 non-null float64\n",
      "startM                      9539 non-null float64\n",
      "length                      9645 non-null float64\n",
      "has_fled                    9653 non-null int64\n",
      "m_profession                9535 non-null object\n",
      "m_profession_code_strict    9508 non-null object\n",
      "m_profession_code_gen       9506 non-null object\n",
      "m_profession_cat            9489 non-null object\n",
      "m_corporation               9276 non-null object\n",
      "keep_profession_m           9653 non-null int64\n",
      "complete_profession_m       9653 non-null int64\n",
      "m_gender                    9554 non-null float64\n",
      "m_name                      9623 non-null object\n",
      "m_surname                   6960 non-null object\n",
      "m_patronimic                2620 non-null object\n",
      "m_atelier                   1434 non-null object\n",
      "m_coords                    9639 non-null object\n",
      "a_name                      9653 non-null object\n",
      "a_age                       9303 non-null float64\n",
      "a_gender                    9522 non-null float64\n",
      "a_geo_origins               7149 non-null object\n",
      "a_geo_origins_std           4636 non-null object\n",
      "a_coords                    9610 non-null object\n",
      "a_quondam                   7848 non-null float64\n",
      "accommodation_master        9653 non-null int64\n",
      "personal_care_master        9653 non-null int64\n",
      "clothes_master              9653 non-null int64\n",
      "generic_expenses_master     9653 non-null int64\n",
      "salary_in_kind_master       9653 non-null int64\n",
      "pledge_goods_master         9653 non-null int64\n",
      "pledge_money_master         9653 non-null int64\n",
      "salary_master               9653 non-null int64\n",
      "female_guarantor            9653 non-null int64\n",
      "period_cat                  7891 non-null float64\n",
      "incremental_salary          9653 non-null int64\n",
      "dtypes: float64(11), int64(15), object(21)\n",
      "memory usage: 3.5+ MB\n"
     ]
    }
   ],
   "source": [
    "df_contracts.info()"
   ]
  },
  {
   "cell_type": "code",
   "execution_count": 3,
   "metadata": {},
   "outputs": [
    {
     "data": {
      "text/html": [
       "<div>\n",
       "<style scoped>\n",
       "    .dataframe tbody tr th:only-of-type {\n",
       "        vertical-align: middle;\n",
       "    }\n",
       "\n",
       "    .dataframe tbody tr th {\n",
       "        vertical-align: top;\n",
       "    }\n",
       "\n",
       "    .dataframe thead th {\n",
       "        text-align: right;\n",
       "    }\n",
       "</style>\n",
       "<table border=\"1\" class=\"dataframe\">\n",
       "  <thead>\n",
       "    <tr style=\"text-align: right;\">\n",
       "      <th></th>\n",
       "      <th>page_title</th>\n",
       "      <th>register</th>\n",
       "      <th>annual_salary</th>\n",
       "      <th>a_profession</th>\n",
       "      <th>profession_code_strict</th>\n",
       "      <th>profession_code_gen</th>\n",
       "      <th>profession_cat</th>\n",
       "      <th>corporation</th>\n",
       "      <th>keep_profession_a</th>\n",
       "      <th>complete_profession_a</th>\n",
       "      <th>...</th>\n",
       "      <th>personal_care_master</th>\n",
       "      <th>clothes_master</th>\n",
       "      <th>generic_expenses_master</th>\n",
       "      <th>salary_in_kind_master</th>\n",
       "      <th>pledge_goods_master</th>\n",
       "      <th>pledge_money_master</th>\n",
       "      <th>salary_master</th>\n",
       "      <th>female_guarantor</th>\n",
       "      <th>period_cat</th>\n",
       "      <th>incremental_salary</th>\n",
       "    </tr>\n",
       "  </thead>\n",
       "  <tbody>\n",
       "    <tr>\n",
       "      <th>0</th>\n",
       "      <td>Carlo Della sosta (Orese) 1592-08-03</td>\n",
       "      <td>asv, giustizia vecchia, accordi dei garzoni, 1...</td>\n",
       "      <td>NaN</td>\n",
       "      <td>orese</td>\n",
       "      <td>orese</td>\n",
       "      <td>orefice</td>\n",
       "      <td>orefice</td>\n",
       "      <td>Oresi</td>\n",
       "      <td>1</td>\n",
       "      <td>1</td>\n",
       "      <td>...</td>\n",
       "      <td>1</td>\n",
       "      <td>1</td>\n",
       "      <td>1</td>\n",
       "      <td>0</td>\n",
       "      <td>0</td>\n",
       "      <td>0</td>\n",
       "      <td>0</td>\n",
       "      <td>0</td>\n",
       "      <td>NaN</td>\n",
       "      <td>0</td>\n",
       "    </tr>\n",
       "    <tr>\n",
       "      <th>1</th>\n",
       "      <td>Antonio quondam Andrea (squerariol) 1583-01-09</td>\n",
       "      <td>asv, giustizia vecchia, accordi dei garzoni, 1...</td>\n",
       "      <td>12.5</td>\n",
       "      <td>squerariol</td>\n",
       "      <td>squerariol</td>\n",
       "      <td>lavori allo squero</td>\n",
       "      <td>lavori allo squero</td>\n",
       "      <td>Squerarioli</td>\n",
       "      <td>1</td>\n",
       "      <td>1</td>\n",
       "      <td>...</td>\n",
       "      <td>0</td>\n",
       "      <td>0</td>\n",
       "      <td>1</td>\n",
       "      <td>0</td>\n",
       "      <td>0</td>\n",
       "      <td>0</td>\n",
       "      <td>1</td>\n",
       "      <td>0</td>\n",
       "      <td>1.0</td>\n",
       "      <td>0</td>\n",
       "    </tr>\n",
       "    <tr>\n",
       "      <th>2</th>\n",
       "      <td>Cristofollo di Zuane (batioro in carta) 1591-0...</td>\n",
       "      <td>asv, giustizia vecchia, accordi dei garzoni, 1...</td>\n",
       "      <td>NaN</td>\n",
       "      <td>batioro</td>\n",
       "      <td>batioro</td>\n",
       "      <td>battioro</td>\n",
       "      <td>fabbricatore di foglie/fili/cordelle d'oro o a...</td>\n",
       "      <td>Battioro</td>\n",
       "      <td>1</td>\n",
       "      <td>1</td>\n",
       "      <td>...</td>\n",
       "      <td>0</td>\n",
       "      <td>0</td>\n",
       "      <td>0</td>\n",
       "      <td>0</td>\n",
       "      <td>0</td>\n",
       "      <td>0</td>\n",
       "      <td>0</td>\n",
       "      <td>0</td>\n",
       "      <td>NaN</td>\n",
       "      <td>0</td>\n",
       "    </tr>\n",
       "    <tr>\n",
       "      <th>3</th>\n",
       "      <td>Illeggibile (marzer) 1584-06-21</td>\n",
       "      <td>asv, giustizia vecchia, accordi dei garzoni, 1...</td>\n",
       "      <td>NaN</td>\n",
       "      <td>marzer</td>\n",
       "      <td>marzer</td>\n",
       "      <td>marzer</td>\n",
       "      <td>merciaio</td>\n",
       "      <td>Merzeri</td>\n",
       "      <td>1</td>\n",
       "      <td>1</td>\n",
       "      <td>...</td>\n",
       "      <td>0</td>\n",
       "      <td>0</td>\n",
       "      <td>0</td>\n",
       "      <td>0</td>\n",
       "      <td>0</td>\n",
       "      <td>0</td>\n",
       "      <td>0</td>\n",
       "      <td>0</td>\n",
       "      <td>NaN</td>\n",
       "      <td>0</td>\n",
       "    </tr>\n",
       "    <tr>\n",
       "      <th>4</th>\n",
       "      <td>Domenico Morebetti (spechier) 1664-09-13</td>\n",
       "      <td>asv, giustizia vecchia, accordi dei garzoni, 1...</td>\n",
       "      <td>7.0</td>\n",
       "      <td>marzer</td>\n",
       "      <td>marzer</td>\n",
       "      <td>marzer</td>\n",
       "      <td>merciaio</td>\n",
       "      <td>Merzeri</td>\n",
       "      <td>1</td>\n",
       "      <td>1</td>\n",
       "      <td>...</td>\n",
       "      <td>0</td>\n",
       "      <td>0</td>\n",
       "      <td>1</td>\n",
       "      <td>0</td>\n",
       "      <td>0</td>\n",
       "      <td>0</td>\n",
       "      <td>1</td>\n",
       "      <td>0</td>\n",
       "      <td>1.0</td>\n",
       "      <td>0</td>\n",
       "    </tr>\n",
       "  </tbody>\n",
       "</table>\n",
       "<p>5 rows × 47 columns</p>\n",
       "</div>"
      ],
      "text/plain": [
       "                                          page_title  \\\n",
       "0               Carlo Della sosta (Orese) 1592-08-03   \n",
       "1     Antonio quondam Andrea (squerariol) 1583-01-09   \n",
       "2  Cristofollo di Zuane (batioro in carta) 1591-0...   \n",
       "3                    Illeggibile (marzer) 1584-06-21   \n",
       "4           Domenico Morebetti (spechier) 1664-09-13   \n",
       "\n",
       "                                            register  annual_salary  \\\n",
       "0  asv, giustizia vecchia, accordi dei garzoni, 1...            NaN   \n",
       "1  asv, giustizia vecchia, accordi dei garzoni, 1...           12.5   \n",
       "2  asv, giustizia vecchia, accordi dei garzoni, 1...            NaN   \n",
       "3  asv, giustizia vecchia, accordi dei garzoni, 1...            NaN   \n",
       "4  asv, giustizia vecchia, accordi dei garzoni, 1...            7.0   \n",
       "\n",
       "  a_profession profession_code_strict profession_code_gen  \\\n",
       "0        orese                  orese             orefice   \n",
       "1   squerariol             squerariol  lavori allo squero   \n",
       "2      batioro                batioro            battioro   \n",
       "3       marzer                 marzer              marzer   \n",
       "4       marzer                 marzer              marzer   \n",
       "\n",
       "                                      profession_cat  corporation  \\\n",
       "0                                            orefice        Oresi   \n",
       "1                                 lavori allo squero  Squerarioli   \n",
       "2  fabbricatore di foglie/fili/cordelle d'oro o a...     Battioro   \n",
       "3                                           merciaio      Merzeri   \n",
       "4                                           merciaio      Merzeri   \n",
       "\n",
       "   keep_profession_a  complete_profession_a  ...  personal_care_master  \\\n",
       "0                  1                      1  ...                     1   \n",
       "1                  1                      1  ...                     0   \n",
       "2                  1                      1  ...                     0   \n",
       "3                  1                      1  ...                     0   \n",
       "4                  1                      1  ...                     0   \n",
       "\n",
       "   clothes_master  generic_expenses_master  salary_in_kind_master  \\\n",
       "0               1                        1                      0   \n",
       "1               0                        1                      0   \n",
       "2               0                        0                      0   \n",
       "3               0                        0                      0   \n",
       "4               0                        1                      0   \n",
       "\n",
       "   pledge_goods_master  pledge_money_master salary_master female_guarantor  \\\n",
       "0                    0                    0             0                0   \n",
       "1                    0                    0             1                0   \n",
       "2                    0                    0             0                0   \n",
       "3                    0                    0             0                0   \n",
       "4                    0                    0             1                0   \n",
       "\n",
       "  period_cat incremental_salary  \n",
       "0        NaN                  0  \n",
       "1        1.0                  0  \n",
       "2        NaN                  0  \n",
       "3        NaN                  0  \n",
       "4        1.0                  0  \n",
       "\n",
       "[5 rows x 47 columns]"
      ]
     },
     "execution_count": 3,
     "metadata": {},
     "output_type": "execute_result"
    }
   ],
   "source": [
    "df_contracts.head(5)"
   ]
  },
  {
   "cell_type": "code",
   "execution_count": 4,
   "metadata": {},
   "outputs": [
    {
     "data": {
      "text/plain": [
       "Index(['page_title', 'register', 'annual_salary', 'a_profession',\n",
       "       'profession_code_strict', 'profession_code_gen', 'profession_cat',\n",
       "       'corporation', 'keep_profession_a', 'complete_profession_a',\n",
       "       'enrolmentY', 'enrolmentM', 'startY', 'startM', 'length', 'has_fled',\n",
       "       'm_profession', 'm_profession_code_strict', 'm_profession_code_gen',\n",
       "       'm_profession_cat', 'm_corporation', 'keep_profession_m',\n",
       "       'complete_profession_m', 'm_gender', 'm_name', 'm_surname',\n",
       "       'm_patronimic', 'm_atelier', 'm_coords', 'a_name', 'a_age', 'a_gender',\n",
       "       'a_geo_origins', 'a_geo_origins_std', 'a_coords', 'a_quondam',\n",
       "       'accommodation_master', 'personal_care_master', 'clothes_master',\n",
       "       'generic_expenses_master', 'salary_in_kind_master',\n",
       "       'pledge_goods_master', 'pledge_money_master', 'salary_master',\n",
       "       'female_guarantor', 'period_cat', 'incremental_salary'],\n",
       "      dtype='object')"
      ]
     },
     "execution_count": 4,
     "metadata": {},
     "output_type": "execute_result"
    }
   ],
   "source": [
    "df_contracts.columns"
   ]
  },
  {
   "cell_type": "markdown",
   "metadata": {},
   "source": [
    "Every row represents an apprenticeship contract. Contracts were registered both at the guild's and at a public office. This is a sample of contracts from a much larger set of records.\n",
    "\n",
    "Some of the variables we will work with are:\n",
    "* `annual_salary`: the annual salary paid to the apprencice, if any (in Venetian ducats).\n",
    "* `a_profession` to `corporation`: increasingly generic classifications for the apprentice's stated profession.\n",
    "* `startY` and `enrolmentY`: contract start and registration year respectively.\n",
    "* `length`: of the contract, in years.\n",
    "* `m_gender` and `a_gender`: of master and apprentice respectively.\n",
    "* `a_age`: age of the apprentice at entry, in years.\n",
    "* `female_guarantor`: if at least one of the contract's guarantors was female, boolean."
   ]
  },
  {
   "cell_type": "code",
   "execution_count": 5,
   "metadata": {},
   "outputs": [
    {
     "data": {
      "text/html": [
       "<div>\n",
       "<style scoped>\n",
       "    .dataframe tbody tr th:only-of-type {\n",
       "        vertical-align: middle;\n",
       "    }\n",
       "\n",
       "    .dataframe tbody tr th {\n",
       "        vertical-align: top;\n",
       "    }\n",
       "\n",
       "    .dataframe thead th {\n",
       "        text-align: right;\n",
       "    }\n",
       "</style>\n",
       "<table border=\"1\" class=\"dataframe\">\n",
       "  <thead>\n",
       "    <tr style=\"text-align: right;\">\n",
       "      <th></th>\n",
       "      <th>Trascrizione</th>\n",
       "      <th>Standard</th>\n",
       "      <th>Gruppo 0</th>\n",
       "      <th>Gruppo 1</th>\n",
       "      <th>Gruppo 2</th>\n",
       "      <th>Gruppo 3</th>\n",
       "      <th>Gruppo 4</th>\n",
       "      <th>Corporazione</th>\n",
       "    </tr>\n",
       "  </thead>\n",
       "  <tbody>\n",
       "    <tr>\n",
       "      <th>0</th>\n",
       "      <td>al negotio del libraro</td>\n",
       "      <td>librer</td>\n",
       "      <td>libraio</td>\n",
       "      <td>librai - diverse specializzazioni</td>\n",
       "      <td>stampa</td>\n",
       "      <td>altre lavorazioni manifatturiere</td>\n",
       "      <td>beni</td>\n",
       "      <td>libreri, stampatori e ligadori</td>\n",
       "    </tr>\n",
       "    <tr>\n",
       "      <th>1</th>\n",
       "      <td>arte de far arpicordi</td>\n",
       "      <td>arte de far arpicordi</td>\n",
       "      <td>fabbricatore di arpicordi</td>\n",
       "      <td>fabbricatore di strumenti musicali</td>\n",
       "      <td>musica</td>\n",
       "      <td>altri servizi</td>\n",
       "      <td>servizi</td>\n",
       "      <td>NaN</td>\n",
       "    </tr>\n",
       "    <tr>\n",
       "      <th>2</th>\n",
       "      <td>arte de' colori</td>\n",
       "      <td>arte dei colori</td>\n",
       "      <td>fabbricazione/vendita di colori</td>\n",
       "      <td>colori</td>\n",
       "      <td>colori</td>\n",
       "      <td>decorazioni e mestieri dell'arte</td>\n",
       "      <td>beni</td>\n",
       "      <td>spezieri</td>\n",
       "    </tr>\n",
       "  </tbody>\n",
       "</table>\n",
       "</div>"
      ],
      "text/plain": [
       "             Trascrizione               Standard  \\\n",
       "0  al negotio del libraro                 librer   \n",
       "1   arte de far arpicordi  arte de far arpicordi   \n",
       "2         arte de' colori        arte dei colori   \n",
       "\n",
       "                          Gruppo 0                            Gruppo 1  \\\n",
       "0                          libraio   librai - diverse specializzazioni   \n",
       "1        fabbricatore di arpicordi  fabbricatore di strumenti musicali   \n",
       "2  fabbricazione/vendita di colori                              colori   \n",
       "\n",
       "  Gruppo 2                          Gruppo 3 Gruppo 4  \\\n",
       "0   stampa  altre lavorazioni manifatturiere     beni   \n",
       "1   musica                     altri servizi  servizi   \n",
       "2   colori  decorazioni e mestieri dell'arte     beni   \n",
       "\n",
       "                     Corporazione  \n",
       "0  libreri, stampatori e ligadori  \n",
       "1                             NaN  \n",
       "2                        spezieri  "
      ]
     },
     "execution_count": 5,
     "metadata": {},
     "output_type": "execute_result"
    }
   ],
   "source": [
    "df_professions.head(3)"
   ]
  },
  {
   "cell_type": "markdown",
   "metadata": {},
   "source": [
    "The professions data frame contains a classification system for each profession as found in the records (transcription, first column). The last column is the guild (or corporation) which governed the given profession. This work was performed manually by historians. We don't use it here as the classifications we need are already part of the main dataframe."
   ]
  },
  {
   "cell_type": "markdown",
   "metadata": {},
   "source": [
    "### Questions\n",
    "\n",
    "* Plot the distribution (histogram) of the apprentices' age, contract length, annual salary and start year.\n",
    "* Calculate the proportion of female apprentices and masters, and of contracts with a female guarantor.\n",
    "* How likely it is for a female apprentice to have a female master? And for a male apprentice?"
   ]
  },
  {
   "cell_type": "code",
   "execution_count": 6,
   "metadata": {},
   "outputs": [
    {
     "data": {
      "text/plain": [
       "<matplotlib.axes._subplots.AxesSubplot at 0x11cf359b0>"
      ]
     },
     "execution_count": 6,
     "metadata": {},
     "output_type": "execute_result"
    },
    {
     "data": {
      "image/png": "[encoded data removed]",
      "text/plain": [
       "<Figure size 432x288 with 1 Axes>"
      ]
     },
     "metadata": {
      "needs_background": "light"
     },
     "output_type": "display_data"
    }
   ],
   "source": [
    "df_contracts.annual_salary.hist(bins=100)"
   ]
  },
  {
   "cell_type": "code",
   "execution_count": 7,
   "metadata": {},
   "outputs": [
    {
     "data": {
      "text/plain": [
       "<matplotlib.axes._subplots.AxesSubplot at 0x10bdaf588>"
      ]
     },
     "execution_count": 7,
     "metadata": {},
     "output_type": "execute_result"
    },
    {
     "data": {
      "image/png": "[encoded data removed]",
      "text/plain": [
       "<Figure size 432x288 with 1 Axes>"
      ]
     },
     "metadata": {
      "needs_background": "light"
     },
     "output_type": "display_data"
    }
   ],
   "source": [
    "df_contracts[df_contracts.annual_salary < 20].annual_salary.hist(bins=25)"
   ]
  },
  {
   "cell_type": "code",
   "execution_count": 8,
   "metadata": {},
   "outputs": [
    {
     "data": {
      "text/plain": [
       "0.9738941261783901"
      ]
     },
     "execution_count": 8,
     "metadata": {},
     "output_type": "execute_result"
    }
   ],
   "source": [
    "df_contracts.a_gender.sum()/df_contracts.shape[0]"
   ]
  },
  {
   "cell_type": "code",
   "execution_count": 9,
   "metadata": {},
   "outputs": [
    {
     "data": {
      "text/plain": [
       "0.976276805138299"
      ]
     },
     "execution_count": 9,
     "metadata": {},
     "output_type": "execute_result"
    }
   ],
   "source": [
    "df_contracts.m_gender.sum()/df_contracts.shape[0]"
   ]
  },
  {
   "cell_type": "code",
   "execution_count": 8,
   "metadata": {},
   "outputs": [
    {
     "data": {
      "text/plain": [
       "0.7439024390243902"
      ]
     },
     "execution_count": 8,
     "metadata": {},
     "output_type": "execute_result"
    }
   ],
   "source": [
    "df_contracts[(df_contracts.a_gender == 0) & (df_contracts.startY < 1600)].m_gender.sum()\n",
    "    /df_contracts[(df_contracts.a_gender == 0) & (df_contracts.startY < 1600)].shape[0]"
   ]
  },
  {
   "cell_type": "code",
   "execution_count": 6,
   "metadata": {},
   "outputs": [
    {
     "data": {
      "text/plain": [
       "<matplotlib.axes._subplots.AxesSubplot at 0x1a1ab12fd0>"
      ]
     },
     "execution_count": 6,
     "metadata": {},
     "output_type": "execute_result"
    },
    {
     "data": {
      "image/png": "[encoded data removed]",
      "text/plain": [
       "<Figure size 432x288 with 1 Axes>"
      ]
     },
     "metadata": {
      "needs_background": "light"
     },
     "output_type": "display_data"
    }
   ],
   "source": [
    "df_contracts.startY.hist(bins=10)"
   ]
  },
  {
   "cell_type": "markdown",
   "metadata": {},
   "source": [
    "## Looking at empirical distributions"
   ]
  },
  {
   "cell_type": "code",
   "execution_count": 12,
   "metadata": {},
   "outputs": [
    {
     "data": {
      "text/plain": [
       "<matplotlib.axes._subplots.AxesSubplot at 0x1a1ff56cf8>"
      ]
     },
     "execution_count": 12,
     "metadata": {},
     "output_type": "execute_result"
    },
    {
     "data": {
      "image/png": "[encoded data removed]",
      "text/plain": [
       "<Figure size 432x288 with 1 Axes>"
      ]
     },
     "metadata": {
      "needs_background": "light"
     },
     "output_type": "display_data"
    }
   ],
   "source": [
    "df_contracts[df_contracts.annual_salary < 50].annual_salary.hist(bins=40)"
   ]
  },
  {
   "cell_type": "code",
   "execution_count": 13,
   "metadata": {},
   "outputs": [
    {
     "data": {
      "text/plain": [
       "<matplotlib.axes._subplots.AxesSubplot at 0x1a20297198>"
      ]
     },
     "execution_count": 13,
     "metadata": {},
     "output_type": "execute_result"
    },
    {
     "data": {
      "image/png": "[encoded data removed]",
      "text/plain": [
       "<Figure size 432x288 with 1 Axes>"
      ]
     },
     "metadata": {
      "needs_background": "light"
     },
     "output_type": "display_data"
    }
   ],
   "source": [
    "df_contracts[df_contracts.a_age < 30].a_age.hist(bins=25)"
   ]
  },
  {
   "cell_type": "markdown",
   "metadata": {},
   "source": [
    "### Two very important distributions"
   ]
  },
  {
   "cell_type": "markdown",
   "metadata": {},
   "source": [
    "#### Normal\n",
    "\n",
    "Also known as Gaussian, is a bell-shaped distribution with mass around the mean and exponentially decaying on the sides. It is fully characterized by the mean (center of mass) and standard deviation (spread).\n",
    "\n",
    "https://en.wikipedia.org/wiki/Normal_distribution"
   ]
  },
  {
   "cell_type": "code",
   "execution_count": 10,
   "metadata": {},
   "outputs": [
    {
     "data": {
      "text/plain": [
       "<matplotlib.axes._subplots.AxesSubplot at 0x1a1b0a5d68>"
      ]
     },
     "execution_count": 10,
     "metadata": {},
     "output_type": "execute_result"
    },
    {
     "data": {
      "image/png": "[encoded data removed]",
      "text/plain": [
       "<Figure size 432x288 with 1 Axes>"
      ]
     },
     "metadata": {
      "needs_background": "light"
     },
     "output_type": "display_data"
    }
   ],
   "source": [
    "s1 = np.random.normal(5, 1, 10000)\n",
    "sns.distplot(s1)"
   ]
  },
  {
   "cell_type": "code",
   "execution_count": 15,
   "metadata": {},
   "outputs": [
    {
     "data": {
      "text/plain": [
       "<matplotlib.axes._subplots.AxesSubplot at 0x1a20cb6be0>"
      ]
     },
     "execution_count": 15,
     "metadata": {},
     "output_type": "execute_result"
    },
    {
     "data": {
      "image/png": "[encoded data removed]",
      "text/plain": [
       "<Figure size 432x288 with 1 Axes>"
      ]
     },
     "metadata": {
      "needs_background": "light"
     },
     "output_type": "display_data"
    }
   ],
   "source": [
    "# for boxplots see https://en.wikipedia.org/wiki/Interquartile_range (or ask!)\n",
    "sns.boxplot(s1)"
   ]
  },
  {
   "cell_type": "markdown",
   "metadata": {},
   "source": [
    "#### Heavy-tailed\n",
    "Distributions with a small but non-negligible amount of observations with high values. Several probability distributions follow this pattern: https://en.wikipedia.org/wiki/Heavy-tailed_distribution#Common_heavy-tailed_distributions.\n",
    "\n",
    "We pick the lognormal here: https://en.wikipedia.org/wiki/Log-normal_distribution"
   ]
  },
  {
   "cell_type": "code",
   "execution_count": 16,
   "metadata": {},
   "outputs": [
    {
     "data": {
      "text/plain": [
       "<matplotlib.axes._subplots.AxesSubplot at 0x1a20d80860>"
      ]
     },
     "execution_count": 16,
     "metadata": {},
     "output_type": "execute_result"
    },
    {
     "data": {
      "image/png": "[encoded data removed]",
      "text/plain": [
       "<Figure size 432x288 with 1 Axes>"
      ]
     },
     "metadata": {
      "needs_background": "light"
     },
     "output_type": "display_data"
    }
   ],
   "source": [
    "s2 = np.random.lognormal(5, 1, 10000)\n",
    "sns.distplot(s2)"
   ]
  },
  {
   "cell_type": "code",
   "execution_count": 17,
   "metadata": {},
   "outputs": [
    {
     "data": {
      "text/plain": [
       "<matplotlib.axes._subplots.AxesSubplot at 0x1a20ec7278>"
      ]
     },
     "execution_count": 17,
     "metadata": {},
     "output_type": "execute_result"
    },
    {
     "data": {
      "image/png": "[encoded data removed]",
      "text/plain": [
       "<Figure size 432x288 with 1 Axes>"
      ]
     },
     "metadata": {
      "needs_background": "light"
     },
     "output_type": "display_data"
    }
   ],
   "source": [
    "sns.boxplot(s2)"
   ]
  },
  {
   "cell_type": "code",
   "execution_count": 18,
   "metadata": {},
   "outputs": [
    {
     "data": {
      "text/plain": [
       "<matplotlib.axes._subplots.AxesSubplot at 0x1a210c8470>"
      ]
     },
     "execution_count": 18,
     "metadata": {},
     "output_type": "execute_result"
    },
    {
     "data": {
      "image/png": "[encoded data removed]",
      "text/plain": [
       "<Figure size 432x288 with 1 Axes>"
      ]
     },
     "metadata": {
      "needs_background": "light"
     },
     "output_type": "display_data"
    }
   ],
   "source": [
    "# Why \"lognormal\"?\n",
    "\n",
    "sns.distplot(np.log(s2))"
   ]
  },
  {
   "cell_type": "markdown",
   "metadata": {},
   "source": [
    "#### Box plots\n",
    "\n",
    "<img src=\"figures/eda-boxplot.png\" width=\"800px\" heigth=\"800px\">"
   ]
  },
  {
   "cell_type": "markdown",
   "metadata": {},
   "source": [
    "### Outliers, missing values\n",
    "\n",
    "An *outlier* is an observation far from the center of mass of the distribution. It might be an error or a genuine observation: this distinction requires domain knowledge. Outliers infuence the outcomes of several statistics and machine learning methods: it is important to decide how to deal with them.\n",
    "\n",
    "A *missing value* is an observation without a value. There can be many reasons for a missing value: the value might not exist (hence its absence is informative and it should be left empty) or might not be known (hence the value is existing but missing in the dataset and it should be marked as NA).\n",
    "\n",
    "*One way to think about the difference is with this Zen-like koan: An explicit missing value is the presence of an absence; an implicit missing value is the absence of a presence.*"
   ]
  },
  {
   "cell_type": "markdown",
   "metadata": {},
   "source": [
    "## Summary statistics\n",
    "A statistic is a measure over a distribution, and it is said to be *robust* if not sensitive to outliers.\n",
    "\n",
    "* Not robust: min, max, mean, standard deviation.\n",
    "* Robust: mode, median, other quartiles.\n",
    "\n",
    "A closer look at the mean:\n",
    "\n",
    "$\\bar{x} = \\frac{1}{n} \\sum_{i}x_i$\n",
    "\n",
    "And variance (the standard deviation is the square root of the variance):\n",
    "\n",
    "$Var(x) = \\frac{1}{n} \\sum_{i}(x_i - \\bar{x})^2$"
   ]
  },
  {
   "cell_type": "markdown",
   "metadata": {},
   "source": [
    "<img src=\"figures/2560px-Comparison_mean_median_mode.svg.png\" width=\"400px\" heigth=\"400px\">"
   ]
  },
  {
   "cell_type": "code",
   "execution_count": 19,
   "metadata": {},
   "outputs": [
    {
     "name": "stdout",
     "output_type": "stream",
     "text": [
      "4.992350413024771\n",
      "245.32716462110596\n"
     ]
    }
   ],
   "source": [
    "# Not robust: min, max, mean, mode, standard deviation\n",
    "\n",
    "print(np.mean(s1)) # should be 5\n",
    "print(np.mean(s2))"
   ]
  },
  {
   "cell_type": "code",
   "execution_count": 20,
   "metadata": {},
   "outputs": [
    {
     "name": "stdout",
     "output_type": "stream",
     "text": [
      "5.003974843024547\n",
      "148.8969352474893\n"
     ]
    }
   ],
   "source": [
    "# Robust: median, other quartiles\n",
    "\n",
    "print(np.quantile(s1, 0.5)) # should coincide with mean and mode\n",
    "print(np.quantile(s2, 0.5))"
   ]
  },
  {
   "cell_type": "markdown",
   "metadata": {},
   "source": [
    "#### Questions\n",
    "\n",
    "* Calculate the min, max, mode and sd. *hint: explore the numpy documentation!*\n",
    "* Calculate the 90% quantile values.\n",
    "* Consider our normally distributed data in s1. Add an outlier (e.g., value 100). What happens to the mean and mode? Write down your answer and then check."
   ]
  },
  {
   "cell_type": "code",
   "execution_count": 13,
   "metadata": {},
   "outputs": [
    {
     "data": {
      "text/html": [
       "<div>\n",
       "<style scoped>\n",
       "    .dataframe tbody tr th:only-of-type {\n",
       "        vertical-align: middle;\n",
       "    }\n",
       "\n",
       "    .dataframe tbody tr th {\n",
       "        vertical-align: top;\n",
       "    }\n",
       "\n",
       "    .dataframe thead th {\n",
       "        text-align: right;\n",
       "    }\n",
       "</style>\n",
       "<table border=\"1\" class=\"dataframe\">\n",
       "  <thead>\n",
       "    <tr style=\"text-align: right;\">\n",
       "      <th></th>\n",
       "      <th>annual_salary</th>\n",
       "      <th>a_age</th>\n",
       "      <th>length</th>\n",
       "    </tr>\n",
       "  </thead>\n",
       "  <tbody>\n",
       "    <tr>\n",
       "      <th>count</th>\n",
       "      <td>7870.000000</td>\n",
       "      <td>9303.000000</td>\n",
       "      <td>9645.000000</td>\n",
       "    </tr>\n",
       "    <tr>\n",
       "      <th>mean</th>\n",
       "      <td>5.916921</td>\n",
       "      <td>14.266688</td>\n",
       "      <td>5.005694</td>\n",
       "    </tr>\n",
       "    <tr>\n",
       "      <th>std</th>\n",
       "      <td>6.985214</td>\n",
       "      <td>2.902770</td>\n",
       "      <td>1.462343</td>\n",
       "    </tr>\n",
       "    <tr>\n",
       "      <th>min</th>\n",
       "      <td>0.166667</td>\n",
       "      <td>1.000000</td>\n",
       "      <td>0.083333</td>\n",
       "    </tr>\n",
       "    <tr>\n",
       "      <th>25%</th>\n",
       "      <td>3.000000</td>\n",
       "      <td>12.000000</td>\n",
       "      <td>4.000000</td>\n",
       "    </tr>\n",
       "    <tr>\n",
       "      <th>50%</th>\n",
       "      <td>4.000000</td>\n",
       "      <td>14.000000</td>\n",
       "      <td>5.000000</td>\n",
       "    </tr>\n",
       "    <tr>\n",
       "      <th>75%</th>\n",
       "      <td>6.000000</td>\n",
       "      <td>16.000000</td>\n",
       "      <td>6.000000</td>\n",
       "    </tr>\n",
       "    <tr>\n",
       "      <th>max</th>\n",
       "      <td>180.000000</td>\n",
       "      <td>50.000000</td>\n",
       "      <td>15.000000</td>\n",
       "    </tr>\n",
       "  </tbody>\n",
       "</table>\n",
       "</div>"
      ],
      "text/plain": [
       "       annual_salary        a_age       length\n",
       "count    7870.000000  9303.000000  9645.000000\n",
       "mean        5.916921    14.266688     5.005694\n",
       "std         6.985214     2.902770     1.462343\n",
       "min         0.166667     1.000000     0.083333\n",
       "25%         3.000000    12.000000     4.000000\n",
       "50%         4.000000    14.000000     5.000000\n",
       "75%         6.000000    16.000000     6.000000\n",
       "max       180.000000    50.000000    15.000000"
      ]
     },
     "execution_count": 13,
     "metadata": {},
     "output_type": "execute_result"
    }
   ],
   "source": [
    "# Let's explore our dataset\n",
    "df_contracts[[\"annual_salary\",\"a_age\",\"length\"]].describe()"
   ]
  },
  {
   "cell_type": "markdown",
   "metadata": {},
   "source": [
    "## Relating two variables\n",
    "\n",
    "#### Covariance\n",
    "\n",
    "Measure of joint linear variability of two variables:\n",
    "\n",
    "<img src=\"figures/covariance.png\" width=\"400px\" heigth=\"400px\">\n",
    "\n",
    "Its normalized version is called the (Pearson's) correlation coefficient:\n",
    "\n",
    "<img src=\"figures/pearson.png\" width=\"400px\" heigth=\"400px\">\n",
    "\n",
    "Correlation is helpful to spot possible relations, but is of tricky interpretation and is not exhaustive:\n",
    "\n",
    "<img src=\"figures/800px-Correlation_examples2.svg.png\" width=\"700px\" heigth=\"&00px\">\n",
    "\n",
    "See: https://en.wikipedia.org/wiki/Covariance and https://en.wikipedia.org/wiki/Pearson_correlation_coefficient.\n",
    "\n",
    "*Note: correlation is not causation!*"
   ]
  },
  {
   "cell_type": "code",
   "execution_count": 22,
   "metadata": {},
   "outputs": [
    {
     "data": {
      "text/html": [
       "<div>\n",
       "<style scoped>\n",
       "    .dataframe tbody tr th:only-of-type {\n",
       "        vertical-align: middle;\n",
       "    }\n",
       "\n",
       "    .dataframe tbody tr th {\n",
       "        vertical-align: top;\n",
       "    }\n",
       "\n",
       "    .dataframe thead th {\n",
       "        text-align: right;\n",
       "    }\n",
       "</style>\n",
       "<table border=\"1\" class=\"dataframe\">\n",
       "  <thead>\n",
       "    <tr style=\"text-align: right;\">\n",
       "      <th></th>\n",
       "      <th>annual_salary</th>\n",
       "      <th>a_age</th>\n",
       "      <th>length</th>\n",
       "    </tr>\n",
       "  </thead>\n",
       "  <tbody>\n",
       "    <tr>\n",
       "      <th>annual_salary</th>\n",
       "      <td>1.000000</td>\n",
       "      <td>0.205404</td>\n",
       "      <td>-0.361611</td>\n",
       "    </tr>\n",
       "    <tr>\n",
       "      <th>a_age</th>\n",
       "      <td>0.205404</td>\n",
       "      <td>1.000000</td>\n",
       "      <td>-0.430062</td>\n",
       "    </tr>\n",
       "    <tr>\n",
       "      <th>length</th>\n",
       "      <td>-0.361611</td>\n",
       "      <td>-0.430062</td>\n",
       "      <td>1.000000</td>\n",
       "    </tr>\n",
       "  </tbody>\n",
       "</table>\n",
       "</div>"
      ],
      "text/plain": [
       "               annual_salary     a_age    length\n",
       "annual_salary       1.000000  0.205404 -0.361611\n",
       "a_age               0.205404  1.000000 -0.430062\n",
       "length             -0.361611 -0.430062  1.000000"
      ]
     },
     "execution_count": 22,
     "metadata": {},
     "output_type": "execute_result"
    }
   ],
   "source": [
    "df_contracts[[\"annual_salary\",\"a_age\",\"length\"]].corr()"
   ]
  },
  {
   "cell_type": "code",
   "execution_count": 23,
   "metadata": {},
   "outputs": [
    {
     "data": {
      "text/plain": [
       "<matplotlib.axes._subplots.AxesSubplot at 0x1a21219da0>"
      ]
     },
     "execution_count": 23,
     "metadata": {},
     "output_type": "execute_result"
    },
    {
     "data": {
      "image/png": "[encoded data removed]",
      "text/plain": [
       "<Figure size 432x288 with 1 Axes>"
      ]
     },
     "metadata": {
      "needs_background": "light"
     },
     "output_type": "display_data"
    }
   ],
   "source": [
    "sns.scatterplot(df_contracts.length,df_contracts.annual_salary)"
   ]
  },
  {
   "cell_type": "markdown",
   "metadata": {},
   "source": [
    "#### Questions\n",
    "\n",
    "* Try to explore the correlation of other variables in the dataset.\n",
    "* Can you think of a possible motivation for the trend we see: older apprentices with a shorter contract getting on average a higher annual salary?"
   ]
  },
  {
   "cell_type": "markdown",
   "metadata": {},
   "source": [
    "## Sampling and uncertainty (mention)\n",
    "\n",
    "Often, we work with samples and we want the sample to be representative of the population it is taken from, in order to draw conclusions that generalise from the sample to the full population.\n",
    "\n",
    "Sampling is *tricky*. Samples have *variance* (variation between samples from the same population) and *bias* (systematic variation from the population)."
   ]
  },
  {
   "cell_type": "markdown",
   "metadata": {},
   "source": [
    "# Part 2: working with texts\n",
    "\n",
    "Let's get some basics (or a refresher) of working with texts in Python. Texts are sequences of discrete symbols (words or, more generically, tokens).\n",
    "\n",
    "Key challenge: representing text for further processing. Two mainstream approaches:\n",
    "* *Bag of words*: a text is a collection of tokens occurring with a certain frequence and assumed independently from each other within the text. The mapping from texts to features is determinsitic and straighforward, each text is represented as a vector of the size of the vocabulary.\n",
    "* *Embeddings*: a method is used (typically, neural networks), to learn a mapping from each token to a (usually small) vector representing it. A text can be represented in turn as an aggregation of these embeddings."
   ]
  },
  {
   "cell_type": "markdown",
   "metadata": {},
   "source": [
    "## Import the dataset\n",
    "Let us import the Elon Musk's tweets dataset in memory.\n",
    "\n",
    "<img src=\"figures/elon_loop.jpeg\" width=\"400px\" heigth=\"400px\">"
   ]
  },
  {
   "cell_type": "code",
   "execution_count": 3,
   "metadata": {},
   "outputs": [],
   "source": [
    "root_folder = \"../data/musk_tweets\"\n",
    "df_elon = pd.read_csv(codecs.open(os.path.join(root_folder,\"elonmusk_tweets.csv\"), encoding=\"utf8\"), sep=\",\")\n",
    "df_elon['text'] = df_elon['text'].str[1:]"
   ]
  },
  {
   "cell_type": "code",
   "execution_count": 4,
   "metadata": {},
   "outputs": [
    {
     "data": {
      "text/html": [
       "<div>\n",
       "<style scoped>\n",
       "    .dataframe tbody tr th:only-of-type {\n",
       "        vertical-align: middle;\n",
       "    }\n",
       "\n",
       "    .dataframe tbody tr th {\n",
       "        vertical-align: top;\n",
       "    }\n",
       "\n",
       "    .dataframe thead th {\n",
       "        text-align: right;\n",
       "    }\n",
       "</style>\n",
       "<table border=\"1\" class=\"dataframe\">\n",
       "  <thead>\n",
       "    <tr style=\"text-align: right;\">\n",
       "      <th></th>\n",
       "      <th>id</th>\n",
       "      <th>created_at</th>\n",
       "      <th>text</th>\n",
       "    </tr>\n",
       "  </thead>\n",
       "  <tbody>\n",
       "    <tr>\n",
       "      <th>0</th>\n",
       "      <td>849636868052275200</td>\n",
       "      <td>2017-04-05 14:56:29</td>\n",
       "      <td>'And so the robots spared humanity ... https:/...</td>\n",
       "    </tr>\n",
       "    <tr>\n",
       "      <th>1</th>\n",
       "      <td>848988730585096192</td>\n",
       "      <td>2017-04-03 20:01:01</td>\n",
       "      <td>\"@ForIn2020 @waltmossberg @mims @defcon_5 Exac...</td>\n",
       "    </tr>\n",
       "    <tr>\n",
       "      <th>2</th>\n",
       "      <td>848943072423497728</td>\n",
       "      <td>2017-04-03 16:59:35</td>\n",
       "      <td>'@waltmossberg @mims @defcon_5 Et tu, Walt?'</td>\n",
       "    </tr>\n",
       "    <tr>\n",
       "      <th>3</th>\n",
       "      <td>848935705057280001</td>\n",
       "      <td>2017-04-03 16:30:19</td>\n",
       "      <td>'Stormy weather in Shortville ...'</td>\n",
       "    </tr>\n",
       "    <tr>\n",
       "      <th>4</th>\n",
       "      <td>848416049573658624</td>\n",
       "      <td>2017-04-02 06:05:23</td>\n",
       "      <td>\"@DaveLeeBBC @verge Coal is dying due to nat g...</td>\n",
       "    </tr>\n",
       "  </tbody>\n",
       "</table>\n",
       "</div>"
      ],
      "text/plain": [
       "                   id           created_at  \\\n",
       "0  849636868052275200  2017-04-05 14:56:29   \n",
       "1  848988730585096192  2017-04-03 20:01:01   \n",
       "2  848943072423497728  2017-04-03 16:59:35   \n",
       "3  848935705057280001  2017-04-03 16:30:19   \n",
       "4  848416049573658624  2017-04-02 06:05:23   \n",
       "\n",
       "                                                text  \n",
       "0  'And so the robots spared humanity ... https:/...  \n",
       "1  \"@ForIn2020 @waltmossberg @mims @defcon_5 Exac...  \n",
       "2       '@waltmossberg @mims @defcon_5 Et tu, Walt?'  \n",
       "3                 'Stormy weather in Shortville ...'  \n",
       "4  \"@DaveLeeBBC @verge Coal is dying due to nat g...  "
      ]
     },
     "execution_count": 4,
     "metadata": {},
     "output_type": "execute_result"
    }
   ],
   "source": [
    "df_elon.head(5)"
   ]
  },
  {
   "cell_type": "code",
   "execution_count": 5,
   "metadata": {},
   "outputs": [
    {
     "data": {
      "text/plain": [
       "(2819, 3)"
      ]
     },
     "execution_count": 5,
     "metadata": {},
     "output_type": "execute_result"
    }
   ],
   "source": [
    "df_elon.shape"
   ]
  },
  {
   "cell_type": "markdown",
   "metadata": {},
   "source": [
    "## Natural Language Processing in Python"
   ]
  },
  {
   "cell_type": "code",
   "execution_count": 6,
   "metadata": {},
   "outputs": [],
   "source": [
    "# import some of the most popular libraries for NLP in Python\n",
    "import spacy\n",
    "import nltk\n",
    "import string\n",
    "import sklearn"
   ]
  },
  {
   "cell_type": "code",
   "execution_count": 7,
   "metadata": {},
   "outputs": [],
   "source": [
    "# nltk.download('punkt')"
   ]
  },
  {
   "cell_type": "markdown",
   "metadata": {},
   "source": [
    "A typical NLP pipeline might look like the following:\n",
    "    \n",
    "<img src=\"figures/spacy_pipeline.png\" width=\"600px\" heigth=\"600px\">\n",
    "\n",
    "### Tokenization: splitting a text into constituent tokens."
   ]
  },
  {
   "cell_type": "code",
   "execution_count": 8,
   "metadata": {},
   "outputs": [],
   "source": [
    "from nltk.tokenize import TweetTokenizer, word_tokenize\n",
    "tknzr = TweetTokenizer(preserve_case=True, reduce_len=False, strip_handles=False)"
   ]
  },
  {
   "cell_type": "code",
   "execution_count": 9,
   "metadata": {},
   "outputs": [
    {
     "name": "stdout",
     "output_type": "stream",
     "text": [
      "\"@ForIn2020 @waltmossberg @mims @defcon_5 Exactly. Tesla is absurdly overvalued if based on the past, but that's irr\\xe2\\x80\\xa6 https://t.co/qQcTqkzgMl\"\n"
     ]
    }
   ],
   "source": [
    "example_tweet = df_elon.text[1]\n",
    "print(example_tweet)"
   ]
  },
  {
   "cell_type": "code",
   "execution_count": 10,
   "metadata": {},
   "outputs": [
    {
     "name": "stdout",
     "output_type": "stream",
     "text": [
      "['\"', '@ForIn2020', '@waltmossberg', '@mims', '@defcon_5', 'Exactly', '.', 'Tesla', 'is', 'absurdly', 'overvalued', 'if', 'based', 'on', 'the', 'past', ',', 'but', \"that's\", 'irr', '\\\\', 'xe2', '\\\\', 'x80', '\\\\', 'xa6', 'https://t.co/qQcTqkzgMl', '\"']\n",
      "['``', '@', 'ForIn2020', '@', 'waltmossberg', '@', 'mims', '@', 'defcon_5', 'Exactly', '.', 'Tesla', 'is', 'absurdly', 'overvalued', 'if', 'based', 'on', 'the', 'past', ',', 'but', 'that', \"'s\", 'irr\\\\xe2\\\\x80\\\\xa6', 'https', ':', '//t.co/qQcTqkzgMl', \"''\"]\n"
     ]
    }
   ],
   "source": [
    "tkz1 = tknzr.tokenize(example_tweet)\n",
    "print(tkz1)\n",
    "tkz2 = word_tokenize(example_tweet)\n",
    "print(tkz2)"
   ]
  },
  {
   "cell_type": "markdown",
   "metadata": {},
   "source": [
    "Question: can you spot what the Twitter tokenizer is doing instead of a standard one?"
   ]
  },
  {
   "cell_type": "code",
   "execution_count": 12,
   "metadata": {},
   "outputs": [
    {
     "data": {
      "text/plain": [
       "'!\"#$%&\\'()*+,-./:;<=>?@[\\\\]^_`{|}~'"
      ]
     },
     "execution_count": 12,
     "metadata": {},
     "output_type": "execute_result"
    }
   ],
   "source": [
    "string.punctuation"
   ]
  },
  {
   "cell_type": "code",
   "execution_count": 11,
   "metadata": {},
   "outputs": [],
   "source": [
    "# some more pre-processing\n",
    "\n",
    "def filter(tweet):\n",
    "    \n",
    "    # remove punctuation and short words and urls\n",
    "    tweet = [t for t in tweet if t not in string.punctuation and len(t) > 3 and not t.startswith(\"http\")]\n",
    "    return tweet\n",
    "\n",
    "def tokenize_and_string(tweet):\n",
    "    \n",
    "    tkz = tknzr.tokenize(tweet)\n",
    "    \n",
    "    tkz = filter(tkz)\n",
    "    \n",
    "    return \" \".join(tkz)"
   ]
  },
  {
   "cell_type": "code",
   "execution_count": 13,
   "metadata": {},
   "outputs": [
    {
     "name": "stdout",
     "output_type": "stream",
     "text": [
      "['\"', '@ForIn2020', '@waltmossberg', '@mims', '@defcon_5', 'Exactly', '.', 'Tesla', 'is', 'absurdly', 'overvalued', 'if', 'based', 'on', 'the', 'past', ',', 'but', \"that's\", 'irr', '\\\\', 'xe2', '\\\\', 'x80', '\\\\', 'xa6', 'https://t.co/qQcTqkzgMl', '\"']\n",
      "['@ForIn2020', '@waltmossberg', '@mims', '@defcon_5', 'Exactly', 'Tesla', 'absurdly', 'overvalued', 'based', 'past', \"that's\"]\n"
     ]
    }
   ],
   "source": [
    "print(tkz1)\n",
    "print(filter(tkz1))"
   ]
  },
  {
   "cell_type": "code",
   "execution_count": 14,
   "metadata": {},
   "outputs": [],
   "source": [
    "df_elon[\"clean_text\"] = df_elon[\"text\"].apply(tokenize_and_string)"
   ]
  },
  {
   "cell_type": "code",
   "execution_count": 15,
   "metadata": {},
   "outputs": [
    {
     "data": {
      "text/html": [
       "<div>\n",
       "<style scoped>\n",
       "    .dataframe tbody tr th:only-of-type {\n",
       "        vertical-align: middle;\n",
       "    }\n",
       "\n",
       "    .dataframe tbody tr th {\n",
       "        vertical-align: top;\n",
       "    }\n",
       "\n",
       "    .dataframe thead th {\n",
       "        text-align: right;\n",
       "    }\n",
       "</style>\n",
       "<table border=\"1\" class=\"dataframe\">\n",
       "  <thead>\n",
       "    <tr style=\"text-align: right;\">\n",
       "      <th></th>\n",
       "      <th>id</th>\n",
       "      <th>created_at</th>\n",
       "      <th>text</th>\n",
       "      <th>clean_text</th>\n",
       "    </tr>\n",
       "  </thead>\n",
       "  <tbody>\n",
       "    <tr>\n",
       "      <th>0</th>\n",
       "      <td>849636868052275200</td>\n",
       "      <td>2017-04-05 14:56:29</td>\n",
       "      <td>'And so the robots spared humanity ... https:/...</td>\n",
       "      <td>robots spared humanity</td>\n",
       "    </tr>\n",
       "    <tr>\n",
       "      <th>1</th>\n",
       "      <td>848988730585096192</td>\n",
       "      <td>2017-04-03 20:01:01</td>\n",
       "      <td>\"@ForIn2020 @waltmossberg @mims @defcon_5 Exac...</td>\n",
       "      <td>@ForIn2020 @waltmossberg @mims @defcon_5 Exact...</td>\n",
       "    </tr>\n",
       "    <tr>\n",
       "      <th>2</th>\n",
       "      <td>848943072423497728</td>\n",
       "      <td>2017-04-03 16:59:35</td>\n",
       "      <td>'@waltmossberg @mims @defcon_5 Et tu, Walt?'</td>\n",
       "      <td>@waltmossberg @mims @defcon_5 Walt</td>\n",
       "    </tr>\n",
       "    <tr>\n",
       "      <th>3</th>\n",
       "      <td>848935705057280001</td>\n",
       "      <td>2017-04-03 16:30:19</td>\n",
       "      <td>'Stormy weather in Shortville ...'</td>\n",
       "      <td>Stormy weather Shortville</td>\n",
       "    </tr>\n",
       "    <tr>\n",
       "      <th>4</th>\n",
       "      <td>848416049573658624</td>\n",
       "      <td>2017-04-02 06:05:23</td>\n",
       "      <td>\"@DaveLeeBBC @verge Coal is dying due to nat g...</td>\n",
       "      <td>@DaveLeeBBC @verge Coal dying fracking It's ba...</td>\n",
       "    </tr>\n",
       "  </tbody>\n",
       "</table>\n",
       "</div>"
      ],
      "text/plain": [
       "                   id           created_at  \\\n",
       "0  849636868052275200  2017-04-05 14:56:29   \n",
       "1  848988730585096192  2017-04-03 20:01:01   \n",
       "2  848943072423497728  2017-04-03 16:59:35   \n",
       "3  848935705057280001  2017-04-03 16:30:19   \n",
       "4  848416049573658624  2017-04-02 06:05:23   \n",
       "\n",
       "                                                text  \\\n",
       "0  'And so the robots spared humanity ... https:/...   \n",
       "1  \"@ForIn2020 @waltmossberg @mims @defcon_5 Exac...   \n",
       "2       '@waltmossberg @mims @defcon_5 Et tu, Walt?'   \n",
       "3                 'Stormy weather in Shortville ...'   \n",
       "4  \"@DaveLeeBBC @verge Coal is dying due to nat g...   \n",
       "\n",
       "                                          clean_text  \n",
       "0                             robots spared humanity  \n",
       "1  @ForIn2020 @waltmossberg @mims @defcon_5 Exact...  \n",
       "2                 @waltmossberg @mims @defcon_5 Walt  \n",
       "3                          Stormy weather Shortville  \n",
       "4  @DaveLeeBBC @verge Coal dying fracking It's ba...  "
      ]
     },
     "execution_count": 15,
     "metadata": {},
     "output_type": "execute_result"
    }
   ],
   "source": [
    "df_elon.head(5)"
   ]
  },
  {
   "cell_type": "code",
   "execution_count": null,
   "metadata": {},
   "outputs": [],
   "source": [
    "# save cleaned up version\n",
    "\n",
    "df_elon.to_csv(os.path.join(root_folder,\"df_elon.csv\"), index=False)"
   ]
  },
  {
   "cell_type": "markdown",
   "metadata": {},
   "source": [
    "### Building a dictionary"
   ]
  },
  {
   "cell_type": "code",
   "execution_count": 16,
   "metadata": {},
   "outputs": [
    {
     "data": {
      "text/plain": [
       "(2819, 7864)"
      ]
     },
     "execution_count": 16,
     "metadata": {},
     "output_type": "execute_result"
    }
   ],
   "source": [
    "from sklearn.feature_extraction.text import CountVectorizer\n",
    "count_vect = CountVectorizer(lowercase=False, tokenizer=tknzr.tokenize)\n",
    "X_count = count_vect.fit_transform(df_elon.clean_text)\n",
    "X_count.shape"
   ]
  },
  {
   "cell_type": "code",
   "execution_count": 17,
   "metadata": {},
   "outputs": [
    {
     "data": {
      "text/plain": [
       "6617"
      ]
     },
     "execution_count": 17,
     "metadata": {},
     "output_type": "execute_result"
    }
   ],
   "source": [
    "word_list = count_vect.get_feature_names()  \n",
    "count_list = X_count.toarray().sum(axis=0)\n",
    "dictionary = dict(zip(word_list,count_list))\n",
    "count_vect.vocabulary_.get(\"robots\")"
   ]
  },
  {
   "cell_type": "code",
   "execution_count": 18,
   "metadata": {},
   "outputs": [
    {
     "data": {
      "text/plain": [
       "3"
      ]
     },
     "execution_count": 18,
     "metadata": {},
     "output_type": "execute_result"
    }
   ],
   "source": [
    "X_count[:,count_vect.vocabulary_.get(\"robots\")].toarray().sum()"
   ]
  },
  {
   "cell_type": "code",
   "execution_count": 19,
   "metadata": {},
   "outputs": [
    {
     "data": {
      "text/plain": [
       "3"
      ]
     },
     "execution_count": 19,
     "metadata": {},
     "output_type": "execute_result"
    }
   ],
   "source": [
    "dictionary[\"robots\"]"
   ]
  },
  {
   "cell_type": "markdown",
   "metadata": {},
   "source": [
    "#### Questions\n",
    "\n",
    "* Find the tokens most used by Elon.\n",
    "* Find the twitter users most referred to by Elon (hint: use the @ handler to spot them)."
   ]
  },
  {
   "cell_type": "code",
   "execution_count": 41,
   "metadata": {},
   "outputs": [
    {
     "data": {
      "text/plain": [
       "[('Tesla', 322),\n",
       " ('Model', 236),\n",
       " ('that', 223),\n",
       " ('will', 218),\n",
       " ('with', 177),\n",
       " ('@SpaceX', 169),\n",
       " ('from', 163),\n",
       " ('this', 159),\n",
       " ('@TeslaMotors', 149),\n",
       " ('launch', 124)]"
      ]
     },
     "execution_count": 41,
     "metadata": {},
     "output_type": "execute_result"
    }
   ],
   "source": [
    "dictionary_list = sorted(dictionary.items(), key=lambda x:x[1], reverse=True)\n",
    "[d for d in dictionary_list][:10]"
   ]
  },
  {
   "cell_type": "code",
   "execution_count": 42,
   "metadata": {},
   "outputs": [
    {
     "data": {
      "text/plain": [
       "[('@SpaceX', 169),\n",
       " ('@TeslaMotors', 149),\n",
       " ('@elonmusk', 85),\n",
       " ('@NASA', 48),\n",
       " ('@Space_Station', 19),\n",
       " ('@FredericLambert', 17),\n",
       " ('@ID_AA_Carmack', 15),\n",
       " ('@WIRED', 14),\n",
       " ('@vicentes', 14),\n",
       " ('@BadAstronomer', 11)]"
      ]
     },
     "execution_count": 42,
     "metadata": {},
     "output_type": "execute_result"
    }
   ],
   "source": [
    "dictionary_list_users = sorted(dictionary.items(), key=lambda x:x[1], reverse=True)\n",
    "[d for d in dictionary_list if d[0].startswith('@')][:10]"
   ]
  },
  {
   "cell_type": "markdown",
   "metadata": {},
   "source": [
    "### Representing tweets as vectors\n",
    "\n",
    "Texts are of variable length and need to be represented numerically in some way. Most typically, we represent them as *equally-sized vectors*.\n",
    "\n",
    "Actually, this is what we have already done! Let's take a closer look at `X_count` above.."
   ]
  },
  {
   "cell_type": "code",
   "execution_count": 43,
   "metadata": {},
   "outputs": [
    {
     "data": {
      "text/plain": [
       "id                                           849636868052275200\n",
       "created_at                                  2017-04-05 14:56:29\n",
       "text          'And so the robots spared humanity ... https:/...\n",
       "clean_text                               robots spared humanity\n",
       "Name: 0, dtype: object"
      ]
     },
     "execution_count": 43,
     "metadata": {},
     "output_type": "execute_result"
    }
   ],
   "source": [
    "# This is the first Tweet of the data frame\n",
    "\n",
    "df_elon.loc[0]"
   ]
  },
  {
   "cell_type": "code",
   "execution_count": 44,
   "metadata": {},
   "outputs": [],
   "source": [
    "# let's get the vector representation for this Tweet\n",
    "\n",
    "vector_representation = X_count[0,:]"
   ]
  },
  {
   "cell_type": "code",
   "execution_count": 45,
   "metadata": {},
   "outputs": [
    {
     "data": {
      "text/plain": [
       "3"
      ]
     },
     "execution_count": 45,
     "metadata": {},
     "output_type": "execute_result"
    }
   ],
   "source": [
    "# there are 3 positions not to zero, as we would expect: the vector contains 1 in the columns related to the 3 words that make up the Tweet. \n",
    "# It would contain a number higher than 1 if a given word were occurring multiple times.\n",
    "\n",
    "np.sum(vector_representation)"
   ]
  },
  {
   "cell_type": "code",
   "execution_count": 46,
   "metadata": {},
   "outputs": [
    {
     "name": "stdout",
     "output_type": "stream",
     "text": [
      "1\n",
      "1\n",
      "1\n"
     ]
    }
   ],
   "source": [
    "# Let's check that indeed the vector contains 1s for the right words\n",
    "# Remember, the vector has shape (1 x size of the vocabulary)\n",
    "\n",
    "print(vector_representation[0,count_vect.vocabulary_.get(\"robots\")])\n",
    "print(vector_representation[0,count_vect.vocabulary_.get(\"spared\")])\n",
    "print(vector_representation[0,count_vect.vocabulary_.get(\"humanity\")])"
   ]
  },
  {
   "cell_type": "markdown",
   "metadata": {},
   "source": [
    "### Term Frequency - Inverse Document Frequency\n",
    "We can use boolean counts (1/0) and raw counts (as we did before) to represent a Tweet over the space of the vocabulary, but there exist improvements on this basic idea. For example, the TF-IDF weighting scheme:\n",
    "\n",
    "$tfidf(t, d, D) = tf(t, d) \\cdot idf(t, D)$\n",
    "\n",
    "$tf(t, d) = f_{t,d}$\n",
    "\n",
    "$idf(t, D) = log \\Big( \\frac{|D|}{|{d \\in D: t \\in d}|} \\Big)$"
   ]
  },
  {
   "cell_type": "code",
   "execution_count": 47,
   "metadata": {},
   "outputs": [
    {
     "data": {
      "text/plain": [
       "(2819, 7864)"
      ]
     },
     "execution_count": 47,
     "metadata": {},
     "output_type": "execute_result"
    }
   ],
   "source": [
    "from sklearn.feature_extraction.text import TfidfVectorizer\n",
    "count_vect = TfidfVectorizer(lowercase=False, tokenizer=tknzr.tokenize)\n",
    "X_count_tfidf = count_vect.fit_transform(df_elon.clean_text)\n",
    "X_count_tfidf.shape"
   ]
  },
  {
   "cell_type": "code",
   "execution_count": 48,
   "metadata": {},
   "outputs": [
    {
     "data": {
      "text/plain": [
       "1.7226760995112569"
      ]
     },
     "execution_count": 48,
     "metadata": {},
     "output_type": "execute_result"
    }
   ],
   "source": [
    "X_count_tfidf[0,:].sum()"
   ]
  },
  {
   "cell_type": "code",
   "execution_count": 49,
   "metadata": {},
   "outputs": [
    {
     "data": {
      "text/plain": [
       "3"
      ]
     },
     "execution_count": 49,
     "metadata": {},
     "output_type": "execute_result"
    }
   ],
   "source": [
    "X_count[0,:].sum()"
   ]
  },
  {
   "cell_type": "markdown",
   "metadata": {},
   "source": [
    "#### Sparse vectors (mention)\n",
    "How is Python representing these vectors in memory? Most of their cells are set to zero. \n",
    "\n",
    "We call any vector or matrix whose cells are mostly to zero *sparse*.\n",
    "There are efficient ways to store them in memory."
   ]
  },
  {
   "cell_type": "code",
   "execution_count": 50,
   "metadata": {},
   "outputs": [
    {
     "data": {
      "text/plain": [
       "<1x7864 sparse matrix of type '<class 'numpy.float64'>'\n",
       "\twith 3 stored elements in Compressed Sparse Row format>"
      ]
     },
     "execution_count": 50,
     "metadata": {},
     "output_type": "execute_result"
    }
   ],
   "source": [
    "X_count_tfidf[0,:]"
   ]
  },
  {
   "cell_type": "markdown",
   "metadata": {},
   "source": [
    "### Spacy pipelines\n",
    "\n",
    "Useful to construct sequences of pre-processing steps: https://spacy.io/usage/processing-pipelines."
   ]
  },
  {
   "cell_type": "code",
   "execution_count": null,
   "metadata": {},
   "outputs": [],
   "source": [
    "# Install the required model\n",
    "\n",
    "#!python -m spacy download en_core_web_sm"
   ]
  },
  {
   "cell_type": "code",
   "execution_count": null,
   "metadata": {},
   "outputs": [],
   "source": [
    "# without this line spacy is not able to find the downloaded model\n",
    "\n",
    "#!python -m spacy link --force en_core_web_sm en_core_web_sm"
   ]
  },
  {
   "cell_type": "code",
   "execution_count": 51,
   "metadata": {},
   "outputs": [],
   "source": [
    "# Load a pre-trained pipeline (Web Small): https://spacy.io/usage/models\n",
    "\n",
    "#!python -m spacy download en_core_web_sm\n",
    "nlp = spacy.load('en_core_web_sm')"
   ]
  },
  {
   "cell_type": "markdown",
   "metadata": {},
   "source": [
    "*.. the model’s meta.json tells spaCy to use the language \"en\" and the pipeline [\"tagger\", \"parser\", \"ner\"]. spaCy will then initialize spacy.lang.en.English, and create each pipeline component and add it to the processing pipeline. It’ll then load in the model’s data from its data directory and return the modified Language class for you to use as the nlp object.*\n",
    "\n",
    "Let's create a simple pipeline that does **lemmatization**, **part of speech tagging** and **named entity recognition** using spaCy models.\n",
    "\n",
    "*If you don't know what these NLP tasks are, please ask!*"
   ]
  },
  {
   "cell_type": "code",
   "execution_count": 52,
   "metadata": {},
   "outputs": [],
   "source": [
    "tweet_pos = list()\n",
    "tweet_ner = list()\n",
    "tweet_lemmas = list()\n",
    "\n",
    "for tweet in df_elon.text.values:\n",
    "    spacy_tweet = nlp(tweet)\n",
    "    \n",
    "    local_tweet_pos = list()\n",
    "    local_tweet_ner = list()\n",
    "    local_tweet_lemmas = list()\n",
    "    \n",
    "    for sentence in list(spacy_tweet.sents):\n",
    "        # --- lemmatization, remove punctuation and stop wors\n",
    "        local_tweet_lemmas.extend([token.lemma_ for token in sentence if not token.is_punct | token.is_stop])\n",
    "        local_tweet_pos.extend([token.pos_ for token in sentence if not token.is_punct | token.is_stop])\n",
    "    for ent in spacy_tweet.ents:\n",
    "        local_tweet_ner.append(ent)\n",
    "\n",
    "    tweet_pos.append(local_tweet_pos)\n",
    "    tweet_ner.append(local_tweet_ner)\n",
    "    tweet_lemmas.append(local_tweet_lemmas)"
   ]
  },
  {
   "cell_type": "code",
   "execution_count": 53,
   "metadata": {},
   "outputs": [
    {
     "data": {
      "text/plain": [
       "['and', 'robot', 'spar', 'humanity', 'https://t.co/v7jujqwfcv']"
      ]
     },
     "execution_count": 53,
     "metadata": {},
     "output_type": "execute_result"
    }
   ],
   "source": [
    "tweet_lemmas[0]"
   ]
  },
  {
   "cell_type": "code",
   "execution_count": 54,
   "metadata": {},
   "outputs": [
    {
     "data": {
      "text/plain": [
       "['CCONJ', 'NOUN', 'VERB', 'NOUN', 'X']"
      ]
     },
     "execution_count": 54,
     "metadata": {},
     "output_type": "execute_result"
    }
   ],
   "source": [
    "tweet_pos[0]"
   ]
  },
  {
   "cell_type": "code",
   "execution_count": 55,
   "metadata": {},
   "outputs": [
    {
     "data": {
      "text/plain": [
       "[]"
      ]
     },
     "execution_count": 55,
     "metadata": {},
     "output_type": "execute_result"
    }
   ],
   "source": [
    "tweet_ner[0]"
   ]
  },
  {
   "cell_type": "code",
   "execution_count": 56,
   "metadata": {},
   "outputs": [
    {
     "data": {
      "text/plain": [
       "[Shortville]"
      ]
     },
     "execution_count": 56,
     "metadata": {},
     "output_type": "execute_result"
    }
   ],
   "source": [
    "# but it actually works!\n",
    "\n",
    "tweet_ner[3]"
   ]
  },
  {
   "cell_type": "markdown",
   "metadata": {},
   "source": [
    "*Note: we are really just scratching the surface of spaCy, but it is worth knowing it's there.*"
   ]
  },
  {
   "cell_type": "markdown",
   "metadata": {},
   "source": [
    "### Searching tweets\n",
    "\n",
    "Once we have represented Tweets as vectors, we can easily find similar ones using basic operations such as filtering."
   ]
  },
  {
   "cell_type": "code",
   "execution_count": 57,
   "metadata": {},
   "outputs": [
    {
     "name": "stdout",
     "output_type": "stream",
     "text": [
      "robots spared humanity\n"
     ]
    }
   ],
   "source": [
    "target = 0\n",
    "print(df_elon.clean_text[target])"
   ]
  },
  {
   "cell_type": "code",
   "execution_count": 58,
   "metadata": {},
   "outputs": [],
   "source": [
    "condition = X_count_tfidf[target,:] > 0"
   ]
  },
  {
   "cell_type": "code",
   "execution_count": 59,
   "metadata": {},
   "outputs": [
    {
     "name": "stdout",
     "output_type": "stream",
     "text": [
      "  (0, 5198)\tTrue\n",
      "  (0, 6617)\tTrue\n",
      "  (0, 6949)\tTrue\n"
     ]
    }
   ],
   "source": [
    "print(condition)"
   ]
  },
  {
   "cell_type": "code",
   "execution_count": 60,
   "metadata": {},
   "outputs": [],
   "source": [
    "X_filtered = X_count_tfidf[:,np.ravel(condition.toarray())]"
   ]
  },
  {
   "cell_type": "code",
   "execution_count": 61,
   "metadata": {},
   "outputs": [
    {
     "data": {
      "text/plain": [
       "<2819x3 sparse matrix of type '<class 'numpy.float64'>'\n",
       "\twith 16 stored elements in Compressed Sparse Row format>"
      ]
     },
     "execution_count": 61,
     "metadata": {},
     "output_type": "execute_result"
    }
   ],
   "source": [
    "X_filtered"
   ]
  },
  {
   "cell_type": "code",
   "execution_count": 62,
   "metadata": {},
   "outputs": [
    {
     "name": "stdout",
     "output_type": "stream",
     "text": [
      "  (0, 0)\t0.49528340735923404\n",
      "  (0, 2)\t0.6406029997190413\n",
      "  (0, 1)\t0.5867896924329815\n",
      "  (217, 0)\t0.2972381925908634\n",
      "  (271, 0)\t0.3284547085372313\n",
      "  (464, 0)\t0.22738802397468952\n",
      "  (473, 0)\t0.5667220639589731\n",
      "  (734, 1)\t0.3846355279044392\n",
      "  (940, 0)\t0.27312597149485407\n",
      "  (1004, 0)\t0.28161575586607157\n",
      "  (1550, 1)\t0.33303254164524276\n",
      "  (1862, 0)\t0.3196675199194523\n",
      "  (2493, 0)\t0.2685018991334563\n",
      "  (2559, 0)\t0.311452470142279\n",
      "  (2565, 0)\t0.2645117238497897\n",
      "  (2661, 0)\t0.2729016388865858\n"
     ]
    }
   ],
   "source": [
    "print(X_filtered)"
   ]
  },
  {
   "cell_type": "code",
   "execution_count": 63,
   "metadata": {},
   "outputs": [
    {
     "data": {
      "text/plain": [
       "(array([   0,  217,  271,  464,  473,  940, 1004, 1862, 2493, 2559, 2565,\n",
       "        2661,    0,  734, 1550,    0], dtype=int32),\n",
       " array([0, 0, 0, 0, 0, 0, 0, 0, 0, 0, 0, 0, 1, 1, 1, 2], dtype=int32),\n",
       " array([0.49528341, 0.29723819, 0.32845471, 0.22738802, 0.56672206,\n",
       "        0.27312597, 0.28161576, 0.31966752, 0.2685019 , 0.31145247,\n",
       "        0.26451172, 0.27290164, 0.58678969, 0.38463553, 0.33303254,\n",
       "        0.640603  ]))"
      ]
     },
     "execution_count": 63,
     "metadata": {},
     "output_type": "execute_result"
    }
   ],
   "source": [
    "from scipy import sparse\n",
    "\n",
    "sparse.find(X_filtered)"
   ]
  },
  {
   "cell_type": "code",
   "execution_count": 64,
   "metadata": {},
   "outputs": [],
   "source": [
    "tweet_indices = list(sparse.find(X_filtered)[0])"
   ]
  },
  {
   "cell_type": "code",
   "execution_count": 65,
   "metadata": {},
   "outputs": [
    {
     "name": "stdout",
     "output_type": "stream",
     "text": [
      "TARGET: robots spared humanity\n",
      "1)@JustBe74 important make humanity proud this case particular duty owed American taxpayer\n",
      "2)@pud Faith restored humanity French toast money\n",
      "3)humanity have exciting inspiring future cannot confined Earth forever @love_to_dream #APSpaceChat\n",
      "4)@ShireeshAgrawal like humanity\n",
      "5)Creating neural lace thing that really matters humanity achieve symbiosis with machines\n",
      "6)@tzepr Certainly agree that first foremost triumph humanity cheering good spirit\n",
      "7)@ReesAndersen @FLIxrisk believe that critical ensure good future humanity\n",
      "8)@NASA #Mars hard x99s worth risks extend humanity x99s frontier beyond Earth Learn about neighbor planet\n",
      "9)Astronomer Royal Martin Rees soon will robots take over world @Telegraph\n",
      "10)@thelogicbox @IanrossWins Mars critical long-term survival humanity life Earth know\n",
      "11)humanity wishes become multi-planet species then must figure move millions people Mars\n",
      "12)Sure feels weird find myself defending robots\n",
      "13)Neil Armstrong hero humanity spirit will carry stars\n"
     ]
    }
   ],
   "source": [
    "print(\"TARGET: \" + df_elon.clean_text[target])\n",
    "\n",
    "for n, tweet_index in enumerate(list(set(tweet_indices))):\n",
    "    if tweet_index != target:\n",
    "        print(str(n) +\")\"+ df_elon.clean_text[tweet_index])"
   ]
  },
  {
   "cell_type": "markdown",
   "metadata": {},
   "source": [
    "#### Questions\n",
    "\n",
    "* Can you rank the matched tweets using their tf-idf weights, so to put higher weighted tweets first?\n",
    "* Which limitations do you think a bag of words representation has?\n",
    "* Can you spot any limitations of this approach based on similarity measures over bag of words representations?"
   ]
  }
 ],
 "metadata": {
  "kernelspec": {
   "display_name": "Python 3",
   "language": "python",
   "name": "python3"
  },
  "language_info": {
   "codemirror_mode": {
    "name": "ipython",
    "version": 3
   },
   "file_extension": ".py",
   "mimetype": "text/x-python",
   "name": "python",
   "nbconvert_exporter": "python",
   "pygments_lexer": "ipython3",
   "version": "3.7.3"
  }
 },
 "nbformat": 4,
 "nbformat_minor": 2
}
