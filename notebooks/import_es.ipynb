{
 "cells": [
  {
   "cell_type": "code",
   "execution_count": 192,
   "metadata": {},
   "outputs": [],
   "source": [
    "#request the url with id of the film\n",
    "#Example \n",
    "# http://earlycinema.dch.phil-fak.uni-koeln.de/films/view/10\n",
    "\n",
    "\n",
    "# import the library we use to open URLs\n",
    "import urllib.request\n",
    "\n",
    "# specify which URL/web page we are going to be scraping\n",
    "url = \"http://earlycinema.dch.phil-fak.uni-koeln.de/films/view/12\"\n",
    "# open the url using urllib.request and put the HTML into the page variable\n",
    "page = urllib.request.urlopen(url)\n",
    "# import the BeautifulSoup library so we can parse HTML and XML documents\n",
    "from bs4 import BeautifulSoup\n",
    "# parse the HTML from our URL into the BeautifulSoup parse tree format\n",
    "soup = BeautifulSoup(page, \"lxml\")\n",
    "#print(soup.prettify())"
   ]
  },
  {
   "cell_type": "code",
   "execution_count": 193,
   "metadata": {},
   "outputs": [
    {
     "name": "stdout",
     "output_type": "stream",
     "text": [
      "<div id=\"frame1update\">\n",
      "        ﻿<a class=\"hidden\" href=\"/films/view/12\" id=\"frame2_update_link\"></a>\n",
      "<!-- Main heading -->\n",
      "<h2>Film Details</h2>\n",
      "<!-- Message -->\n",
      "<!-- Main content -->\n",
      "<div class=\"id\">#12</div>\n",
      "<h2 class=\"title\">\r\n",
      "  Das Abendmahl (1905)</h2>\n",
      "<h3>\r\n",
      "    Film titles    \r\n",
      "      </h3>\n",
      "<ul>\n",
      "<li>\n",
      "<span class=\"type\">Original Title:</span>\n",
      "<span class=\"title\">\r\n",
      "          La Cène        </span>\n",
      "</li>\n",
      "<li>\n",
      "<span class=\"type\">Series Title:</span>\n",
      "<span class=\"title\">\r\n",
      "          Das Leben und Leiden Christi        </span>\n",
      "</li>\n",
      "<li>\n",
      "<span class=\"type\">Series Title:</span>\n",
      "<span class=\"title\">\r\n",
      "          Vie et passion du Christ. 6        </span>\n",
      "</li>\n",
      "<li>\n",
      "<span class=\"type\">Series Title:</span>\n",
      "<span class=\"title\">\r\n",
      "          Vie et la passion de Jésus-Christ, La. 16        </span>\n",
      "</li>\n",
      "</ul>\n",
      "<h3>\r\n",
      "    Companies    \r\n",
      "      </h3>\n",
      "<ul>\n",
      "<li>\n",
      "<span class=\"type\">Produktionsfirma:</span>\n",
      "<a href=\"/companies/view/4\" id=\"link-1723076422\" title=\"Company details\">Pathé Frères, Paris (s.a. Thepa) {fr} &lt;Pathe&gt; (Frankreich)</a>, No. 856              </li>\n",
      "</ul>\n",
      "<!-- Crew -->\n",
      "<!-- Description -->\n",
      "<!-- Genres -->\n",
      "<h3>\r\n",
      "    Genres      </h3>\n",
      "<ul>\n",
      "<li>\n",
      "<a href=\"/birett_genres/view/1\" id=\"link-1739479382\" title=\"Genre details\">Drama</a> (<span class=\"cursorhelp\" title=\"Assigned and interpreted by Herbert Birett\">interpreted by H.B.</span>)              </li>\n",
      "</ul>\n",
      "<!-- Lengths -->\n",
      "<h3>\r\n",
      "    Film Length      </h3>\n",
      "<ul>\n",
      "<li>\r\n",
      "        25 Meter              </li>\n",
      "</ul>\n",
      "<!-- Prices -->\n",
      "<h3>\r\n",
      "    Pricing      </h3>\n",
      "<ul>\n",
      "<li>\r\n",
      "        25,00 Mark              </li>\n",
      "</ul>\n",
      "<!-- Colouring -->\n",
      "<!-- Intertitles -->\n",
      "<!-- Censoring -->\n",
      "<!-- Crossreferences -->\n",
      "<!-- Places -->\n",
      "<!-- Studios -->\n",
      "<!-- Sources -->\n",
      "<h3>\r\n",
      "    Sources      </h3>\n",
      "<ul>\n",
      "<li>\r\n",
      "        SLA: <a href=\"/sources/view/14\" id=\"link-644564093\" title=\"Source details\">PK</a>, 1905              </li>\n",
      "<li>\r\n",
      "        SPA: <a href=\"/sources/view/4\" id=\"link-1185794909\" title=\"Source details\">CP</a> Vol. 1897/99 No. 855              </li>\n",
      "<li>\r\n",
      "        SPA: <a href=\"/sources/view/4\" id=\"link-1268889413\" title=\"Source details\">CP</a> Vol. 1902 No. 878              </li>\n",
      "<li>\r\n",
      "        SPA: <a href=\"/sources/view/14\" id=\"link-1471368220\" title=\"Source details\">PK</a>, 1902              </li>\n",
      "</ul>\n",
      "<!-- Screenings -->\n",
      "<!-- Remark -->\n",
      "<h3>Remark</h3>\n",
      "<p class=\"description\">In der Serie mit 12, 20 bzw. 32 Teilen enthalten.</p>\n",
      "<!-- Internal data and functions -->\n",
      "<script type=\"text/javascript\">\n",
      "//<![CDATA[\n",
      "$(document).ready(function () {$(\"#frame2_update_link\").bind(\"click\", function (event) {$.ajax({beforeSend:function (XMLHttpRequest) {$( 'html, body' ).animate( { scrollTop: 0 }, 0 );$(\"#frame2update\").hide();$(\"#busy-indicator-frame2\").show();}, complete:function (XMLHttpRequest, textStatus) {$(\"#busy-indicator-frame2\").hide();$(\"#frame2update\").show();}, dataType:\"html\", div:false, evalScripts:true, success:function (data, textStatus) {$(\"#frame2update\").html(data);}, url:\"\\/films\\/view\\/12\"});\n",
      "return false;});\n",
      "$(\"#link-1723076422\").bind(\"click\", function (event) {$.ajax({beforeSend:function (XMLHttpRequest) {$( 'html, body' ).animate( { scrollTop: 0 }, 0 );$(\"#frame2update\").hide();$(\"#busy-indicator-frame2\").show();}, complete:function (XMLHttpRequest, textStatus) {$(\"#busy-indicator-frame2\").hide();$(\"#frame2update\").show();}, dataType:\"html\", div:false, evalScripts:true, success:function (data, textStatus) {$(\"#frame2update\").html(data);}, url:\"\\/companies\\/view\\/4\"});\n",
      "return false;});\n",
      "$(\"#link-1739479382\").bind(\"click\", function (event) {$.ajax({beforeSend:function (XMLHttpRequest) {$( 'html, body' ).animate( { scrollTop: 0 }, 0 );$(\"#frame2update\").hide();$(\"#busy-indicator-frame2\").show();}, complete:function (XMLHttpRequest, textStatus) {$(\"#busy-indicator-frame2\").hide();$(\"#frame2update\").show();}, dataType:\"html\", div:false, evalScripts:true, success:function (data, textStatus) {$(\"#frame2update\").html(data);}, url:\"\\/birett_genres\\/view\\/1\"});\n",
      "return false;});\n",
      "$(\"#link-644564093\").bind(\"click\", function (event) {$.ajax({beforeSend:function (XMLHttpRequest) {$( 'html, body' ).animate( { scrollTop: 0 }, 0 );$(\"#frame2update\").hide();$(\"#busy-indicator-frame2\").show();}, complete:function (XMLHttpRequest, textStatus) {$(\"#busy-indicator-frame2\").hide();$(\"#frame2update\").show();}, dataType:\"html\", div:false, evalScripts:true, success:function (data, textStatus) {$(\"#frame2update\").html(data);}, url:\"\\/sources\\/view\\/14\"});\n",
      "return false;});\n",
      "$(\"#link-1185794909\").bind(\"click\", function (event) {$.ajax({beforeSend:function (XMLHttpRequest) {$( 'html, body' ).animate( { scrollTop: 0 }, 0 );$(\"#frame2update\").hide();$(\"#busy-indicator-frame2\").show();}, complete:function (XMLHttpRequest, textStatus) {$(\"#busy-indicator-frame2\").hide();$(\"#frame2update\").show();}, dataType:\"html\", div:false, evalScripts:true, success:function (data, textStatus) {$(\"#frame2update\").html(data);}, url:\"\\/sources\\/view\\/4\"});\n",
      "return false;});\n",
      "$(\"#link-1268889413\").bind(\"click\", function (event) {$.ajax({beforeSend:function (XMLHttpRequest) {$( 'html, body' ).animate( { scrollTop: 0 }, 0 );$(\"#frame2update\").hide();$(\"#busy-indicator-frame2\").show();}, complete:function (XMLHttpRequest, textStatus) {$(\"#busy-indicator-frame2\").hide();$(\"#frame2update\").show();}, dataType:\"html\", div:false, evalScripts:true, success:function (data, textStatus) {$(\"#frame2update\").html(data);}, url:\"\\/sources\\/view\\/4\"});\n",
      "return false;});\n",
      "$(\"#link-1471368220\").bind(\"click\", function (event) {$.ajax({beforeSend:function (XMLHttpRequest) {$( 'html, body' ).animate( { scrollTop: 0 }, 0 );$(\"#frame2update\").hide();$(\"#busy-indicator-frame2\").show();}, complete:function (XMLHttpRequest, textStatus) {$(\"#busy-indicator-frame2\").hide();$(\"#frame2update\").show();}, dataType:\"html\", div:false, evalScripts:true, success:function (data, textStatus) {$(\"#frame2update\").html(data);}, url:\"\\/sources\\/view\\/14\"});\n",
      "return false;});});\n",
      "//]]>\n",
      "</script> </div>\n"
     ]
    }
   ],
   "source": [
    "#the div where the information is\n",
    "div_interested = soup.find('div', id='frame1update')\n",
    "print(div_interested)\n"
   ]
  },
  {
   "cell_type": "code",
   "execution_count": 194,
   "metadata": {},
   "outputs": [],
   "source": [
    "##title + date\n",
    "title_date = div_interested.find('h2', class_='title').contents[0]\n",
    "#print(title_date)"
   ]
  },
  {
   "cell_type": "code",
   "execution_count": 195,
   "metadata": {},
   "outputs": [],
   "source": [
    "dateFilms= []\n",
    "##extract date\n",
    "import re\n",
    "date_film =re.search('(\\d+)',title_date)\n",
    "dateFilms.append(date_film.group())"
   ]
  },
  {
   "cell_type": "code",
   "execution_count": 196,
   "metadata": {},
   "outputs": [],
   "source": [
    "titles = []\n",
    "title = title_date.split(\"(\"+date_film.group())\n",
    "titles.append(title[0].lstrip().rstrip())\n",
    "# enlever les espaces"
   ]
  },
  {
   "cell_type": "code",
   "execution_count": 197,
   "metadata": {},
   "outputs": [
    {
     "name": "stdout",
     "output_type": "stream",
     "text": [
      "<ul>\n",
      "<li>\n",
      "<span class=\"type\">Original Title:</span>\n",
      "<span class=\"title\">\r\n",
      "          La Cène        </span>\n",
      "</li>\n",
      "<li>\n",
      "<span class=\"type\">Series Title:</span>\n",
      "<span class=\"title\">\r\n",
      "          Das Leben und Leiden Christi        </span>\n",
      "</li>\n",
      "<li>\n",
      "<span class=\"type\">Series Title:</span>\n",
      "<span class=\"title\">\r\n",
      "          Vie et passion du Christ. 6        </span>\n",
      "</li>\n",
      "<li>\n",
      "<span class=\"type\">Series Title:</span>\n",
      "<span class=\"title\">\r\n",
      "          Vie et la passion de Jésus-Christ, La. 16        </span>\n",
      "</li>\n",
      "</ul>\n"
     ]
    }
   ],
   "source": [
    "ul_film_title=div_interested.find(\"ul\")\n",
    "print(ul_film_title)"
   ]
  },
  {
   "cell_type": "code",
   "execution_count": 198,
   "metadata": {},
   "outputs": [
    {
     "name": "stdout",
     "output_type": "stream",
     "text": [
      "4\n"
     ]
    }
   ],
   "source": [
    "\n",
    "originalTitles= []\n",
    "furtherTitles = []\n",
    "\n",
    "print(len(ul_film_title.findAll('li')))\n",
    "\n",
    "if(len(ul_film_title.findAll('li'))==1):\n",
    "    titleType = ul_film_title.find('span', class_='type')\n",
    "    if(titleType.text == 'Original Title:'):\n",
    "        originalTitle = ul_film_title.find('span', class_='title')\n",
    "        originalTitles.append(originalTitle.text.lstrip().rstrip()) \n",
    "        furtherTitles.append(\"\")\n",
    "    if(titleType.text == 'Further Title:'):\n",
    "        furtherTitle = ul_film_title.find('span', class_='title')\n",
    "        furtherTitles.append(furtherTitle.text.lstrip().rstrip())\n",
    "        originalTitles.append(\"\")\n",
    "if(len(ul_film_title.findAll('li'))>1):\n",
    "    #for ul in ul_film_title:\n",
    "    for li in ul_film_title.findAll('li'):\n",
    "        if li.find('ul'):\n",
    "            break\n",
    "        titleType = li.find('span', class_='type')\n",
    "        if(titleType.text == 'Original Title:'):\n",
    "            originalTitle = li.find('span', class_='title')\n",
    "            originalTitles.append(originalTitle.text.lstrip().rstrip())\n",
    "        if(titleType.text == 'Further Title:'):\n",
    "            furtherTitle = li.find('span', class_='title')\n",
    "            furtherTitles.append(furtherTitle.text.lstrip().rstrip())  \n"
   ]
  },
  {
   "cell_type": "code",
   "execution_count": 199,
   "metadata": {},
   "outputs": [],
   "source": [
    "#Film lenght\n",
    "filmLenghts= []\n",
    "film_lenght_element = [tag for tag in div_interested.find_all('h3') if tag.text.lstrip().rstrip() == \"Film Length\"]\n",
    "if(film_lenght_element):\n",
    "    ul_film_lenght = film_lenght_element[0].next_sibling.next_sibling\n",
    "    if(ul_film_lenght.name == 'ul'):\n",
    "        for li in ul_film_lenght.findAll('li'):\n",
    "            if li.find('ul'):\n",
    "                break\n",
    "            filmLenghts.append(li.text.lstrip().rstrip())  \n",
    "else:\n",
    "    filmLenghts.append(\"\") \n",
    "\n"
   ]
  },
  {
   "cell_type": "code",
   "execution_count": 200,
   "metadata": {},
   "outputs": [],
   "source": [
    "#Pricing\n",
    "filmPricings= []\n",
    "film_pricing_element = [tag for tag in div_interested.find_all('h3') if tag.text.lstrip().rstrip() == \"Pricing\"]\n",
    "if(film_pricing_element):\n",
    "    ul_film_pricing = film_pricing_element[0].next_sibling.next_sibling\n",
    "    if(ul_film_pricing.name == 'ul'):\n",
    "        for li in ul_film_pricing.findAll('li'):\n",
    "            if li.find('ul'):\n",
    "                break\n",
    "            filmPricings.append(li.text.lstrip().rstrip())  \n",
    "else:\n",
    "    filmPricings.append(\"\") \n",
    "\n"
   ]
  },
  {
   "cell_type": "code",
   "execution_count": 201,
   "metadata": {},
   "outputs": [
    {
     "ename": "ValueError",
     "evalue": "Length of values does not match length of index",
     "traceback": [
      "\u001b[0;31m---------------------------------------------------------------------------\u001b[0m",
      "\u001b[0;31mValueError\u001b[0m                                Traceback (most recent call last)",
      "\u001b[0;32m<ipython-input-201-ea000115b046>\u001b[0m in \u001b[0;36m<module>\u001b[0;34m\u001b[0m\n\u001b[1;32m      3\u001b[0m \u001b[0mdf\u001b[0m\u001b[0;34m[\u001b[0m\u001b[0;34m'Title'\u001b[0m\u001b[0;34m]\u001b[0m\u001b[0;34m=\u001b[0m\u001b[0mtitles\u001b[0m\u001b[0;34m\u001b[0m\u001b[0m\n\u001b[1;32m      4\u001b[0m \u001b[0mdf\u001b[0m\u001b[0;34m[\u001b[0m\u001b[0;34m'Original title'\u001b[0m\u001b[0;34m]\u001b[0m\u001b[0;34m=\u001b[0m\u001b[0moriginalTitles\u001b[0m\u001b[0;34m\u001b[0m\u001b[0m\n\u001b[0;32m----> 5\u001b[0;31m \u001b[0mdf\u001b[0m\u001b[0;34m[\u001b[0m\u001b[0;34m'Further title'\u001b[0m\u001b[0;34m]\u001b[0m\u001b[0;34m=\u001b[0m\u001b[0mfurtherTitles\u001b[0m\u001b[0;34m\u001b[0m\u001b[0m\n\u001b[0m\u001b[1;32m      6\u001b[0m \u001b[0mdf\u001b[0m\u001b[0;34m[\u001b[0m\u001b[0;34m'Film lenght'\u001b[0m\u001b[0;34m]\u001b[0m\u001b[0;34m=\u001b[0m\u001b[0mfilmLenghts\u001b[0m\u001b[0;34m\u001b[0m\u001b[0m\n\u001b[1;32m      7\u001b[0m \u001b[0mdf\u001b[0m\u001b[0;34m[\u001b[0m\u001b[0;34m'Film pricing'\u001b[0m\u001b[0;34m]\u001b[0m\u001b[0;34m=\u001b[0m\u001b[0mfilmPricings\u001b[0m\u001b[0;34m\u001b[0m\u001b[0m\n",
      "\u001b[0;32m~/Projects/ada_project/lib/python3.6/site-packages/pandas/core/frame.py\u001b[0m in \u001b[0;36m__setitem__\u001b[0;34m(self, key, value)\u001b[0m\n\u001b[1;32m   3465\u001b[0m         \u001b[0;32melse\u001b[0m\u001b[0;34m:\u001b[0m\u001b[0;34m\u001b[0m\u001b[0m\n\u001b[1;32m   3466\u001b[0m             \u001b[0;31m# set column\u001b[0m\u001b[0;34m\u001b[0m\u001b[0;34m\u001b[0m\u001b[0m\n\u001b[0;32m-> 3467\u001b[0;31m             \u001b[0mself\u001b[0m\u001b[0;34m.\u001b[0m\u001b[0m_set_item\u001b[0m\u001b[0;34m(\u001b[0m\u001b[0mkey\u001b[0m\u001b[0;34m,\u001b[0m \u001b[0mvalue\u001b[0m\u001b[0;34m)\u001b[0m\u001b[0;34m\u001b[0m\u001b[0m\n\u001b[0m\u001b[1;32m   3468\u001b[0m \u001b[0;34m\u001b[0m\u001b[0m\n\u001b[1;32m   3469\u001b[0m     \u001b[0;32mdef\u001b[0m \u001b[0m_setitem_slice\u001b[0m\u001b[0;34m(\u001b[0m\u001b[0mself\u001b[0m\u001b[0;34m,\u001b[0m \u001b[0mkey\u001b[0m\u001b[0;34m,\u001b[0m \u001b[0mvalue\u001b[0m\u001b[0;34m)\u001b[0m\u001b[0;34m:\u001b[0m\u001b[0;34m\u001b[0m\u001b[0m\n",
      "\u001b[0;32m~/Projects/ada_project/lib/python3.6/site-packages/pandas/core/frame.py\u001b[0m in \u001b[0;36m_set_item\u001b[0;34m(self, key, value)\u001b[0m\n\u001b[1;32m   3542\u001b[0m \u001b[0;34m\u001b[0m\u001b[0m\n\u001b[1;32m   3543\u001b[0m         \u001b[0mself\u001b[0m\u001b[0;34m.\u001b[0m\u001b[0m_ensure_valid_index\u001b[0m\u001b[0;34m(\u001b[0m\u001b[0mvalue\u001b[0m\u001b[0;34m)\u001b[0m\u001b[0;34m\u001b[0m\u001b[0m\n\u001b[0;32m-> 3544\u001b[0;31m         \u001b[0mvalue\u001b[0m \u001b[0;34m=\u001b[0m \u001b[0mself\u001b[0m\u001b[0;34m.\u001b[0m\u001b[0m_sanitize_column\u001b[0m\u001b[0;34m(\u001b[0m\u001b[0mkey\u001b[0m\u001b[0;34m,\u001b[0m \u001b[0mvalue\u001b[0m\u001b[0;34m)\u001b[0m\u001b[0;34m\u001b[0m\u001b[0m\n\u001b[0m\u001b[1;32m   3545\u001b[0m         \u001b[0mNDFrame\u001b[0m\u001b[0;34m.\u001b[0m\u001b[0m_set_item\u001b[0m\u001b[0;34m(\u001b[0m\u001b[0mself\u001b[0m\u001b[0;34m,\u001b[0m \u001b[0mkey\u001b[0m\u001b[0;34m,\u001b[0m \u001b[0mvalue\u001b[0m\u001b[0;34m)\u001b[0m\u001b[0;34m\u001b[0m\u001b[0m\n\u001b[1;32m   3546\u001b[0m \u001b[0;34m\u001b[0m\u001b[0m\n",
      "\u001b[0;32m~/Projects/ada_project/lib/python3.6/site-packages/pandas/core/frame.py\u001b[0m in \u001b[0;36m_sanitize_column\u001b[0;34m(self, key, value, broadcast)\u001b[0m\n\u001b[1;32m   3727\u001b[0m \u001b[0;34m\u001b[0m\u001b[0m\n\u001b[1;32m   3728\u001b[0m             \u001b[0;31m# turn me into an ndarray\u001b[0m\u001b[0;34m\u001b[0m\u001b[0;34m\u001b[0m\u001b[0m\n\u001b[0;32m-> 3729\u001b[0;31m             \u001b[0mvalue\u001b[0m \u001b[0;34m=\u001b[0m \u001b[0msanitize_index\u001b[0m\u001b[0;34m(\u001b[0m\u001b[0mvalue\u001b[0m\u001b[0;34m,\u001b[0m \u001b[0mself\u001b[0m\u001b[0;34m.\u001b[0m\u001b[0mindex\u001b[0m\u001b[0;34m,\u001b[0m \u001b[0mcopy\u001b[0m\u001b[0;34m=\u001b[0m\u001b[0;32mFalse\u001b[0m\u001b[0;34m)\u001b[0m\u001b[0;34m\u001b[0m\u001b[0m\n\u001b[0m\u001b[1;32m   3730\u001b[0m             \u001b[0;32mif\u001b[0m \u001b[0;32mnot\u001b[0m \u001b[0misinstance\u001b[0m\u001b[0;34m(\u001b[0m\u001b[0mvalue\u001b[0m\u001b[0;34m,\u001b[0m \u001b[0;34m(\u001b[0m\u001b[0mnp\u001b[0m\u001b[0;34m.\u001b[0m\u001b[0mndarray\u001b[0m\u001b[0;34m,\u001b[0m \u001b[0mIndex\u001b[0m\u001b[0;34m)\u001b[0m\u001b[0;34m)\u001b[0m\u001b[0;34m:\u001b[0m\u001b[0;34m\u001b[0m\u001b[0m\n\u001b[1;32m   3731\u001b[0m                 \u001b[0;32mif\u001b[0m \u001b[0misinstance\u001b[0m\u001b[0;34m(\u001b[0m\u001b[0mvalue\u001b[0m\u001b[0;34m,\u001b[0m \u001b[0mlist\u001b[0m\u001b[0;34m)\u001b[0m \u001b[0;32mand\u001b[0m \u001b[0mlen\u001b[0m\u001b[0;34m(\u001b[0m\u001b[0mvalue\u001b[0m\u001b[0;34m)\u001b[0m \u001b[0;34m>\u001b[0m \u001b[0;36m0\u001b[0m\u001b[0;34m:\u001b[0m\u001b[0;34m\u001b[0m\u001b[0m\n",
      "\u001b[0;32m~/Projects/ada_project/lib/python3.6/site-packages/pandas/core/internals/construction.py\u001b[0m in \u001b[0;36msanitize_index\u001b[0;34m(data, index, copy)\u001b[0m\n\u001b[1;32m    610\u001b[0m \u001b[0;34m\u001b[0m\u001b[0m\n\u001b[1;32m    611\u001b[0m     \u001b[0;32mif\u001b[0m \u001b[0mlen\u001b[0m\u001b[0;34m(\u001b[0m\u001b[0mdata\u001b[0m\u001b[0;34m)\u001b[0m \u001b[0;34m!=\u001b[0m \u001b[0mlen\u001b[0m\u001b[0;34m(\u001b[0m\u001b[0mindex\u001b[0m\u001b[0;34m)\u001b[0m\u001b[0;34m:\u001b[0m\u001b[0;34m\u001b[0m\u001b[0m\n\u001b[0;32m--> 612\u001b[0;31m         \u001b[0;32mraise\u001b[0m \u001b[0mValueError\u001b[0m\u001b[0;34m(\u001b[0m\u001b[0;34m\"Length of values does not match length of index\"\u001b[0m\u001b[0;34m)\u001b[0m\u001b[0;34m\u001b[0m\u001b[0m\n\u001b[0m\u001b[1;32m    613\u001b[0m \u001b[0;34m\u001b[0m\u001b[0m\n\u001b[1;32m    614\u001b[0m     \u001b[0;32mif\u001b[0m \u001b[0misinstance\u001b[0m\u001b[0;34m(\u001b[0m\u001b[0mdata\u001b[0m\u001b[0;34m,\u001b[0m \u001b[0mABCIndexClass\u001b[0m\u001b[0;34m)\u001b[0m \u001b[0;32mand\u001b[0m \u001b[0;32mnot\u001b[0m \u001b[0mcopy\u001b[0m\u001b[0;34m:\u001b[0m\u001b[0;34m\u001b[0m\u001b[0m\n",
      "\u001b[0;31mValueError\u001b[0m: Length of values does not match length of index"
     ],
     "output_type": "error"
    }
   ],
   "source": [
    "import pandas as pd\n",
    "df=pd.DataFrame(dateFilms,columns=['Date'])\n",
    "df['Title']=titles\n",
    "df['Original title']=originalTitles\n",
    "df['Further title']=furtherTitles\n",
    "df['Film lenght']=filmLenghts\n",
    "df['Film pricing']=filmPricings\n",
    "df"
   ]
  },
  {
   "cell_type": "code",
   "execution_count": null,
   "metadata": {},
   "outputs": [],
   "source": []
  },
  {
   "cell_type": "code",
   "execution_count": null,
   "metadata": {},
   "outputs": [],
   "source": []
  },
  {
   "cell_type": "code",
   "execution_count": null,
   "metadata": {},
   "outputs": [],
   "source": []
  }
 ],
 "metadata": {
  "kernelspec": {
   "display_name": "Python 3",
   "language": "python",
   "name": "python3"
  },
  "language_info": {
   "codemirror_mode": {
    "name": "ipython",
    "version": 3
   },
   "file_extension": ".py",
   "mimetype": "text/x-python",
   "name": "python",
   "nbconvert_exporter": "python",
   "pygments_lexer": "ipython3",
   "version": "3.6.1"
  }
 },
 "nbformat": 4,
 "nbformat_minor": 1
}
