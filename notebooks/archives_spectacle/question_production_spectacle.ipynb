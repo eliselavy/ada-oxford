{
 "cells": [
  {
   "cell_type": "code",
   "execution_count": 1,
   "metadata": {},
   "outputs": [
    {
     "data": {
      "text/html": [
       "<div>\n",
       "<style scoped>\n",
       "    .dataframe tbody tr th:only-of-type {\n",
       "        vertical-align: middle;\n",
       "    }\n",
       "\n",
       "    .dataframe tbody tr th {\n",
       "        vertical-align: top;\n",
       "    }\n",
       "\n",
       "    .dataframe thead th {\n",
       "        text-align: right;\n",
       "    }\n",
       "</style>\n",
       "<table border=\"1\" class=\"dataframe\">\n",
       "  <thead>\n",
       "    <tr style=\"text-align: right;\">\n",
       "      <th></th>\n",
       "      <th>performanceId</th>\n",
       "      <th>type_aide</th>\n",
       "      <th>organism</th>\n",
       "      <th>organismId</th>\n",
       "    </tr>\n",
       "  </thead>\n",
       "  <tbody>\n",
       "    <tr>\n",
       "      <th>0</th>\n",
       "      <td>36956</td>\n",
       "      <td>Coproduction</td>\n",
       "      <td>Théâtre National de Chaillot  (Paris)</td>\n",
       "      <td>585</td>\n",
       "    </tr>\n",
       "    <tr>\n",
       "      <th>1</th>\n",
       "      <td>36956</td>\n",
       "      <td>Coproduction</td>\n",
       "      <td>HAU Theater Hebbel am Ufer  (Berlin)</td>\n",
       "      <td>206</td>\n",
       "    </tr>\n",
       "    <tr>\n",
       "      <th>2</th>\n",
       "      <td>36956</td>\n",
       "      <td>Coproduction</td>\n",
       "      <td>Grand Théâtre de la Ville de Luxembourg  (Luxe...</td>\n",
       "      <td>383</td>\n",
       "    </tr>\n",
       "    <tr>\n",
       "      <th>3</th>\n",
       "      <td>36956</td>\n",
       "      <td>Coproduction</td>\n",
       "      <td>La Rose des Vents  (Villeneuve-d'Ascq)</td>\n",
       "      <td>141</td>\n",
       "    </tr>\n",
       "    <tr>\n",
       "      <th>4</th>\n",
       "      <td>36956</td>\n",
       "      <td>Coproduction</td>\n",
       "      <td>Centro Cultural Vila Flor  (Guimarães)</td>\n",
       "      <td>12754</td>\n",
       "    </tr>\n",
       "    <tr>\n",
       "      <th>5</th>\n",
       "      <td>36956</td>\n",
       "      <td>Diffusion</td>\n",
       "      <td>Frans Brood Productions  (Gand)</td>\n",
       "      <td>4312</td>\n",
       "    </tr>\n",
       "  </tbody>\n",
       "</table>\n",
       "</div>"
      ],
      "text/plain": [
       "  performanceId     type_aide  \\\n",
       "0         36956  Coproduction   \n",
       "1         36956  Coproduction   \n",
       "2         36956  Coproduction   \n",
       "3         36956  Coproduction   \n",
       "4         36956  Coproduction   \n",
       "5         36956     Diffusion   \n",
       "\n",
       "                                            organism organismId  \n",
       "0              Théâtre National de Chaillot  (Paris)        585  \n",
       "1               HAU Theater Hebbel am Ufer  (Berlin)        206  \n",
       "2  Grand Théâtre de la Ville de Luxembourg  (Luxe...        383  \n",
       "3             La Rose des Vents  (Villeneuve-d'Ascq)        141  \n",
       "4             Centro Cultural Vila Flor  (Guimarães)      12754  \n",
       "5                    Frans Brood Productions  (Gand)       4312  "
      ]
     },
     "execution_count": 1,
     "metadata": {},
     "output_type": "execute_result"
    }
   ],
   "source": [
    "#pour un spectacle voir les coproductions\n",
    "#https://www.lesarchivesduspectacle.net/?IDX_Spectacle=90517#spectacle-partenaires-de-production\n",
    "#Perchée dans les arbres 8 coproductions \n",
    "\n",
    "import urllib.request\n",
    "import re\n",
    "import pandas as pd\n",
    "# import the BeautifulSoup library so we can parse HTML and XML documents\n",
    "from bs4 import BeautifulSoup\n",
    "#spectacleId=\"34525\"\n",
    "spectacleId=\"36956\"\n",
    "#spectacleId=\"90517\"\n",
    "# specify which URL/web page we are going to be scraping\n",
    "url = \"https://www.lesarchivesduspectacle.net/?IDX_Spectacle=\" + spectacleId +\"#spectacle-partenaires-de-production\"\n",
    "# open the url using urllib.request and put the HTML into the page variable\n",
    "page = urllib.request.urlopen(url)\n",
    "# parse the HTML from our URL into the BeautifulSoup parse tree format\n",
    "soup = BeautifulSoup(page, \"lxml\")\n",
    "#the div where the information is\n",
    "#the div where the information is\n",
    "table = soup.find('table', class_='f-spectacle__production-bis') \n",
    "# Down below we'll add our inmates to this list\n",
    "inmates_list = []\n",
    "\n",
    "# BeautifulSoup provides nice ways to access the data in the parsed\n",
    "# page. Here, we'll use the select method and pass it a CSS style\n",
    "# selector to grab all the rows in the table (the rows contain the \n",
    "# inmate names and ages).\n",
    "\n",
    "for table_row in table.find_all('tr'):\n",
    "    # Each tr (table row) has three td HTML elements (most people \n",
    "    # call these table cels) in it (first name, last name, and age)\n",
    "    cells = table_row.findAll('td')\n",
    "    # Our table has one exception -- a row without any cells.\n",
    "    # Let's handle that special case here by making sure we\n",
    "    # have more than zero cells before processing the cells\n",
    "    if len(cells) > 0:\n",
    "        organism = cells[1].text.strip()\n",
    "        organism_element = cells[1].find('a',class_='c_Organisme b')\n",
    "        organismId = organism_element['href'].replace(\"?IDX_Organisme=\",\"\")\n",
    "        type_aide = cells[0].text.strip()\n",
    "        if(type_aide != ''):\n",
    "            type_aide_master = type_aide\n",
    "        \n",
    "        else:\n",
    "            type_aide = type_aide_master\n",
    "        inmate = {'performanceId': spectacleId,'type_aide': type_aide,'organism': organism,'organismId': organismId}\n",
    "        inmates_list.append(inmate)\n",
    "\n",
    "df = pd.DataFrame(inmates_list)\n",
    "df\n"
   ]
  },
  {
   "cell_type": "code",
   "execution_count": 7,
   "metadata": {},
   "outputs": [],
   "source": [
    "#function return dataframe with type_aide and organism\n",
    "import urllib.request\n",
    "import re\n",
    "# import the BeautifulSoup library so we can parse HTML and XML documents\n",
    "from bs4 import BeautifulSoup\n",
    "import pandas as pd\n",
    "\n",
    "\n",
    "def import_df_type_production(spectacleId,saison):\n",
    "    # specify which URL/web page we are going to be scraping\n",
    "    url = \"https://www.lesarchivesduspectacle.net/?IDX_Spectacle=\" + spectacleId +\"#spectacle-partenaires-de-production\"\n",
    "    try:\n",
    "        page = urllib.request.urlopen(url)\n",
    "        # parse the HTML from our URL into the BeautifulSoup parse tree format\n",
    "        soup = BeautifulSoup(page, \"lxml\")\n",
    "        table = soup.find('table', class_='f-spectacle__production-bis') \n",
    "        # Down below we'll add our inmates to this list\n",
    "        inmates_list = []\n",
    "        if table is not None:\n",
    "            for table_row in table.find_all('tr'):\n",
    "                if table_row is not None:\n",
    "                    cells = table_row.findAll('td')\n",
    "                    if len(cells) > 0:\n",
    "                        organism = cells[1].text.strip()\n",
    "                        organism_element = cells[1].find('a',class_='c_Organisme b')\n",
    "                        organismId = organism_element['href'].replace(\"?IDX_Organisme=\",\"\")\n",
    "                        type_aide = cells[0].text.strip()\n",
    "                        if(type_aide != ''):\n",
    "                            type_aide_master = type_aide \n",
    "                        else:\n",
    "                            type_aide = type_aide_master\n",
    "                        inmate = {'performanceId': spectacleId,'type_aide': type_aide,'organism': organism,'organismId': organismId,'saison':saison}\n",
    "                        inmates_list.append(inmate)\n",
    "                    else:\n",
    "                        inmate = {'performanceId': spectacleId,'type_aide': '','organism': '','organismId': '','saison':saison}\n",
    "                        inmates_list.append(inmate) \n",
    "            df = pd.DataFrame(inmates_list)\n",
    "            return df\n",
    "        else:\n",
    "            inmate = {'performanceId': spectacleId,'type_aide': '','organism': '','organismId': '','saison':saison}\n",
    "            inmates_list.append(inmate)\n",
    "            df = pd.DataFrame(inmates_list)\n",
    "            return df\n",
    "    except urllib.error.URLError as e:\n",
    "        print(e.reason + \"for spectacleId \"  + spectacleId + \" saison \" + saison)\n",
    "    except socket.timeout as e: # <-------- this block here\n",
    "        print(\"We timed out\")"
   ]
  },
  {
   "cell_type": "code",
   "execution_count": 20,
   "metadata": {},
   "outputs": [
    {
     "data": {
      "text/plain": [
       "Unnamed: 0        int64\n",
       "organism_id       int64\n",
       "year              int64\n",
       "performance      object\n",
       "performanceId     int64\n",
       "author           object\n",
       "authordId         int64\n",
       "label            object\n",
       "period           object\n",
       "occurency        object\n",
       "place            object\n",
       "dtype: object"
      ]
     },
     "execution_count": 20,
     "metadata": {},
     "output_type": "execute_result"
    }
   ],
   "source": []
  },
  {
   "cell_type": "code",
   "execution_count": 8,
   "metadata": {},
   "outputs": [
    {
     "name": "stdout",
     "output_type": "stream",
     "text": [
      "start 2020-07-26 11:28:28.638510\n",
      "finish 2020-07-26 11:32:26.845880\n"
     ]
    }
   ],
   "source": [
    "#Pour les spectacles à l'Arsenal voir les types d'aide\n",
    "# ORGANISM ID DE L'ETUDE\n",
    "# 439 Arsenal\n",
    "# 699 CCAM [Centre culturel André Malraux] - Scène Nationale de Vandoeuvre-lès-Nancy\n",
    "# 383 Grand théâtre du Luxembourg\n",
    "# 1914 Carreau forbach \n",
    "import time\n",
    "from datetime import datetime\n",
    "import pandas as pd\n",
    "organismId=\"439\"\n",
    "csv_file_path = \"all_10_years_organism_439.csv\"\n",
    "df_organism = pd.read_csv(csv_file_path)\n",
    "df = pd.DataFrame(columns=['performanceId','type_aide','organism','organismId'])                        \n",
    "print(\"start\",datetime.now()) \n",
    "for row in df_organism.itertuples():\n",
    "    if (row.performanceId!=0):\n",
    "        #call the function to have the type_aide and orgnaism\n",
    "        try:\n",
    "            df=df.append(import_df_type_production(str(row.performanceId),row.year),sort=False,ignore_index=True)\n",
    "        except Exception as err:\n",
    "            continue\n",
    "df.to_csv('all_10_years_organism_' + organismId + '_type_production.csv')\n",
    "\n",
    "print(\"finish\",datetime.now())"
   ]
  },
  {
   "cell_type": "code",
   "execution_count": 16,
   "metadata": {},
   "outputs": [
    {
     "data": {
      "text/plain": [
       "saison\n",
       "2010.0    1\n",
       "2011.0    6\n",
       "2012.0    4\n",
       "2013.0    2\n",
       "2014.0    4\n",
       "2015.0    1\n",
       "2016.0    1\n",
       "2017.0    3\n",
       "2018.0    3\n",
       "Name: performanceId, dtype: int64"
      ]
     },
     "execution_count": 16,
     "metadata": {},
     "output_type": "execute_result"
    }
   ],
   "source": [
    "import time\n",
    "from datetime import datetime\n",
    "import pandas as pd\n",
    "csv_file_path = \"all_10_years_organism_439_type_production.csv\"\n",
    "df_type_production = pd.read_csv(csv_file_path)\n",
    "\n",
    "df_type_production = df_type_production[df_type_production['type_aide'] == 'Coproduction']\n",
    "#where coproduction est Arsenal\n",
    "df_type_production = df_type_production[df_type_production['organismId'] == 439.0]\n",
    "df_type_production.groupby([\"saison\"]).performanceId.count()"
   ]
  },
  {
   "cell_type": "code",
   "execution_count": 33,
   "metadata": {},
   "outputs": [
    {
     "data": {
      "text/plain": [
       "Coproduction     646\n",
       "Soutien          247\n",
       "Aide              67\n",
       "Partenariat       23\n",
       "Résidence         20\n",
       "Collaboration      8\n",
       "Participation      4\n",
       "Diffusion          4\n",
       "Coréalisation      1\n",
       "Name: type_aide, dtype: int64"
      ]
     },
     "execution_count": 33,
     "metadata": {},
     "output_type": "execute_result"
    }
   ],
   "source": [
    "#2010    17\n",
    "#2011    19\n",
    "#2012    15\n",
    "#2013    12\n",
    "#2014    20\n",
    "#2015    13\n",
    "#2016    22\n",
    "#2017    19\n",
    "#2018    31\n",
    "#2019    27\n",
    "import time\n",
    "from datetime import datetime\n",
    "import pandas as pd\n",
    "csv_file_path = \"all_10_years_organism_439_type_production.csv\"\n",
    "df_type_production = pd.read_csv(csv_file_path)\n",
    "df_type_production.type_aide.value_counts()\n"
   ]
  },
  {
   "cell_type": "code",
   "execution_count": 29,
   "metadata": {},
   "outputs": [
    {
     "data": {
      "text/plain": [
       "Coproduction    25\n",
       "Résidence        1\n",
       "Partenariat      1\n",
       "Name: type_aide, dtype: int64"
      ]
     },
     "execution_count": 29,
     "metadata": {},
     "output_type": "execute_result"
    }
   ],
   "source": [
    "import time\n",
    "from datetime import datetime\n",
    "import pandas as pd\n",
    "csv_file_path = \"all_10_years_organism_439_type_production.csv\"\n",
    "df_type_production = pd.read_csv(csv_file_path)\n",
    "#where organism is Arsenal\n",
    "df_type_production = df_type_production[df_type_production['organismId'] == 439.0]\n",
    "df_type_production.type_aide.value_counts()\n"
   ]
  },
  {
   "cell_type": "code",
   "execution_count": 34,
   "metadata": {},
   "outputs": [
    {
     "data": {
      "text/plain": [
       "Unnamed: 0       1058\n",
       "performanceId     192\n",
       "type_aide           9\n",
       "organism          535\n",
       "organismId        533\n",
       "saison             10\n",
       "dtype: int64"
      ]
     },
     "execution_count": 34,
     "metadata": {},
     "output_type": "execute_result"
    }
   ],
   "source": [
    "df_type_production.nunique()"
   ]
  },
  {
   "cell_type": "code",
   "execution_count": 36,
   "metadata": {},
   "outputs": [
    {
     "data": {
      "text/plain": [
       "Unnamed: 0       223\n",
       "organism_id        1\n",
       "year              10\n",
       "performance      193\n",
       "performanceId    193\n",
       "author           141\n",
       "authordId        142\n",
       "label            199\n",
       "period           158\n",
       "occurency          9\n",
       "place             11\n",
       "dtype: int64"
      ]
     },
     "execution_count": 36,
     "metadata": {},
     "output_type": "execute_result"
    }
   ],
   "source": [
    "import time\n",
    "from datetime import datetime\n",
    "import pandas as pd\n",
    "csv_file_path = \"all_10_years_organism_439.csv\"\n",
    "df_arsenal_10_years = pd.read_csv(csv_file_path)\n",
    "df_arsenal_10_years.nunique()"
   ]
  },
  {
   "cell_type": "code",
   "execution_count": null,
   "metadata": {},
   "outputs": [],
   "source": []
  }
 ],
 "metadata": {
  "kernelspec": {
   "display_name": "Python 3",
   "language": "python",
   "name": "python3"
  },
  "language_info": {
   "codemirror_mode": {
    "name": "ipython",
    "version": 3
   },
   "file_extension": ".py",
   "mimetype": "text/x-python",
   "name": "python",
   "nbconvert_exporter": "python",
   "pygments_lexer": "ipython3",
   "version": "3.7.6"
  }
 },
 "nbformat": 4,
 "nbformat_minor": 1
}
