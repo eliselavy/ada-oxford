{
 "cells": [
  {
   "cell_type": "markdown",
   "metadata": {},
   "source": [
    "# Partenaires de production"
   ]
  },
  {
   "cell_type": "markdown",
   "metadata": {},
   "source": [
    "## Pour un spectacleId voir les coproductions"
   ]
  },
  {
   "cell_type": "code",
   "execution_count": 1,
   "metadata": {},
   "outputs": [
    {
     "data": {
      "text/html": [
       "<div>\n",
       "<style scoped>\n",
       "    .dataframe tbody tr th:only-of-type {\n",
       "        vertical-align: middle;\n",
       "    }\n",
       "\n",
       "    .dataframe tbody tr th {\n",
       "        vertical-align: top;\n",
       "    }\n",
       "\n",
       "    .dataframe thead th {\n",
       "        text-align: right;\n",
       "    }\n",
       "</style>\n",
       "<table border=\"1\" class=\"dataframe\">\n",
       "  <thead>\n",
       "    <tr style=\"text-align: right;\">\n",
       "      <th></th>\n",
       "      <th>performanceId</th>\n",
       "      <th>type_aide</th>\n",
       "      <th>organism</th>\n",
       "      <th>organismId</th>\n",
       "    </tr>\n",
       "  </thead>\n",
       "  <tbody>\n",
       "    <tr>\n",
       "      <th>0</th>\n",
       "      <td>36956</td>\n",
       "      <td>Coproduction</td>\n",
       "      <td>Théâtre National de Chaillot  (Paris)</td>\n",
       "      <td>585</td>\n",
       "    </tr>\n",
       "    <tr>\n",
       "      <th>1</th>\n",
       "      <td>36956</td>\n",
       "      <td>Coproduction</td>\n",
       "      <td>HAU Theater Hebbel am Ufer  (Berlin)</td>\n",
       "      <td>206</td>\n",
       "    </tr>\n",
       "    <tr>\n",
       "      <th>2</th>\n",
       "      <td>36956</td>\n",
       "      <td>Coproduction</td>\n",
       "      <td>Grand Théâtre de la Ville de Luxembourg  (Luxe...</td>\n",
       "      <td>383</td>\n",
       "    </tr>\n",
       "    <tr>\n",
       "      <th>3</th>\n",
       "      <td>36956</td>\n",
       "      <td>Coproduction</td>\n",
       "      <td>La Rose des Vents  (Villeneuve-d'Ascq)</td>\n",
       "      <td>141</td>\n",
       "    </tr>\n",
       "    <tr>\n",
       "      <th>4</th>\n",
       "      <td>36956</td>\n",
       "      <td>Coproduction</td>\n",
       "      <td>Centro Cultural Vila Flor  (Guimarães)</td>\n",
       "      <td>12754</td>\n",
       "    </tr>\n",
       "    <tr>\n",
       "      <th>5</th>\n",
       "      <td>36956</td>\n",
       "      <td>Diffusion</td>\n",
       "      <td>Frans Brood Productions  (Gand)</td>\n",
       "      <td>4312</td>\n",
       "    </tr>\n",
       "  </tbody>\n",
       "</table>\n",
       "</div>"
      ],
      "text/plain": [
       "  performanceId     type_aide  \\\n",
       "0         36956  Coproduction   \n",
       "1         36956  Coproduction   \n",
       "2         36956  Coproduction   \n",
       "3         36956  Coproduction   \n",
       "4         36956  Coproduction   \n",
       "5         36956     Diffusion   \n",
       "\n",
       "                                            organism organismId  \n",
       "0              Théâtre National de Chaillot  (Paris)        585  \n",
       "1               HAU Theater Hebbel am Ufer  (Berlin)        206  \n",
       "2  Grand Théâtre de la Ville de Luxembourg  (Luxe...        383  \n",
       "3             La Rose des Vents  (Villeneuve-d'Ascq)        141  \n",
       "4             Centro Cultural Vila Flor  (Guimarães)      12754  \n",
       "5                    Frans Brood Productions  (Gand)       4312  "
      ]
     },
     "execution_count": 1,
     "metadata": {},
     "output_type": "execute_result"
    }
   ],
   "source": [
    "#pour un spectacle voir les coproductions\n",
    "#https://www.lesarchivesduspectacle.net/?IDX_Spectacle=90517#spectacle-partenaires-de-production\n",
    "#Perchée dans les arbres 8 coproductions \n",
    "\n",
    "import urllib.request\n",
    "import re\n",
    "import pandas as pd\n",
    "# import the BeautifulSoup library so we can parse HTML and XML documents\n",
    "from bs4 import BeautifulSoup\n",
    "#spectacleId=\"34525\"\n",
    "spectacleId=\"36956\"\n",
    "#spectacleId=\"90517\"\n",
    "# specify which URL/web page we are going to be scraping\n",
    "url = \"https://www.lesarchivesduspectacle.net/?IDX_Spectacle=\" + spectacleId +\"#spectacle-partenaires-de-production\"\n",
    "# open the url using urllib.request and put the HTML into the page variable\n",
    "page = urllib.request.urlopen(url)\n",
    "# parse the HTML from our URL into the BeautifulSoup parse tree format\n",
    "soup = BeautifulSoup(page, \"lxml\")\n",
    "#the div where the information is\n",
    "#the div where the information is\n",
    "table = soup.find('table', class_='f-spectacle__production-bis') \n",
    "# Down below we'll add our inmates to this list\n",
    "inmates_list = []\n",
    "\n",
    "# BeautifulSoup provides nice ways to access the data in the parsed\n",
    "# page. Here, we'll use the select method and pass it a CSS style\n",
    "# selector to grab all the rows in the table (the rows contain the \n",
    "# inmate names and ages).\n",
    "\n",
    "for table_row in table.find_all('tr'):\n",
    "    # Each tr (table row) has three td HTML elements (most people \n",
    "    # call these table cels) in it (first name, last name, and age)\n",
    "    cells = table_row.findAll('td')\n",
    "    # Our table has one exception -- a row without any cells.\n",
    "    # Let's handle that special case here by making sure we\n",
    "    # have more than zero cells before processing the cells\n",
    "    if len(cells) > 0:\n",
    "        organism = cells[1].text.strip()\n",
    "        organism_element = cells[1].find('a',class_='c_Organisme b')\n",
    "        organismId = organism_element['href'].replace(\"?IDX_Organisme=\",\"\")\n",
    "        type_aide = cells[0].text.strip()\n",
    "        if(type_aide != ''):\n",
    "            type_aide_master = type_aide\n",
    "        \n",
    "        else:\n",
    "            type_aide = type_aide_master\n",
    "        inmate = {'performanceId': spectacleId,'type_aide': type_aide,'organism': organism,'organismId': organismId}\n",
    "        inmates_list.append(inmate)\n",
    "\n",
    "df = pd.DataFrame(inmates_list)\n",
    "df\n"
   ]
  },
  {
   "cell_type": "markdown",
   "metadata": {},
   "source": [
    "## Fonction qui retourne les types d'aide "
   ]
  },
  {
   "cell_type": "code",
   "execution_count": 9,
   "metadata": {},
   "outputs": [],
   "source": [
    "#function return dataframe with type_aide and organism\n",
    "import urllib.request\n",
    "import re\n",
    "# import the BeautifulSoup library so we can parse HTML and XML documents\n",
    "from bs4 import BeautifulSoup\n",
    "import pandas as pd\n",
    "import socket\n",
    "\n",
    "def import_df_type_production(spectacleId,saison):\n",
    "    # specify which URL/web page we are going to be scraping\n",
    "    url = \"https://www.lesarchivesduspectacle.net/?IDX_Spectacle=\" + spectacleId +\"#spectacle-partenaires-de-production\"\n",
    "    try:\n",
    "        page = urllib.request.urlopen(url)\n",
    "        # parse the HTML from our URL into the BeautifulSoup parse tree format\n",
    "        soup = BeautifulSoup(page, \"lxml\")\n",
    "        table = soup.find('table', class_='f-spectacle__production-bis') \n",
    "        # Down below we'll add our inmates to this list\n",
    "        inmates_list = []\n",
    "        if table is not None:\n",
    "            for table_row in table.find_all('tr'):\n",
    "                if table_row is not None:\n",
    "                    cells = table_row.findAll('td')\n",
    "                    if len(cells) > 0:\n",
    "                        organism = cells[1].text.strip()\n",
    "                        organism_element = cells[1].find('a',class_='c_Organisme b')\n",
    "                        organismId = organism_element['href'].replace(\"?IDX_Organisme=\",\"\")\n",
    "                        type_aide = cells[0].text.strip()\n",
    "                        if(type_aide != ''):\n",
    "                            type_aide_master = type_aide \n",
    "                        else:\n",
    "                            type_aide = type_aide_master\n",
    "                        inmate = {'performanceId': spectacleId,'type_aide': type_aide,'organism': organism,'organismId': organismId,'saison':saison}\n",
    "                        inmates_list.append(inmate)\n",
    "                    else:\n",
    "                        inmate = {'performanceId': spectacleId,'type_aide': '','organism': '','organismId': '','saison':saison}\n",
    "                        inmates_list.append(inmate) \n",
    "            df = pd.DataFrame(inmates_list)\n",
    "            return df\n",
    "        else:\n",
    "            inmate = {'performanceId': spectacleId,'type_aide': '','organism': '','organismId': '','saison':saison}\n",
    "            inmates_list.append(inmate)\n",
    "            df = pd.DataFrame(inmates_list)\n",
    "            return df\n",
    "    except urllib.error.URLError as e:\n",
    "        print(e.reason + \"for spectacleId \"  + spectacleId + \" saison \" + saison)\n",
    "    except socket.timeout as e: # <-------- this block here\n",
    "        print(\"We timed out\")"
   ]
  },
  {
   "cell_type": "markdown",
   "metadata": {},
   "source": [
    "## Génération des types d'aide pour un organisme donné"
   ]
  },
  {
   "cell_type": "markdown",
   "metadata": {},
   "source": [
    "### Arsenal"
   ]
  },
  {
   "cell_type": "code",
   "execution_count": 13,
   "metadata": {},
   "outputs": [
    {
     "name": "stdout",
     "output_type": "stream",
     "text": [
      "start 2020-08-23 13:21:36.771744\n",
      "finish 2020-08-23 13:22:32.446713\n"
     ]
    }
   ],
   "source": [
    "#Pour les spectacles à l'Arsenal voir les types d'aide\n",
    "# ORGANISM ID DE L'ETUDE\n",
    "# 439 Arsenal\n",
    "# 699 CCAM [Centre culturel André Malraux] - Scène Nationale de Vandoeuvre-lès-Nancy\n",
    "# 383 Grand théâtre du Luxembourg\n",
    "# 1914 Carreau forbach \n",
    "import time\n",
    "from datetime import datetime\n",
    "import pandas as pd\n",
    "organismId=\"439\"\n",
    "csv_file_path = os.getcwd() + \"/data/all_10_years_organism_\"+ organismId + \"_danse.csv\"\n",
    "df_organism = pd.read_csv(csv_file_path)\n",
    "df = pd.DataFrame(columns=['performanceId','type_aide','organism','organismId'])                        \n",
    "print(\"start\",datetime.now()) \n",
    "for row in df_organism.itertuples():\n",
    "    if (row.performanceId!=0):\n",
    "        #call the function to have the type_aide and orgnaism\n",
    "        try:\n",
    "            df=df.append(import_df_type_production(str(row.performanceId),row.year),sort=False,ignore_index=True)\n",
    "        except Exception as err:\n",
    "            continue\n",
    "df.to_csv(os.getcwd() + \"/data/all_10_years_organism_\" + organismId + \"_type_production_danse.csv\")\n",
    "\n",
    "print(\"finish\",datetime.now())"
   ]
  },
  {
   "cell_type": "markdown",
   "metadata": {},
   "source": [
    "### CCAM"
   ]
  },
  {
   "cell_type": "code",
   "execution_count": 14,
   "metadata": {},
   "outputs": [
    {
     "name": "stdout",
     "output_type": "stream",
     "text": [
      "start 2020-08-23 13:24:42.663685\n",
      "finish 2020-08-23 13:25:24.325984\n"
     ]
    }
   ],
   "source": [
    "import time\n",
    "import os\n",
    "from datetime import datetime\n",
    "import pandas as pd\n",
    "organismId=\"699\"\n",
    "csv_file_path = os.getcwd() + \"/data/all_10_years_organism_\"+ organismId + \"_danse.csv\"\n",
    "df_organism = pd.read_csv(csv_file_path)\n",
    "df = pd.DataFrame(columns=['performanceId','type_aide','organism','organismId'])                        \n",
    "print(\"start\",datetime.now()) \n",
    "for row in df_organism.itertuples():\n",
    "    if (row.performanceId!=0):\n",
    "        #call the function to have the type_aide and orgnaism\n",
    "        try:\n",
    "            df=df.append(import_df_type_production(str(row.performanceId),row.year),sort=False,ignore_index=True)\n",
    "        except Exception as err:\n",
    "            continue\n",
    "df.to_csv(os.getcwd() + \"/data/all_10_years_organism_\" + organismId + \"_type_production_danse.csv\")\n",
    "\n",
    "print(\"finish\",datetime.now())\n"
   ]
  },
  {
   "cell_type": "code",
   "execution_count": 4,
   "metadata": {},
   "outputs": [
    {
     "name": "stdout",
     "output_type": "stream",
     "text": [
      "start 2020-08-23 13:01:25.401347\n",
      "finish 2020-08-23 13:01:25.407538\n"
     ]
    }
   ],
   "source": []
  },
  {
   "cell_type": "code",
   "execution_count": 3,
   "metadata": {},
   "outputs": [
    {
     "data": {
      "text/plain": [
       "saison\n",
       "2010.0     1\n",
       "2011.0     5\n",
       "2012.0    12\n",
       "2013.0     5\n",
       "2014.0     2\n",
       "2015.0     2\n",
       "2016.0     1\n",
       "2018.0     3\n",
       "2019.0     2\n",
       "Name: performanceId, dtype: int64"
      ]
     },
     "execution_count": 3,
     "metadata": {},
     "output_type": "execute_result"
    }
   ],
   "source": [
    "import time\n",
    "from datetime import datetime\n",
    "import pandas as pd\n",
    "csv_file_path = \"all_10_years_organism_383_type_production.csv\"\n",
    "df_type_production = pd.read_csv(csv_file_path)\n",
    "\n",
    "df_type_production = df_type_production[df_type_production['type_aide'] == 'Coproduction']\n",
    "#where coproduction est Arsenal\n",
    "df_type_production = df_type_production[df_type_production['organismId'] == 383.0]\n",
    "df_type_production.groupby([\"saison\"]).performanceId.count()"
   ]
  },
  {
   "cell_type": "code",
   "execution_count": 33,
   "metadata": {},
   "outputs": [
    {
     "data": {
      "text/plain": [
       "Coproduction     646\n",
       "Soutien          247\n",
       "Aide              67\n",
       "Partenariat       23\n",
       "Résidence         20\n",
       "Collaboration      8\n",
       "Participation      4\n",
       "Diffusion          4\n",
       "Coréalisation      1\n",
       "Name: type_aide, dtype: int64"
      ]
     },
     "execution_count": 33,
     "metadata": {},
     "output_type": "execute_result"
    }
   ],
   "source": [
    "#Coproduction arsenal\n",
    "#saison\n",
    "#2010.0    1\n",
    "#2011.0    6\n",
    "#2012.0    4\n",
    "#2013.0    2\n",
    "#2014.0    4\n",
    "#2015.0    1\n",
    "#2016.0    1\n",
    "#2017.0    3\n",
    "#2018.0    3\n",
    "\n",
    "\n",
    "\n",
    "#2010    17\n",
    "#2011    19\n",
    "#2012    15\n",
    "#2013    12\n",
    "#2014    20\n",
    "#2015    13\n",
    "#2016    22\n",
    "#2017    19\n",
    "#2018    31\n",
    "#2019    27\n",
    "import time\n",
    "from datetime import datetime\n",
    "import pandas as pd\n",
    "csv_file_path = \"all_10_years_organism_439_type_production.csv\"\n",
    "df_type_production = pd.read_csv(csv_file_path)\n",
    "df_type_production.type_aide.value_counts()\n"
   ]
  },
  {
   "cell_type": "code",
   "execution_count": 33,
   "metadata": {},
   "outputs": [
    {
     "data": {
      "text/plain": [
       "Coproduction    25\n",
       "Résidence        1\n",
       "Partenariat      1\n",
       "Name: type_aide, dtype: int64"
      ]
     },
     "execution_count": 33,
     "metadata": {},
     "output_type": "execute_result"
    }
   ],
   "source": [
    "import time\n",
    "from datetime import datetime\n",
    "import pandas as pd\n",
    "csv_file_path = \"all_10_years_organism_439_type_production.csv\"\n",
    "df_type_production = pd.read_csv(csv_file_path)\n",
    "#where organism is Arsenal\n",
    "df_type_production = df_type_production[df_type_production['organismId'] == 439.0]\n",
    "df_type_production.type_aide.value_counts()\n",
    "#df_type_production.nunique()\n",
    "#df_type_production "
   ]
  },
  {
   "cell_type": "markdown",
   "metadata": {},
   "source": [
    "## Moyenne de coproduction par spectacle"
   ]
  },
  {
   "cell_type": "code",
   "execution_count": 47,
   "metadata": {},
   "outputs": [
    {
     "data": {
      "text/plain": [
       "4.486111111111111"
      ]
     },
     "execution_count": 47,
     "metadata": {},
     "output_type": "execute_result"
    }
   ],
   "source": [
    "import time\n",
    "from datetime import datetime\n",
    "import pandas as pd\n",
    "csv_file_path = \"all_10_years_organism_439_type_production.csv\"\n",
    "df_type_production = pd.read_csv(csv_file_path)\n",
    "#where organism is Arsenal\n",
    "#df_type_production = df_type_production[df_type_production['organismId'] == 383.0]\n",
    "#df_type_production.type_aide.value_counts()\n",
    "#df_type_production.nunique()\n",
    "#df_type_production.nunique()\n",
    "#df_type_production.type_aide.value_counts()\n",
    "\n",
    "#df_type_production.set_index(['performanceId'], drop=True, inplace=True)\n",
    "#df_type_production.groupby([\"type_aide\"]).type_aide.count().sort_values(ascending=False)\n",
    "\n",
    "\n",
    "df_type_production = df_type_production[df_type_production['type_aide'] == 'Coproduction']\n",
    "#df_type_production.groupby([\"performanceId\"]).type_aide.count().sort_values(ascending=False)\n",
    "\n",
    "df_type_production.groupby([\"performanceId\"]).type_aide.count().mean()\n",
    "##33 performance en coproduction faite par l'institution passée en paramètre sur 476 performances Luxembourg\n",
    "## 6 performance en coproduction 192  Arsenal \n",
    "\n",
    "#moyenne de coprodcutuion 4.48\n",
    "#moyenne de coprodcutuion si Arsenael faut selectionner les performanceId si organismId == arsenal\n",
    "# et ces performznceId les sélectionner dans dataframe origiine et group by \n",
    "\n",
    "#df_type_production.nunique()"
   ]
  },
  {
   "cell_type": "code",
   "execution_count": 57,
   "metadata": {},
   "outputs": [
    {
     "data": {
      "text/plain": [
       "Unnamed: 0       38\n",
       "performanceId    38\n",
       "type_aide         0\n",
       "organism          0\n",
       "organismId        0\n",
       "saison            9\n",
       "dtype: int64"
      ]
     },
     "execution_count": 57,
     "metadata": {},
     "output_type": "execute_result"
    }
   ],
   "source": [
    "import time\n",
    "from datetime import datetime\n",
    "import pandas as pd\n",
    "csv_file_path = \"all_10_years_organism_439_type_production.csv\"\n",
    "df_type_production = pd.read_csv(csv_file_path)\n",
    "df_type_production[df_type_production['type_aide'].isnull().values].nunique()\n"
   ]
  },
  {
   "cell_type": "markdown",
   "metadata": {},
   "source": [
    "## DRAC"
   ]
  },
  {
   "cell_type": "markdown",
   "metadata": {},
   "source": [
    "### DRAC Arsenal"
   ]
  },
  {
   "cell_type": "code",
   "execution_count": 15,
   "metadata": {},
   "outputs": [],
   "source": [
    "import time\n",
    "from datetime import datetime\n",
    "import pandas as pd\n",
    "organismId=\"439\"\n",
    "csv_file_path = os.getcwd() + \"/data/all_10_years_organism_\" + organismId + \"_type_production_danse.csv\"\n",
    "df_type_production = pd.read_csv(csv_file_path)\n",
    "\n",
    "df_type_production = df_type_production[df_type_production['type_aide'] == 'Soutien']\n",
    "#where coproduction est Arsenal\n",
    "#df_type_production = df_type_production[df_type_production['organismId'] == 383.0]\n",
    "#df_type_production.groupby([\"saison\"]).performanceId.count()"
   ]
  },
  {
   "cell_type": "code",
   "execution_count": 18,
   "metadata": {},
   "outputs": [
    {
     "data": {
      "text/html": [
       "<div>\n",
       "<style scoped>\n",
       "    .dataframe tbody tr th:only-of-type {\n",
       "        vertical-align: middle;\n",
       "    }\n",
       "\n",
       "    .dataframe tbody tr th {\n",
       "        vertical-align: top;\n",
       "    }\n",
       "\n",
       "    .dataframe thead th {\n",
       "        text-align: right;\n",
       "    }\n",
       "</style>\n",
       "<table border=\"1\" class=\"dataframe\">\n",
       "  <thead>\n",
       "    <tr style=\"text-align: right;\">\n",
       "      <th></th>\n",
       "      <th>Unnamed: 0</th>\n",
       "      <th>performanceId</th>\n",
       "      <th>type_aide</th>\n",
       "      <th>organism</th>\n",
       "      <th>organismId</th>\n",
       "      <th>saison</th>\n",
       "    </tr>\n",
       "  </thead>\n",
       "  <tbody>\n",
       "    <tr>\n",
       "      <th>143</th>\n",
       "      <td>143</td>\n",
       "      <td>29203</td>\n",
       "      <td>Soutien</td>\n",
       "      <td>DRAC Lorraine  (Metz)</td>\n",
       "      <td>712.0</td>\n",
       "      <td>2012.0</td>\n",
       "    </tr>\n",
       "    <tr>\n",
       "      <th>150</th>\n",
       "      <td>150</td>\n",
       "      <td>46999</td>\n",
       "      <td>Soutien</td>\n",
       "      <td>DRAC Lorraine  (Metz)</td>\n",
       "      <td>712.0</td>\n",
       "      <td>2012.0</td>\n",
       "    </tr>\n",
       "    <tr>\n",
       "      <th>170</th>\n",
       "      <td>170</td>\n",
       "      <td>52149</td>\n",
       "      <td>Soutien</td>\n",
       "      <td>DRAC Lorraine  (Metz)</td>\n",
       "      <td>712.0</td>\n",
       "      <td>2013.0</td>\n",
       "    </tr>\n",
       "    <tr>\n",
       "      <th>255</th>\n",
       "      <td>255</td>\n",
       "      <td>59853</td>\n",
       "      <td>Soutien</td>\n",
       "      <td>DRAC Lorraine  (Metz)</td>\n",
       "      <td>712.0</td>\n",
       "      <td>2014.0</td>\n",
       "    </tr>\n",
       "    <tr>\n",
       "      <th>328</th>\n",
       "      <td>328</td>\n",
       "      <td>60050</td>\n",
       "      <td>Soutien</td>\n",
       "      <td>DRAC Lorraine  (Metz)</td>\n",
       "      <td>712.0</td>\n",
       "      <td>2015.0</td>\n",
       "    </tr>\n",
       "    <tr>\n",
       "      <th>429</th>\n",
       "      <td>429</td>\n",
       "      <td>74341</td>\n",
       "      <td>Soutien</td>\n",
       "      <td>DRAC Lorraine  (Metz)</td>\n",
       "      <td>712.0</td>\n",
       "      <td>2016.0</td>\n",
       "    </tr>\n",
       "  </tbody>\n",
       "</table>\n",
       "</div>"
      ],
      "text/plain": [
       "     Unnamed: 0  performanceId type_aide               organism  organismId  \\\n",
       "143         143          29203   Soutien  DRAC Lorraine  (Metz)       712.0   \n",
       "150         150          46999   Soutien  DRAC Lorraine  (Metz)       712.0   \n",
       "170         170          52149   Soutien  DRAC Lorraine  (Metz)       712.0   \n",
       "255         255          59853   Soutien  DRAC Lorraine  (Metz)       712.0   \n",
       "328         328          60050   Soutien  DRAC Lorraine  (Metz)       712.0   \n",
       "429         429          74341   Soutien  DRAC Lorraine  (Metz)       712.0   \n",
       "\n",
       "     saison  \n",
       "143  2012.0  \n",
       "150  2012.0  \n",
       "170  2013.0  \n",
       "255  2014.0  \n",
       "328  2015.0  \n",
       "429  2016.0  "
      ]
     },
     "execution_count": 18,
     "metadata": {},
     "output_type": "execute_result"
    }
   ],
   "source": [
    "df_type_production[df_type_production['organismId'].isin(['712.0','44731.0'])]"
   ]
  },
  {
   "cell_type": "code",
   "execution_count": null,
   "metadata": {},
   "outputs": [],
   "source": [
    "#DRAC Lorraine IDX_Organisme=712\n",
    "#DRAC Grand Est IDX_Organisme=44731"
   ]
  }
 ],
 "metadata": {
  "kernelspec": {
   "display_name": "Python 3",
   "language": "python",
   "name": "python3"
  },
  "language_info": {
   "codemirror_mode": {
    "name": "ipython",
    "version": 3
   },
   "file_extension": ".py",
   "mimetype": "text/x-python",
   "name": "python",
   "nbconvert_exporter": "python",
   "pygments_lexer": "ipython3",
   "version": "3.7.6"
  },
  "toc": {
   "base_numbering": 1,
   "nav_menu": {},
   "number_sections": true,
   "sideBar": true,
   "skip_h1_title": false,
   "title_cell": "Table of Contents",
   "title_sidebar": "Contents",
   "toc_cell": false,
   "toc_position": {
    "height": "calc(100% - 180px)",
    "left": "10px",
    "top": "150px",
    "width": "288px"
   },
   "toc_section_display": true,
   "toc_window_display": true
  }
 },
 "nbformat": 4,
 "nbformat_minor": 1
}
