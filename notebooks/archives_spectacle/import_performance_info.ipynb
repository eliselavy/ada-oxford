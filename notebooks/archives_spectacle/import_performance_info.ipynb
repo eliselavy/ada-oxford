{
 "cells": [
  {
   "cell_type": "markdown",
   "metadata": {},
   "source": [
    "# Récupération des données"
   ]
  },
  {
   "cell_type": "markdown",
   "metadata": {},
   "source": [
    "## Pour un spectacle donné"
   ]
  },
  {
   "cell_type": "code",
   "execution_count": 46,
   "metadata": {},
   "outputs": [
    {
     "data": {
      "text/html": [
       "<div>\n",
       "<style scoped>\n",
       "    .dataframe tbody tr th:only-of-type {\n",
       "        vertical-align: middle;\n",
       "    }\n",
       "\n",
       "    .dataframe tbody tr th {\n",
       "        vertical-align: top;\n",
       "    }\n",
       "\n",
       "    .dataframe thead th {\n",
       "        text-align: right;\n",
       "    }\n",
       "</style>\n",
       "<table border=\"1\" class=\"dataframe\">\n",
       "  <thead>\n",
       "    <tr style=\"text-align: right;\">\n",
       "      <th></th>\n",
       "      <th>Genre</th>\n",
       "      <th>Durée</th>\n",
       "      <th>Pays</th>\n",
       "      <th>spectacleId</th>\n",
       "      <th>typeDate</th>\n",
       "      <th>date</th>\n",
       "      <th>organismeId</th>\n",
       "      <th>organismeName</th>\n",
       "      <th>to_analyse</th>\n",
       "    </tr>\n",
       "  </thead>\n",
       "  <tbody>\n",
       "    <tr>\n",
       "      <th>0</th>\n",
       "      <td>Théâtre – Jeune public – à partir de 8 ans</td>\n",
       "      <td>1 heure</td>\n",
       "      <td>France</td>\n",
       "      <td>60720</td>\n",
       "      <td>Création le</td>\n",
       "      <td>2014-03-19</td>\n",
       "      <td>?IDX_Organisme=27836</td>\n",
       "      <td>Le Petit Écho de la Mode</td>\n",
       "      <td>Création le</td>\n",
       "    </tr>\n",
       "  </tbody>\n",
       "</table>\n",
       "</div>"
      ],
      "text/plain": [
       "                                        Genre    Durée    Pays  spectacleId  \\\n",
       "0  Théâtre – Jeune public – à partir de 8 ans  1 heure  France        60720   \n",
       "\n",
       "       typeDate        date           organismeId             organismeName  \\\n",
       "0  Création le   2014-03-19  ?IDX_Organisme=27836  Le Petit Écho de la Mode   \n",
       "\n",
       "    to_analyse  \n",
       "0  Création le  "
      ]
     },
     "execution_count": 46,
     "metadata": {},
     "output_type": "execute_result"
    }
   ],
   "source": [
    "import urllib.request\n",
    "import re\n",
    "import pandas as pd\n",
    "import os\n",
    "# import the BeautifulSoup library so we can parse HTML and XML documents\n",
    "from bs4 import BeautifulSoup\n",
    "#spectacleId=\"37982\"\n",
    "\n",
    "#here id example with inside <p> <span class=\"n\"> spectacleId=\"60720\"\n",
    "spectacleId=\"60720\"\n",
    "#spectacleId=\"36956\"\n",
    "#spectacleId=\"20185\"\n",
    "# specify which URL/web page we are going to be scraping\n",
    "url = \"https://www.lesarchivesduspectacle.net/?IDX_Spectacle=\" + spectacleId\n",
    "# open the url using urllib.request and put the HTML into the page variable\n",
    "page = urllib.request.urlopen(url)\n",
    "# parse the HTML from our URL into the BeautifulSoup parse tree format\n",
    "soup = BeautifulSoup(page, \"lxml\")\n",
    "#the div where the information is\n",
    "#the div where the information is\n",
    "div_interested = soup.find('div', class_='fiche__footer') \n",
    "column_label=[]\n",
    "column_value=[]\n",
    "for row in div_interested.find_all('table')[0].findAll('tr'):\n",
    "    th = row.findAll('th')[0].contents[0]\n",
    "    td = row.findAll('td')[0].contents[0]\n",
    "    column_label.append(th)\n",
    "    column_value.append(td)\n",
    "new_table = pd.DataFrame(columns=column_label, index= [0]) # I know the size\n",
    "new_table[\"spectacleId\"]=int(spectacleId)\n",
    "for row in div_interested.find_all('table')[0].findAll('tr'):\n",
    "    th = row.findAll('th')[0].contents[0]\n",
    "    td = row.findAll('td')[0].contents[0].strip()\n",
    "    new_table.at[0,th] = td\n",
    "#Recuperer creation_date - organism_creation \n",
    "#the div where the information is\n",
    "div_spectacle = soup.find('div', id='div_Spectacle')\n",
    "p_spectacle = div_spectacle.find_all('p')[0]\n",
    "if(p_spectacle) != None :\n",
    "    for time in p_spectacle.findAll('time'):\n",
    "        if time.has_attr('datetime'):\n",
    "            new_table[\"typeDate\"]=time.previousSibling\n",
    "            new_table[\"date\"]=time['datetime']\n",
    "    for organism in p_spectacle.findAll('a',class_ ='c_Organisme'):\n",
    "        if organism.has_attr('href'):\n",
    "            new_table[\"organismeId\"]=organism['href']\n",
    "            new_table[\"organismeName\"]=organism.contents[0].strip()\n",
    "    if p_spectacle.find_all('span'):\n",
    "        first = next(p_spectacle.stripped_strings)\n",
    "        new_table[\"to_analyse\"]=first\n",
    "    else:\n",
    "        new_table[\"to_analyse\"]=p_spectacle.contents[0].string.strip()\n",
    "    #print(p_spectacle.getText().strip())\n",
    "    #if p_spectacle.contents[0].strip():\n",
    "    #for string in p_spectacle.stripped_strings:\n",
    "    #    print(string[0])\n",
    "    #new_table[\"to_analyse\"]=p_spectacle.contents[0].string.strip()\n",
    "    #new_table[\"to_analyse\"]=p_spectacle.stripped_strings[0]\n",
    "    #print(p_spectacle.stripped_strings[0])\n",
    "    \n",
    "        # fetch and print first item\n",
    "       # first = next(p_spectacle.stripped_strings)\n",
    "       # print('first item:', first)\n",
    "    \n",
    "    #new_table[\"to_analyse\"]=p_spectacle.contents[0].strip()\n",
    "#new_table.dtypes\n",
    "#table[0] class=\"f-spectacle__equipe\"    table[1]  class=\"f-spectacle__equipe\"  \n",
    "#table_production = div_spectacle.find_all('table')[2]\n",
    "#print(table_production)\n",
    "new_table\n",
    "\n"
   ]
  },
  {
   "cell_type": "markdown",
   "metadata": {},
   "source": [
    "## Fonction pour récupérer les informations liées à un spectacle\n"
   ]
  },
  {
   "cell_type": "code",
   "execution_count": 47,
   "metadata": {},
   "outputs": [],
   "source": [
    "import urllib.request\n",
    "import re\n",
    "from bs4 import BeautifulSoup\n",
    "import pandas as pd\n",
    "import socket, errno\n",
    "import sys\n",
    "\n",
    "def import_df_type_spectacle(spectacleId):\n",
    "    # specify which URL/web page we are going to be scraping\n",
    "    url = \"https://www.lesarchivesduspectacle.net/?IDX_Spectacle=\" + str(spectacleId)    \n",
    "    try:\n",
    "        if spectacleId != 0:\n",
    "            # open the url using urllib.request and put the HTML into the page variable\n",
    "            page = urllib.request.urlopen(url)\n",
    "            # parse the HTML from our URL into the BeautifulSoup parse tree format\n",
    "            soup = BeautifulSoup(page, \"lxml\")\n",
    "            div_interested = soup.find('div', class_='fiche__footer') \n",
    "            column_label=[]\n",
    "            column_value=[]\n",
    "            for row in div_interested.find_all('table')[0].findAll('tr'):\n",
    "                th = row.findAll('th')[0].contents[0]\n",
    "                td = row.findAll('td')[0].contents[0]\n",
    "                column_label.append(th)\n",
    "                column_value.append(td)\n",
    "            new_table = pd.DataFrame(columns=column_label, index= [0]) # I know the size\n",
    "            new_table[\"spectacleId\"]=int(spectacleId)\n",
    "            for row in div_interested.find_all('table')[0].findAll('tr'):\n",
    "                th = row.findAll('th')[0].contents[0]\n",
    "                td = row.findAll('td')[0].contents[0].strip()\n",
    "                new_table.at[0,th] = td\n",
    "            #Recuperer creation_date - organism_creation \n",
    "            #the div where the information is\n",
    "            div_spectacle = soup.find('div', id='div_Spectacle')\n",
    "            p_spectacle = div_spectacle.find_all('p')[0]\n",
    "            if(p_spectacle) != None :\n",
    "                for time in p_spectacle.findAll('time'):\n",
    "                    if time.has_attr('datetime'):\n",
    "                        new_table[\"typeDate\"]=time.previousSibling\n",
    "                        new_table[\"date\"]=time['datetime']\n",
    "                for organism in p_spectacle.findAll('a',class_ ='c_Organisme'):\n",
    "                    if organism.has_attr('href'):\n",
    "                        new_table[\"organismeId\"]=organism['href']\n",
    "                        new_table[\"organismeName\"]=organism.contents[0].strip()\n",
    "                if p_spectacle.find_all('span'):\n",
    "                    first = next(p_spectacle.stripped_strings)\n",
    "                    new_table[\"to_analyse\"]=first\n",
    "                else:\n",
    "                    new_table[\"to_analyse\"]=p_spectacle.contents[0].string.strip()\n",
    "            return new_table\n",
    "    except urllib.error.URLError as e:\n",
    "        print(e.reason + \"for spectacleId \"  + str(spectacleId))\n",
    "    except socket.timeout as e: # <-------- this block here\n",
    "        print(\"We timed out\")\n",
    "    except Exception as e:\n",
    "        print(\"Unexpected error for \" + str(spectacleId) + \" spectacle id \"+ str(e))\n",
    "        raise \n",
    "\n",
    "\n",
    "\n"
   ]
  },
  {
   "cell_type": "markdown",
   "metadata": {},
   "source": [
    "## Récupération des informations spectacles pour un organisme"
   ]
  },
  {
   "cell_type": "code",
   "execution_count": 48,
   "metadata": {},
   "outputs": [
    {
     "name": "stdout",
     "output_type": "stream",
     "text": [
      "start 2020-08-01 15:51:04.409540\n",
      "finish 2020-08-01 15:53:50.290892\n"
     ]
    }
   ],
   "source": [
    "import urllib.request\n",
    "import re\n",
    "from bs4 import BeautifulSoup\n",
    "import pandas as pd\n",
    "import time\n",
    "from datetime import datetime\n",
    "import pandas as pd\n",
    "import os\n",
    "import socket, errno\n",
    "# 439 Arsenal\n",
    "# 699 CCAM\n",
    "# 383 grand theatre \n",
    "# 1914 CARREAU\n",
    "\n",
    "organismId=\"1914\"\n",
    "print(\"start\",datetime.now()) \n",
    "path=os.getcwd() + \"/data/\"\n",
    "csv_file_path = path + \"all_10_years_organism_\" + organismId + \".csv\"\n",
    "\n",
    "df = pd.read_csv(csv_file_path)\n",
    "t_array = df[\"performanceId\"].to_numpy()\n",
    "\n",
    "frames = [ import_df_type_spectacle(f) for f in t_array ]\n",
    "result = pd.concat(frames)\n",
    "result.set_index(['spectacleId'], drop=True, inplace=True)\n",
    "result.to_csv(os.path.join(path,'all_10_years_organism_' + organismId + '_type_spectacle.csv'))\n",
    "print(\"finish\",datetime.now())\n",
    "\n"
   ]
  },
  {
   "cell_type": "markdown",
   "metadata": {},
   "source": [
    "# Filtre sur les spectacles de danse\n",
    "\n"
   ]
  },
  {
   "cell_type": "markdown",
   "metadata": {},
   "source": [
    "## Répartition par genre\n",
    "\n",
    "La base de données référencent les spectacles théâtre - danse - danse jeune public\n",
    "A voir pour une évolution des spectacles jeune public"
   ]
  },
  {
   "cell_type": "markdown",
   "metadata": {},
   "source": [
    "### Arsenal"
   ]
  },
  {
   "cell_type": "code",
   "execution_count": 65,
   "metadata": {},
   "outputs": [],
   "source": [
    "import os\n",
    "import pandas as pd\n",
    "organismId=\"439\"\n",
    "csv_file_path = os.getcwd() + \"/data/all_10_years_organism_\" + organismId + \"_type_spectacle.csv\"\n",
    "df_spectacle_arsenal = pd.read_csv(csv_file_path)\n",
    "#df_spectacle.groupby(\"Genre\")[\"spectacleId\"].count().sort_values(ascending=False)"
   ]
  },
  {
   "cell_type": "markdown",
   "metadata": {},
   "source": [
    "Le jeune public"
   ]
  },
  {
   "cell_type": "code",
   "execution_count": 66,
   "metadata": {},
   "outputs": [
    {
     "data": {
      "text/html": [
       "<div>\n",
       "<style scoped>\n",
       "    .dataframe tbody tr th:only-of-type {\n",
       "        vertical-align: middle;\n",
       "    }\n",
       "\n",
       "    .dataframe tbody tr th {\n",
       "        vertical-align: top;\n",
       "    }\n",
       "\n",
       "    .dataframe thead th {\n",
       "        text-align: right;\n",
       "    }\n",
       "</style>\n",
       "<table border=\"1\" class=\"dataframe\">\n",
       "  <thead>\n",
       "    <tr style=\"text-align: right;\">\n",
       "      <th></th>\n",
       "      <th>spectacleId</th>\n",
       "      <th>Genre</th>\n",
       "      <th>Durée</th>\n",
       "      <th>Pays</th>\n",
       "      <th>typeDate</th>\n",
       "      <th>date</th>\n",
       "      <th>organismeId</th>\n",
       "      <th>organismeName</th>\n",
       "      <th>to_analyse</th>\n",
       "    </tr>\n",
       "  </thead>\n",
       "  <tbody>\n",
       "    <tr>\n",
       "      <th>0</th>\n",
       "      <td>23453</td>\n",
       "      <td>Danse</td>\n",
       "      <td>1 heure</td>\n",
       "      <td>Belgique</td>\n",
       "      <td>Création le</td>\n",
       "      <td>2010-04-27</td>\n",
       "      <td>?IDX_Organisme=934&amp;Saison=2009</td>\n",
       "      <td>Théâtre Royal de la Monnaie</td>\n",
       "      <td>Création le</td>\n",
       "    </tr>\n",
       "    <tr>\n",
       "      <th>1</th>\n",
       "      <td>30546</td>\n",
       "      <td>Théâtre – Musique</td>\n",
       "      <td>NaN</td>\n",
       "      <td>France</td>\n",
       "      <td>NaN</td>\n",
       "      <td>NaN</td>\n",
       "      <td>NaN</td>\n",
       "      <td>NaN</td>\n",
       "      <td>Création 2010</td>\n",
       "    </tr>\n",
       "    <tr>\n",
       "      <th>2</th>\n",
       "      <td>19502</td>\n",
       "      <td>Danse</td>\n",
       "      <td>1 heure 20</td>\n",
       "      <td>États-Unis</td>\n",
       "      <td>Création le</td>\n",
       "      <td>2009-09-25</td>\n",
       "      <td>NaN</td>\n",
       "      <td>NaN</td>\n",
       "      <td>Création le</td>\n",
       "    </tr>\n",
       "    <tr>\n",
       "      <th>3</th>\n",
       "      <td>12451</td>\n",
       "      <td>Danse – Jeune public – à partir de 6 ans</td>\n",
       "      <td>NaN</td>\n",
       "      <td>France</td>\n",
       "      <td>NaN</td>\n",
       "      <td>NaN</td>\n",
       "      <td>NaN</td>\n",
       "      <td>NaN</td>\n",
       "      <td>Création 2008</td>\n",
       "    </tr>\n",
       "    <tr>\n",
       "      <th>4</th>\n",
       "      <td>20185</td>\n",
       "      <td>Danse – à partir de 7 ans</td>\n",
       "      <td>1 heure</td>\n",
       "      <td>France</td>\n",
       "      <td>Création le</td>\n",
       "      <td>2009-11-03</td>\n",
       "      <td>?IDX_Organisme=837&amp;Saison=2009</td>\n",
       "      <td>Maison de la Danse de Lyon</td>\n",
       "      <td>Création le</td>\n",
       "    </tr>\n",
       "    <tr>\n",
       "      <th>...</th>\n",
       "      <td>...</td>\n",
       "      <td>...</td>\n",
       "      <td>...</td>\n",
       "      <td>...</td>\n",
       "      <td>...</td>\n",
       "      <td>...</td>\n",
       "      <td>...</td>\n",
       "      <td>...</td>\n",
       "      <td>...</td>\n",
       "    </tr>\n",
       "    <tr>\n",
       "      <th>190</th>\n",
       "      <td>90791</td>\n",
       "      <td>Danse – Musique – à partir de 12 ans</td>\n",
       "      <td>1 heure</td>\n",
       "      <td>France</td>\n",
       "      <td>NaN</td>\n",
       "      <td>NaN</td>\n",
       "      <td>NaN</td>\n",
       "      <td>NaN</td>\n",
       "      <td>NaN</td>\n",
       "    </tr>\n",
       "    <tr>\n",
       "      <th>191</th>\n",
       "      <td>83385</td>\n",
       "      <td>Danse – Jeune public – jusqu'à 2 ans</td>\n",
       "      <td>25 minutes</td>\n",
       "      <td>France</td>\n",
       "      <td>NaN</td>\n",
       "      <td>NaN</td>\n",
       "      <td>NaN</td>\n",
       "      <td>NaN</td>\n",
       "      <td>Création 2017</td>\n",
       "    </tr>\n",
       "    <tr>\n",
       "      <th>192</th>\n",
       "      <td>84175</td>\n",
       "      <td>Danse – à partir de 7 ans</td>\n",
       "      <td>45 minutes</td>\n",
       "      <td>Suisse</td>\n",
       "      <td>Création le</td>\n",
       "      <td>2017-10-25</td>\n",
       "      <td>?IDX_Organisme=2254&amp;Saison=2017</td>\n",
       "      <td>Le Petit Théâtre</td>\n",
       "      <td>Création le</td>\n",
       "    </tr>\n",
       "    <tr>\n",
       "      <th>193</th>\n",
       "      <td>88311</td>\n",
       "      <td>Danse – Musique – à partir de 10 ans</td>\n",
       "      <td>1 heure 35</td>\n",
       "      <td>Burkina Faso</td>\n",
       "      <td>Création le</td>\n",
       "      <td>2018-06-29</td>\n",
       "      <td>?IDX_Organisme=436&amp;Annee=2018</td>\n",
       "      <td>La Friche La Belle de Mai</td>\n",
       "      <td>Création le</td>\n",
       "    </tr>\n",
       "    <tr>\n",
       "      <th>194</th>\n",
       "      <td>100038</td>\n",
       "      <td>Conte – Chanson – Jeune public – à partir de 6...</td>\n",
       "      <td>1 heure 15</td>\n",
       "      <td>France</td>\n",
       "      <td>NaN</td>\n",
       "      <td>NaN</td>\n",
       "      <td>NaN</td>\n",
       "      <td>NaN</td>\n",
       "      <td>Création 2020</td>\n",
       "    </tr>\n",
       "  </tbody>\n",
       "</table>\n",
       "<p>195 rows × 9 columns</p>\n",
       "</div>"
      ],
      "text/plain": [
       "     spectacleId                                              Genre  \\\n",
       "0          23453                                              Danse   \n",
       "1          30546                                  Théâtre – Musique   \n",
       "2          19502                                              Danse   \n",
       "3          12451           Danse – Jeune public – à partir de 6 ans   \n",
       "4          20185                          Danse – à partir de 7 ans   \n",
       "..           ...                                                ...   \n",
       "190        90791               Danse – Musique – à partir de 12 ans   \n",
       "191        83385               Danse – Jeune public – jusqu'à 2 ans   \n",
       "192        84175                          Danse – à partir de 7 ans   \n",
       "193        88311               Danse – Musique – à partir de 10 ans   \n",
       "194       100038  Conte – Chanson – Jeune public – à partir de 6...   \n",
       "\n",
       "          Durée          Pays      typeDate        date  \\\n",
       "0       1 heure      Belgique  Création le   2010-04-27   \n",
       "1           NaN        France           NaN         NaN   \n",
       "2    1 heure 20    États-Unis  Création le   2009-09-25   \n",
       "3           NaN        France           NaN         NaN   \n",
       "4       1 heure        France  Création le   2009-11-03   \n",
       "..          ...           ...           ...         ...   \n",
       "190     1 heure        France           NaN         NaN   \n",
       "191  25 minutes        France           NaN         NaN   \n",
       "192  45 minutes        Suisse  Création le   2017-10-25   \n",
       "193  1 heure 35  Burkina Faso  Création le   2018-06-29   \n",
       "194  1 heure 15        France           NaN         NaN   \n",
       "\n",
       "                         organismeId                organismeName  \\\n",
       "0     ?IDX_Organisme=934&Saison=2009  Théâtre Royal de la Monnaie   \n",
       "1                                NaN                          NaN   \n",
       "2                                NaN                          NaN   \n",
       "3                                NaN                          NaN   \n",
       "4     ?IDX_Organisme=837&Saison=2009   Maison de la Danse de Lyon   \n",
       "..                               ...                          ...   \n",
       "190                              NaN                          NaN   \n",
       "191                              NaN                          NaN   \n",
       "192  ?IDX_Organisme=2254&Saison=2017             Le Petit Théâtre   \n",
       "193    ?IDX_Organisme=436&Annee=2018    La Friche La Belle de Mai   \n",
       "194                              NaN                          NaN   \n",
       "\n",
       "        to_analyse  \n",
       "0      Création le  \n",
       "1    Création 2010  \n",
       "2      Création le  \n",
       "3    Création 2008  \n",
       "4      Création le  \n",
       "..             ...  \n",
       "190            NaN  \n",
       "191  Création 2017  \n",
       "192    Création le  \n",
       "193    Création le  \n",
       "194  Création 2020  \n",
       "\n",
       "[195 rows x 9 columns]"
      ]
     },
     "execution_count": 66,
     "metadata": {},
     "output_type": "execute_result"
    }
   ],
   "source": [
    "df_spectacle_arsenal"
   ]
  },
  {
   "cell_type": "code",
   "execution_count": 67,
   "metadata": {},
   "outputs": [
    {
     "data": {
      "text/plain": [
       "124"
      ]
     },
     "execution_count": 67,
     "metadata": {},
     "output_type": "execute_result"
    }
   ],
   "source": [
    "import re\n",
    "#Filtre sur le genre - string contains danse\n",
    "df_danse_arsenal=df_spectacle_arsenal[df_spectacle_arsenal['Genre'].astype(str).str.contains(\"Danse\",flags=re.IGNORECASE, regex=True)]\n",
    "len(df_danse_arsenal)"
   ]
  },
  {
   "cell_type": "code",
   "execution_count": 83,
   "metadata": {},
   "outputs": [
    {
     "data": {
      "text/plain": [
       "41.12903225806452"
      ]
     },
     "execution_count": 83,
     "metadata": {},
     "output_type": "execute_result"
    }
   ],
   "source": [
    "#Sur la danse - compte spectacle jeune public \n",
    "import re\n",
    "df_danse_arsenal_jeune=df_danse_arsenal[df_danse_arsenal['Genre'].astype(str).str.contains(\"Jeune public|à partir\",flags=re.IGNORECASE, regex=True)]\n",
    "# 51 spectacles len(df_danse_arsenal_jeune)\n",
    "part_jeune_arsenal=len(df_danse_arsenal_jeune)*100/len(df_danse_arsenal)\n",
    "part_jeune_arsenal"
   ]
  },
  {
   "cell_type": "markdown",
   "metadata": {},
   "source": [
    "### Grand théâtre"
   ]
  },
  {
   "cell_type": "code",
   "execution_count": 84,
   "metadata": {},
   "outputs": [
    {
     "data": {
      "text/plain": [
       "207"
      ]
     },
     "execution_count": 84,
     "metadata": {},
     "output_type": "execute_result"
    }
   ],
   "source": [
    "import time\n",
    "import os\n",
    "from datetime import datetime\n",
    "import pandas as pd\n",
    "organismId=\"383\"\n",
    "\n",
    "\n",
    "csv_file_path = os.getcwd() + \"/data/all_10_years_organism_\" + organismId + \"_type_spectacle.csv\"\n",
    "df_spectacle_lux = pd.read_csv(csv_file_path)\n",
    "#Filtre sur le genre - string contains danse\n",
    "\n",
    "df_danse_lux=df_spectacle_lux[df_spectacle_lux['Genre'].astype(str).str.contains(\"Danse\")]\n",
    "len(df_danse_lux)"
   ]
  },
  {
   "cell_type": "code",
   "execution_count": 85,
   "metadata": {},
   "outputs": [
    {
     "data": {
      "text/plain": [
       "18.357487922705314"
      ]
     },
     "execution_count": 85,
     "metadata": {},
     "output_type": "execute_result"
    }
   ],
   "source": [
    "#Sur la danse - compte spectacle jeune public \n",
    "import re\n",
    "df_danse_lux_jeune=df_danse_lux[df_danse_lux['Genre'].astype(str).str.contains(\"Jeune public|à partir\",flags=re.IGNORECASE, regex=True)]\n",
    "part_jeune_lux=len(df_danse_lux_jeune)*100/len(df_danse_lux)\n",
    "part_jeune_lux\n"
   ]
  },
  {
   "cell_type": "markdown",
   "metadata": {},
   "source": [
    "### CCAM"
   ]
  },
  {
   "cell_type": "code",
   "execution_count": 86,
   "metadata": {},
   "outputs": [
    {
     "data": {
      "text/html": [
       "<div>\n",
       "<style scoped>\n",
       "    .dataframe tbody tr th:only-of-type {\n",
       "        vertical-align: middle;\n",
       "    }\n",
       "\n",
       "    .dataframe tbody tr th {\n",
       "        vertical-align: top;\n",
       "    }\n",
       "\n",
       "    .dataframe thead th {\n",
       "        text-align: right;\n",
       "    }\n",
       "</style>\n",
       "<table border=\"1\" class=\"dataframe\">\n",
       "  <thead>\n",
       "    <tr style=\"text-align: right;\">\n",
       "      <th></th>\n",
       "      <th>spectacleId</th>\n",
       "      <th>Genre</th>\n",
       "      <th>Pays</th>\n",
       "      <th>typeDate</th>\n",
       "      <th>date</th>\n",
       "      <th>organismeId</th>\n",
       "      <th>organismeName</th>\n",
       "      <th>to_analyse</th>\n",
       "      <th>Durée</th>\n",
       "    </tr>\n",
       "  </thead>\n",
       "  <tbody>\n",
       "    <tr>\n",
       "      <th>6</th>\n",
       "      <td>29201</td>\n",
       "      <td>Danse</td>\n",
       "      <td>France</td>\n",
       "      <td>NaN</td>\n",
       "      <td>NaN</td>\n",
       "      <td>NaN</td>\n",
       "      <td>NaN</td>\n",
       "      <td>Création 2010</td>\n",
       "      <td>NaN</td>\n",
       "    </tr>\n",
       "    <tr>\n",
       "      <th>9</th>\n",
       "      <td>29203</td>\n",
       "      <td>Danse</td>\n",
       "      <td>France</td>\n",
       "      <td>Création le</td>\n",
       "      <td>2011-02-02</td>\n",
       "      <td>?IDX_Organisme=699&amp;Saison=2010</td>\n",
       "      <td>CCAM</td>\n",
       "      <td>Création le</td>\n",
       "      <td>NaN</td>\n",
       "    </tr>\n",
       "    <tr>\n",
       "      <th>15</th>\n",
       "      <td>27906</td>\n",
       "      <td>Danse</td>\n",
       "      <td>France</td>\n",
       "      <td>Création le</td>\n",
       "      <td>2010-10-01</td>\n",
       "      <td>?IDX_Organisme=1342&amp;Annee=2010</td>\n",
       "      <td>Théâtre du Point du Jour</td>\n",
       "      <td>Création le</td>\n",
       "      <td>NaN</td>\n",
       "    </tr>\n",
       "    <tr>\n",
       "      <th>20</th>\n",
       "      <td>29208</td>\n",
       "      <td>Danse</td>\n",
       "      <td>France</td>\n",
       "      <td>NaN</td>\n",
       "      <td>NaN</td>\n",
       "      <td>NaN</td>\n",
       "      <td>NaN</td>\n",
       "      <td>Création 2010</td>\n",
       "      <td>NaN</td>\n",
       "    </tr>\n",
       "    <tr>\n",
       "      <th>41</th>\n",
       "      <td>37959</td>\n",
       "      <td>Danse – Jeune public – à partir de 5 ans</td>\n",
       "      <td>France</td>\n",
       "      <td>Création le</td>\n",
       "      <td>2012-01-12</td>\n",
       "      <td>?IDX_Organisme=953&amp;Saison=2011</td>\n",
       "      <td>Théâtre Brétigny</td>\n",
       "      <td>Création le</td>\n",
       "      <td>50 minutes</td>\n",
       "    </tr>\n",
       "    <tr>\n",
       "      <th>...</th>\n",
       "      <td>...</td>\n",
       "      <td>...</td>\n",
       "      <td>...</td>\n",
       "      <td>...</td>\n",
       "      <td>...</td>\n",
       "      <td>...</td>\n",
       "      <td>...</td>\n",
       "      <td>...</td>\n",
       "      <td>...</td>\n",
       "    </tr>\n",
       "    <tr>\n",
       "      <th>283</th>\n",
       "      <td>2579</td>\n",
       "      <td>Danse</td>\n",
       "      <td>France</td>\n",
       "      <td>Création le</td>\n",
       "      <td>2007-06-24</td>\n",
       "      <td>?IDX_Organisme=339&amp;Annee=2007</td>\n",
       "      <td>Chai du Terral</td>\n",
       "      <td>Création le</td>\n",
       "      <td>1 heure</td>\n",
       "    </tr>\n",
       "    <tr>\n",
       "      <th>284</th>\n",
       "      <td>59223</td>\n",
       "      <td>Danse</td>\n",
       "      <td>France</td>\n",
       "      <td>Création le</td>\n",
       "      <td>2012-03-27</td>\n",
       "      <td>?IDX_Organisme=9286&amp;Annee=2012</td>\n",
       "      <td>Théâtre de Vanves</td>\n",
       "      <td>Création le</td>\n",
       "      <td>55 minutes</td>\n",
       "    </tr>\n",
       "    <tr>\n",
       "      <th>286</th>\n",
       "      <td>99502</td>\n",
       "      <td>Danse</td>\n",
       "      <td>France</td>\n",
       "      <td>NaN</td>\n",
       "      <td>NaN</td>\n",
       "      <td>NaN</td>\n",
       "      <td>NaN</td>\n",
       "      <td>NaN</td>\n",
       "      <td>50 minutes</td>\n",
       "    </tr>\n",
       "    <tr>\n",
       "      <th>290</th>\n",
       "      <td>90781</td>\n",
       "      <td>Danse – Musique</td>\n",
       "      <td>France</td>\n",
       "      <td>NaN</td>\n",
       "      <td>NaN</td>\n",
       "      <td>NaN</td>\n",
       "      <td>NaN</td>\n",
       "      <td>NaN</td>\n",
       "      <td>50 minutes</td>\n",
       "    </tr>\n",
       "    <tr>\n",
       "      <th>293</th>\n",
       "      <td>82881</td>\n",
       "      <td>Danse – à partir de 8 ans</td>\n",
       "      <td>France</td>\n",
       "      <td>Création le</td>\n",
       "      <td>2018-01-13</td>\n",
       "      <td>?IDX_Organisme=13529&amp;Saison=2017</td>\n",
       "      <td>!POC!</td>\n",
       "      <td>Création le</td>\n",
       "      <td>55 minutes</td>\n",
       "    </tr>\n",
       "  </tbody>\n",
       "</table>\n",
       "<p>100 rows × 9 columns</p>\n",
       "</div>"
      ],
      "text/plain": [
       "     spectacleId                                     Genre    Pays  \\\n",
       "6          29201                                     Danse  France   \n",
       "9          29203                                     Danse  France   \n",
       "15         27906                                     Danse  France   \n",
       "20         29208                                     Danse  France   \n",
       "41         37959  Danse – Jeune public – à partir de 5 ans  France   \n",
       "..           ...                                       ...     ...   \n",
       "283         2579                                     Danse  France   \n",
       "284        59223                                     Danse  France   \n",
       "286        99502                                     Danse  France   \n",
       "290        90781                           Danse – Musique  France   \n",
       "293        82881                 Danse – à partir de 8 ans  France   \n",
       "\n",
       "         typeDate        date                       organismeId  \\\n",
       "6             NaN         NaN                               NaN   \n",
       "9    Création le   2011-02-02    ?IDX_Organisme=699&Saison=2010   \n",
       "15   Création le   2010-10-01    ?IDX_Organisme=1342&Annee=2010   \n",
       "20            NaN         NaN                               NaN   \n",
       "41   Création le   2012-01-12    ?IDX_Organisme=953&Saison=2011   \n",
       "..            ...         ...                               ...   \n",
       "283  Création le   2007-06-24     ?IDX_Organisme=339&Annee=2007   \n",
       "284  Création le   2012-03-27    ?IDX_Organisme=9286&Annee=2012   \n",
       "286           NaN         NaN                               NaN   \n",
       "290           NaN         NaN                               NaN   \n",
       "293  Création le   2018-01-13  ?IDX_Organisme=13529&Saison=2017   \n",
       "\n",
       "                organismeName     to_analyse       Durée  \n",
       "6                         NaN  Création 2010         NaN  \n",
       "9                        CCAM    Création le         NaN  \n",
       "15   Théâtre du Point du Jour    Création le         NaN  \n",
       "20                        NaN  Création 2010         NaN  \n",
       "41           Théâtre Brétigny    Création le  50 minutes  \n",
       "..                        ...            ...         ...  \n",
       "283            Chai du Terral    Création le     1 heure  \n",
       "284         Théâtre de Vanves    Création le  55 minutes  \n",
       "286                       NaN            NaN  50 minutes  \n",
       "290                       NaN            NaN  50 minutes  \n",
       "293                     !POC!    Création le  55 minutes  \n",
       "\n",
       "[100 rows x 9 columns]"
      ]
     },
     "execution_count": 86,
     "metadata": {},
     "output_type": "execute_result"
    }
   ],
   "source": [
    "import time\n",
    "import os\n",
    "from datetime import datetime\n",
    "import pandas as pd\n",
    "organismId=\"699\"\n",
    "\n",
    "\n",
    "csv_file_path = os.getcwd() + \"/data/all_10_years_organism_\" + organismId + \"_type_spectacle.csv\"\n",
    "df_spectacle_ccam = pd.read_csv(csv_file_path)\n",
    "#Filtre sur le genre - string contains danse\n",
    "\n",
    "df_danse_ccam=df_spectacle_ccam[df_spectacle_ccam['Genre'].astype(str).str.contains(\"Danse\")]\n",
    "df_danse_ccam"
   ]
  },
  {
   "cell_type": "code",
   "execution_count": 87,
   "metadata": {},
   "outputs": [
    {
     "data": {
      "text/plain": [
       "36.0"
      ]
     },
     "execution_count": 87,
     "metadata": {},
     "output_type": "execute_result"
    }
   ],
   "source": [
    "#Sur la danse - compte spectacle jeune public \n",
    "import re\n",
    "df_danse_ccam_jeune=df_danse_ccam[df_danse_ccam['Genre'].astype(str).str.contains(\"Jeune public|à partir\",flags=re.IGNORECASE, regex=True)]\n",
    "part_jeune_ccam=len(df_danse_ccam_jeune)*100/len(df_danse_ccam)\n",
    "part_jeune_ccam"
   ]
  },
  {
   "cell_type": "markdown",
   "metadata": {},
   "source": [
    "### Carreau"
   ]
  },
  {
   "cell_type": "code",
   "execution_count": null,
   "metadata": {},
   "outputs": [],
   "source": []
  },
  {
   "cell_type": "code",
   "execution_count": 88,
   "metadata": {},
   "outputs": [
    {
     "data": {
      "text/html": [
       "<div>\n",
       "<style scoped>\n",
       "    .dataframe tbody tr th:only-of-type {\n",
       "        vertical-align: middle;\n",
       "    }\n",
       "\n",
       "    .dataframe tbody tr th {\n",
       "        vertical-align: top;\n",
       "    }\n",
       "\n",
       "    .dataframe thead th {\n",
       "        text-align: right;\n",
       "    }\n",
       "</style>\n",
       "<table border=\"1\" class=\"dataframe\">\n",
       "  <thead>\n",
       "    <tr style=\"text-align: right;\">\n",
       "      <th></th>\n",
       "      <th>spectacleId</th>\n",
       "      <th>Genre</th>\n",
       "      <th>Pays</th>\n",
       "      <th>typeDate</th>\n",
       "      <th>date</th>\n",
       "      <th>organismeId</th>\n",
       "      <th>organismeName</th>\n",
       "      <th>to_analyse</th>\n",
       "      <th>Durée</th>\n",
       "    </tr>\n",
       "  </thead>\n",
       "  <tbody>\n",
       "    <tr>\n",
       "      <th>3</th>\n",
       "      <td>27687</td>\n",
       "      <td>Danse – Musique – à partir de 6 ans</td>\n",
       "      <td>France</td>\n",
       "      <td>Création le</td>\n",
       "      <td>2010-09-25</td>\n",
       "      <td>?IDX_Organisme=1342&amp;Annee=2010</td>\n",
       "      <td>Maison de la Danse de Lyon</td>\n",
       "      <td>Création le</td>\n",
       "      <td>1 heure 5</td>\n",
       "    </tr>\n",
       "    <tr>\n",
       "      <th>7</th>\n",
       "      <td>10120</td>\n",
       "      <td>Danse</td>\n",
       "      <td>Belgique</td>\n",
       "      <td>NaN</td>\n",
       "      <td>NaN</td>\n",
       "      <td>NaN</td>\n",
       "      <td>NaN</td>\n",
       "      <td>Création 2008</td>\n",
       "      <td>NaN</td>\n",
       "    </tr>\n",
       "    <tr>\n",
       "      <th>10</th>\n",
       "      <td>21054</td>\n",
       "      <td>Théâtre – Danse – Jeune public – à partir de 7...</td>\n",
       "      <td>France</td>\n",
       "      <td>Création le</td>\n",
       "      <td>2010-01-19</td>\n",
       "      <td>?IDX_Organisme=1022&amp;Saison=2009</td>\n",
       "      <td>Théâtre des Cordes</td>\n",
       "      <td>Création le</td>\n",
       "      <td>55 minutes</td>\n",
       "    </tr>\n",
       "    <tr>\n",
       "      <th>12</th>\n",
       "      <td>27180</td>\n",
       "      <td>Théâtre – Danse</td>\n",
       "      <td>Belgique</td>\n",
       "      <td>Création le</td>\n",
       "      <td>2010-07-09</td>\n",
       "      <td>?IDX_Organisme=2776&amp;Annee=2010</td>\n",
       "      <td>Salle de spectacle de Vedène</td>\n",
       "      <td>Création le</td>\n",
       "      <td>NaN</td>\n",
       "    </tr>\n",
       "    <tr>\n",
       "      <th>20</th>\n",
       "      <td>12382</td>\n",
       "      <td>Danse</td>\n",
       "      <td>France</td>\n",
       "      <td>Création le</td>\n",
       "      <td>2009-01-17</td>\n",
       "      <td>?IDX_Organisme=1593&amp;Saison=2008</td>\n",
       "      <td>Théâtre de la Cité Internationale</td>\n",
       "      <td>Création le</td>\n",
       "      <td>NaN</td>\n",
       "    </tr>\n",
       "    <tr>\n",
       "      <th>...</th>\n",
       "      <td>...</td>\n",
       "      <td>...</td>\n",
       "      <td>...</td>\n",
       "      <td>...</td>\n",
       "      <td>...</td>\n",
       "      <td>...</td>\n",
       "      <td>...</td>\n",
       "      <td>...</td>\n",
       "      <td>...</td>\n",
       "    </tr>\n",
       "    <tr>\n",
       "      <th>218</th>\n",
       "      <td>94433</td>\n",
       "      <td>Danse</td>\n",
       "      <td>Belgique</td>\n",
       "      <td>Création le</td>\n",
       "      <td>2018-03-22</td>\n",
       "      <td>?IDX_Organisme=12755&amp;Saison=2017</td>\n",
       "      <td>Les Brigittines</td>\n",
       "      <td>Création le</td>\n",
       "      <td>1 heure 15</td>\n",
       "    </tr>\n",
       "    <tr>\n",
       "      <th>219</th>\n",
       "      <td>89074</td>\n",
       "      <td>Danse</td>\n",
       "      <td>Belgique</td>\n",
       "      <td>Création le</td>\n",
       "      <td>2018-10-20</td>\n",
       "      <td>?IDX_Organisme=2113&amp;Saison=2018</td>\n",
       "      <td>Koninklijke Vlaamse Schouwburg</td>\n",
       "      <td>Création le</td>\n",
       "      <td>1 heure 45</td>\n",
       "    </tr>\n",
       "    <tr>\n",
       "      <th>221</th>\n",
       "      <td>74272</td>\n",
       "      <td>Danse – Musique</td>\n",
       "      <td>France</td>\n",
       "      <td>NaN</td>\n",
       "      <td>NaN</td>\n",
       "      <td>NaN</td>\n",
       "      <td>NaN</td>\n",
       "      <td>Création 2015</td>\n",
       "      <td>50 minutes</td>\n",
       "    </tr>\n",
       "    <tr>\n",
       "      <th>223</th>\n",
       "      <td>80629</td>\n",
       "      <td>Danse – à partir de 10 ans</td>\n",
       "      <td>Belgique</td>\n",
       "      <td>Création le</td>\n",
       "      <td>2017-09-28</td>\n",
       "      <td>?IDX_Organisme=1643&amp;Saison=2017</td>\n",
       "      <td>deSingel</td>\n",
       "      <td>Création le</td>\n",
       "      <td>1 heure 15</td>\n",
       "    </tr>\n",
       "    <tr>\n",
       "      <th>226</th>\n",
       "      <td>88411</td>\n",
       "      <td>Danse – à partir de 7 ans</td>\n",
       "      <td>France</td>\n",
       "      <td>Création le</td>\n",
       "      <td>2018-09-08</td>\n",
       "      <td>NaN</td>\n",
       "      <td>NaN</td>\n",
       "      <td>Création le</td>\n",
       "      <td>1 heure 10</td>\n",
       "    </tr>\n",
       "  </tbody>\n",
       "</table>\n",
       "<p>64 rows × 9 columns</p>\n",
       "</div>"
      ],
      "text/plain": [
       "     spectacleId                                              Genre      Pays  \\\n",
       "3          27687                Danse – Musique – à partir de 6 ans    France   \n",
       "7          10120                                              Danse  Belgique   \n",
       "10         21054  Théâtre – Danse – Jeune public – à partir de 7...    France   \n",
       "12         27180                                    Théâtre – Danse  Belgique   \n",
       "20         12382                                              Danse    France   \n",
       "..           ...                                                ...       ...   \n",
       "218        94433                                              Danse  Belgique   \n",
       "219        89074                                              Danse  Belgique   \n",
       "221        74272                                    Danse – Musique    France   \n",
       "223        80629                         Danse – à partir de 10 ans  Belgique   \n",
       "226        88411                          Danse – à partir de 7 ans    France   \n",
       "\n",
       "         typeDate        date                       organismeId  \\\n",
       "3    Création le   2010-09-25    ?IDX_Organisme=1342&Annee=2010   \n",
       "7             NaN         NaN                               NaN   \n",
       "10   Création le   2010-01-19   ?IDX_Organisme=1022&Saison=2009   \n",
       "12   Création le   2010-07-09    ?IDX_Organisme=2776&Annee=2010   \n",
       "20   Création le   2009-01-17   ?IDX_Organisme=1593&Saison=2008   \n",
       "..            ...         ...                               ...   \n",
       "218  Création le   2018-03-22  ?IDX_Organisme=12755&Saison=2017   \n",
       "219  Création le   2018-10-20   ?IDX_Organisme=2113&Saison=2018   \n",
       "221           NaN         NaN                               NaN   \n",
       "223  Création le   2017-09-28   ?IDX_Organisme=1643&Saison=2017   \n",
       "226  Création le   2018-09-08                               NaN   \n",
       "\n",
       "                         organismeName     to_analyse       Durée  \n",
       "3           Maison de la Danse de Lyon    Création le   1 heure 5  \n",
       "7                                  NaN  Création 2008         NaN  \n",
       "10                  Théâtre des Cordes    Création le  55 minutes  \n",
       "12        Salle de spectacle de Vedène    Création le         NaN  \n",
       "20   Théâtre de la Cité Internationale    Création le         NaN  \n",
       "..                                 ...            ...         ...  \n",
       "218                    Les Brigittines    Création le  1 heure 15  \n",
       "219     Koninklijke Vlaamse Schouwburg    Création le  1 heure 45  \n",
       "221                                NaN  Création 2015  50 minutes  \n",
       "223                           deSingel    Création le  1 heure 15  \n",
       "226                                NaN    Création le  1 heure 10  \n",
       "\n",
       "[64 rows x 9 columns]"
      ]
     },
     "execution_count": 88,
     "metadata": {},
     "output_type": "execute_result"
    }
   ],
   "source": [
    "import time\n",
    "import os\n",
    "from datetime import datetime\n",
    "import pandas as pd\n",
    "organismId=\"1914\"\n",
    "\n",
    "\n",
    "csv_file_path = os.getcwd() + \"/data/all_10_years_organism_\" + organismId + \"_type_spectacle.csv\"\n",
    "df_spectacle_carreau = pd.read_csv(csv_file_path)\n",
    "#Filtre sur le genre - string contains danse\n",
    "\n",
    "df_danse_carreau=df_spectacle_carreau[df_spectacle_carreau['Genre'].astype(str).str.contains(\"Danse\")]\n",
    "df_danse_carreau"
   ]
  },
  {
   "cell_type": "code",
   "execution_count": 89,
   "metadata": {},
   "outputs": [
    {
     "data": {
      "text/plain": [
       "53.125"
      ]
     },
     "execution_count": 89,
     "metadata": {},
     "output_type": "execute_result"
    }
   ],
   "source": [
    "#Sur la danse - compte spectacle jeune public \n",
    "import re\n",
    "df_danse_carreau_jeune=df_danse_carreau[df_danse_carreau['Genre'].astype(str).str.contains(\"Jeune public|à partir\",flags=re.IGNORECASE, regex=True)]\n",
    "part_jeune_carreau=len(df_danse_carreau_jeune)*100/len(df_danse_carreau)\n",
    "part_jeune_carreau"
   ]
  },
  {
   "cell_type": "markdown",
   "metadata": {},
   "source": [
    "### Résumé part de la programmation jeunesse danse dans la programmation"
   ]
  },
  {
   "cell_type": "code",
   "execution_count": 90,
   "metadata": {},
   "outputs": [
    {
     "data": {
      "text/plain": [
       "<Figure size 576x576 with 0 Axes>"
      ]
     },
     "metadata": {},
     "output_type": "display_data"
    },
    {
     "data": {
      "image/png": "[encoded data removed]",
      "text/plain": [
       "<Figure size 432x288 with 1 Axes>"
      ]
     },
     "metadata": {},
     "output_type": "display_data"
    }
   ],
   "source": [
    "import matplotlib.pyplot as plt\n",
    "plt.figure(figsize = (8, 8))\n",
    "sizes = [part_jeune_arsenal, part_jeune_lux, part_jeune_ccam, part_jeune_carreau]\n",
    "labels = 'Arsenal', 'Grand théâtre', 'CCAM', 'Carreau'\n",
    "explode = (0, 0.1, 0, 0)  # only \"explode\" the 2nd slice (i.e. 'Hogs')\n",
    "\n",
    "fig1, ax1 = plt.subplots()\n",
    "ax1.pie(sizes, explode=explode, labels=labels,\n",
    "         startangle=90)\n",
    "ax1.axis('equal')  # Equal aspect ratio ensures that pie is drawn as a circle.\n",
    "\n",
    "plt.show()\n"
   ]
  },
  {
   "cell_type": "code",
   "execution_count": 80,
   "metadata": {},
   "outputs": [
    {
     "data": {
      "text/plain": [
       "[41.12903225806452, 18.357487922705314, 36.0, 53.125]"
      ]
     },
     "execution_count": 80,
     "metadata": {},
     "output_type": "execute_result"
    }
   ],
   "source": [
    "sizes = [part_jeune_arsenal, part_jeune_lux, part_jeune_ccam, part_jeune_carreau]\n",
    "sizes"
   ]
  },
  {
   "cell_type": "markdown",
   "metadata": {},
   "source": [
    "## Répartition par pays"
   ]
  },
  {
   "cell_type": "markdown",
   "metadata": {},
   "source": [
    "### Arsenal"
   ]
  },
  {
   "cell_type": "code",
   "execution_count": 65,
   "metadata": {},
   "outputs": [
    {
     "data": {
      "text/plain": [
       "<matplotlib.axes._subplots.AxesSubplot at 0x11e02cbd0>"
      ]
     },
     "execution_count": 65,
     "metadata": {},
     "output_type": "execute_result"
    },
    {
     "data": {
      "image/png": "[encoded data removed]",
      "text/plain": [
       "<Figure size 432x288 with 1 Axes>"
      ]
     },
     "metadata": {},
     "output_type": "display_data"
    }
   ],
   "source": [
    "#df_danse.Pays.value_counts().head(5)\n",
    "df_danse_arsenal.groupby(\"Pays\")[\"spectacleId\"].count().sort_values(ascending=False).head(5).plot.pie(autopct='%1.1f%%')"
   ]
  },
  {
   "cell_type": "markdown",
   "metadata": {},
   "source": [
    "### Luxembourg"
   ]
  },
  {
   "cell_type": "code",
   "execution_count": 66,
   "metadata": {},
   "outputs": [
    {
     "data": {
      "text/plain": [
       "<matplotlib.axes._subplots.AxesSubplot at 0x11d9d3dd0>"
      ]
     },
     "execution_count": 66,
     "metadata": {},
     "output_type": "execute_result"
    },
    {
     "data": {
      "image/png": "[encoded data removed]",
      "text/plain": [
       "<Figure size 432x288 with 1 Axes>"
      ]
     },
     "metadata": {},
     "output_type": "display_data"
    }
   ],
   "source": [
    "#df_danse.Pays.value_counts().head(5)\n",
    "df_danse_lux.groupby(\"Pays\")[\"spectacleId\"].count().sort_values(ascending=False).head(5).plot.pie(autopct='%1.1f%%')"
   ]
  },
  {
   "cell_type": "markdown",
   "metadata": {},
   "source": [
    "### CCAM"
   ]
  },
  {
   "cell_type": "code",
   "execution_count": 67,
   "metadata": {},
   "outputs": [
    {
     "data": {
      "text/plain": [
       "<matplotlib.axes._subplots.AxesSubplot at 0x11d6d71d0>"
      ]
     },
     "execution_count": 67,
     "metadata": {},
     "output_type": "execute_result"
    },
    {
     "data": {
      "image/png": "[encoded data removed]",
      "text/plain": [
       "<Figure size 432x288 with 1 Axes>"
      ]
     },
     "metadata": {},
     "output_type": "display_data"
    }
   ],
   "source": [
    "#df_danse.Pays.value_counts().head(5)\n",
    "df_danse_ccam.groupby(\"Pays\")[\"spectacleId\"].count().sort_values(ascending=False).head(5).plot.pie(autopct='%1.1f%%')"
   ]
  },
  {
   "cell_type": "markdown",
   "metadata": {},
   "source": [
    "### Carreau"
   ]
  },
  {
   "cell_type": "code",
   "execution_count": 68,
   "metadata": {},
   "outputs": [
    {
     "data": {
      "text/plain": [
       "<matplotlib.axes._subplots.AxesSubplot at 0x11d6e7e10>"
      ]
     },
     "execution_count": 68,
     "metadata": {},
     "output_type": "execute_result"
    },
    {
     "data": {
      "image/png": "[encoded data removed]",
      "text/plain": [
       "<Figure size 432x288 with 1 Axes>"
      ]
     },
     "metadata": {},
     "output_type": "display_data"
    }
   ],
   "source": [
    "#df_danse.Pays.value_counts().head(5)\n",
    "df_danse_carreau.groupby(\"Pays\")[\"spectacleId\"].count().sort_values(ascending=False).head(5).plot.pie(autopct='%1.1f%%')"
   ]
  },
  {
   "cell_type": "markdown",
   "metadata": {},
   "source": [
    "## Part de création faite\n",
    "\n",
    "regarder dans la colonne organismeId"
   ]
  },
  {
   "cell_type": "markdown",
   "metadata": {},
   "source": [
    "### Arsenal"
   ]
  },
  {
   "cell_type": "code",
   "execution_count": 93,
   "metadata": {},
   "outputs": [
    {
     "data": {
      "text/html": [
       "<div>\n",
       "<style scoped>\n",
       "    .dataframe tbody tr th:only-of-type {\n",
       "        vertical-align: middle;\n",
       "    }\n",
       "\n",
       "    .dataframe tbody tr th {\n",
       "        vertical-align: top;\n",
       "    }\n",
       "\n",
       "    .dataframe thead th {\n",
       "        text-align: right;\n",
       "    }\n",
       "</style>\n",
       "<table border=\"1\" class=\"dataframe\">\n",
       "  <thead>\n",
       "    <tr style=\"text-align: right;\">\n",
       "      <th></th>\n",
       "      <th>spectacleId</th>\n",
       "      <th>Genre</th>\n",
       "      <th>Durée</th>\n",
       "      <th>Pays</th>\n",
       "      <th>typeDate</th>\n",
       "      <th>date</th>\n",
       "      <th>organismeId</th>\n",
       "      <th>organismeName</th>\n",
       "      <th>to_analyse</th>\n",
       "    </tr>\n",
       "  </thead>\n",
       "  <tbody>\n",
       "    <tr>\n",
       "      <th>21</th>\n",
       "      <td>38625</td>\n",
       "      <td>Danse</td>\n",
       "      <td>NaN</td>\n",
       "      <td>France</td>\n",
       "      <td>Création le</td>\n",
       "      <td>2011-12-08</td>\n",
       "      <td>?IDX_Organisme=439&amp;Saison=2011</td>\n",
       "      <td>L'Arsenal de Metz</td>\n",
       "      <td>Création le</td>\n",
       "    </tr>\n",
       "    <tr>\n",
       "      <th>41</th>\n",
       "      <td>45035</td>\n",
       "      <td>Danse – à partir de 14 ans</td>\n",
       "      <td>1 heure 15</td>\n",
       "      <td>France</td>\n",
       "      <td>Création le</td>\n",
       "      <td>2013-01-11</td>\n",
       "      <td>?IDX_Organisme=439&amp;Saison=2012</td>\n",
       "      <td>L'Arsenal de Metz</td>\n",
       "      <td>Création le</td>\n",
       "    </tr>\n",
       "    <tr>\n",
       "      <th>70</th>\n",
       "      <td>59853</td>\n",
       "      <td>Danse – Jeune public – à partir de 12 ans</td>\n",
       "      <td>1 heure</td>\n",
       "      <td>France</td>\n",
       "      <td>Création le</td>\n",
       "      <td>2015-01-15</td>\n",
       "      <td>?IDX_Organisme=439&amp;Saison=2014</td>\n",
       "      <td>L'Arsenal de Metz</td>\n",
       "      <td>Création le</td>\n",
       "    </tr>\n",
       "    <tr>\n",
       "      <th>139</th>\n",
       "      <td>90517</td>\n",
       "      <td>Danse</td>\n",
       "      <td>1 heure</td>\n",
       "      <td>France</td>\n",
       "      <td>Création le</td>\n",
       "      <td>2018-10-11</td>\n",
       "      <td>?IDX_Organisme=439&amp;Saison=2018</td>\n",
       "      <td>L'Arsenal de Metz</td>\n",
       "      <td>Création le</td>\n",
       "    </tr>\n",
       "  </tbody>\n",
       "</table>\n",
       "</div>"
      ],
      "text/plain": [
       "     spectacleId                                      Genre       Durée  \\\n",
       "21         38625                                      Danse         NaN   \n",
       "41         45035                 Danse – à partir de 14 ans  1 heure 15   \n",
       "70         59853  Danse – Jeune public – à partir de 12 ans     1 heure   \n",
       "139        90517                                      Danse     1 heure   \n",
       "\n",
       "       Pays      typeDate        date                     organismeId  \\\n",
       "21   France  Création le   2011-12-08  ?IDX_Organisme=439&Saison=2011   \n",
       "41   France  Création le   2013-01-11  ?IDX_Organisme=439&Saison=2012   \n",
       "70   France  Création le   2015-01-15  ?IDX_Organisme=439&Saison=2014   \n",
       "139  France  Création le   2018-10-11  ?IDX_Organisme=439&Saison=2018   \n",
       "\n",
       "         organismeName   to_analyse  \n",
       "21   L'Arsenal de Metz  Création le  \n",
       "41   L'Arsenal de Metz  Création le  \n",
       "70   L'Arsenal de Metz  Création le  \n",
       "139  L'Arsenal de Metz  Création le  "
      ]
     },
     "execution_count": 93,
     "metadata": {},
     "output_type": "execute_result"
    }
   ],
   "source": [
    "import re\n",
    "#Filtre sur le genre - string contains danse\n",
    "df_danse_cree_arsenal=df_danse_arsenal[df_danse_arsenal['organismeId'].astype(str).str.contains(\"439\",flags=re.IGNORECASE, regex=True)]\n",
    "df_danse_cree_arsenal"
   ]
  },
  {
   "cell_type": "markdown",
   "metadata": {},
   "source": [
    "### Luxembourg"
   ]
  },
  {
   "cell_type": "code",
   "execution_count": 95,
   "metadata": {},
   "outputs": [
    {
     "data": {
      "text/plain": [
       "17"
      ]
     },
     "execution_count": 95,
     "metadata": {},
     "output_type": "execute_result"
    }
   ],
   "source": [
    "import re\n",
    "#Filtre sur le genre - string contains danse\n",
    "df_danse_cree_lux=df_danse_lux[df_danse_lux['organismeId'].astype(str).str.contains(\"383\",flags=re.IGNORECASE, regex=True)]\n",
    "len(df_danse_cree_lux)"
   ]
  },
  {
   "cell_type": "markdown",
   "metadata": {},
   "source": [
    "### CCAM"
   ]
  },
  {
   "cell_type": "code",
   "execution_count": 96,
   "metadata": {},
   "outputs": [
    {
     "data": {
      "text/plain": [
       "6"
      ]
     },
     "execution_count": 96,
     "metadata": {},
     "output_type": "execute_result"
    }
   ],
   "source": [
    "import re\n",
    "#Filtre sur le genre - string contains danse\n",
    "df_danse_cree_ccam=df_danse_ccam[df_danse_ccam['organismeId'].astype(str).str.contains(\"699\",flags=re.IGNORECASE, regex=True)]\n",
    "len(df_danse_cree_ccam)"
   ]
  },
  {
   "cell_type": "markdown",
   "metadata": {},
   "source": [
    "### Carreau"
   ]
  },
  {
   "cell_type": "code",
   "execution_count": 97,
   "metadata": {},
   "outputs": [
    {
     "data": {
      "text/plain": [
       "0"
      ]
     },
     "execution_count": 97,
     "metadata": {},
     "output_type": "execute_result"
    }
   ],
   "source": [
    "import re\n",
    "#Filtre sur le genre - string contains danse\n",
    "df_danse_cree_carreau=df_danse_carreau[df_danse_carreau['organismeId'].astype(str).str.contains(\"1914\",flags=re.IGNORECASE, regex=True)]\n",
    "len(df_danse_cree_carreau)"
   ]
  },
  {
   "cell_type": "markdown",
   "metadata": {},
   "source": [
    "### Organismes qui font le plus de création\n",
    "\n",
    "Attention nous sommes sur les spectacles diffusés par Arsenal / Grand théâtre / CCAM / Carreau"
   ]
  },
  {
   "cell_type": "markdown",
   "metadata": {},
   "source": [
    "# Décalage entre création et diffusion\n",
    "\n",
    "voir si conforme à l'étude onda \n",
    "\n",
    "- garder spectacleId / typeDate / date / to_analyse\n",
    "- si typeDate et date vide - alors to_analyse\n"
   ]
  },
  {
   "cell_type": "markdown",
   "metadata": {},
   "source": [
    "## Date de création"
   ]
  },
  {
   "cell_type": "code",
   "execution_count": 216,
   "metadata": {},
   "outputs": [],
   "source": [
    "import os\n",
    "import pandas as pd\n",
    "\n",
    "organismId=\"383\"\n",
    "csv_file_path = os.getcwd() + \"/data/all_10_years_organism_\" + organismId + \"_type_spectacle.csv\"\n",
    "df_spectacle_arsenal = pd.read_csv(csv_file_path)\n",
    "#Filtre sur le genre - string contains danse\n",
    "df_danse_arsenal=df_spectacle_arsenal[df_spectacle_arsenal['Genre'].astype(str).str.contains(\"Danse\",flags=re.IGNORECASE, regex=True)]\n",
    "df_danse_arsenal= df_danse_arsenal[['spectacleId', 'typeDate', 'date','to_analyse']]\n",
    "#on enlève les performances sans date\n",
    "df_danse_arsenal.dropna(subset=['typeDate','date','to_analyse'], how='all', inplace=True)\n",
    "#on transforme le champ date en datetime\n",
    "df_danse_arsenal['date']= pd.to_datetime(df_danse_arsenal['date'], format='%Y-%m-%d', errors='coerce')\n",
    "# on garde que l'année \n",
    "df_danse_arsenal['date']=df_danse_arsenal.date.dt.year\n",
    "# on ne garde que l'année dans la colonne to_analyse\n",
    "df_danse_arsenal['to_analyse']=df_danse_arsenal['to_analyse'].replace(\"Création le\",\"\")\n",
    "df_danse_arsenal['to_analyse'] = df_danse_arsenal['to_analyse'].str[-4:]\n",
    "df_danse_arsenal.loc[df_danse_arsenal['to_analyse'] !='','year_creation'] = df_danse_arsenal['to_analyse'] \n",
    "\n",
    "df_danse_arsenal.loc[pd.isna(df_danse_arsenal['year_creation']),'year_creation'] = df_danse_arsenal['date'] \n",
    "df_danse_arsenal= df_danse_arsenal[['spectacleId', 'year_creation']]\n",
    "df_danse_arsenal = df_danse_arsenal.astype(int)\n",
    "df_danse_arsenal\n",
    "#path=os.getcwd() + \"/data/\"\n",
    "#df_danse_arsenal.to_csv(os.path.join(path,'all_creation_luxembourg.csv'))\n",
    "\n",
    "#créer une nouvelle colonne date_year si date NaN alors on prend to_analyse\n",
    "#fn = lambda row: row.a + row.b # define a function for the new column\n",
    "#col = df_danse_arsenal.apply(fn, axis=1) # get column data with an index\n",
    "#df_danse_arsenal = df_danse_arsenal.assign(c=col.values) # assign values to column 'c'df['C'] = df['C'].apply(np.int64)"
   ]
  },
  {
   "cell_type": "markdown",
   "metadata": {},
   "source": [
    "## Date de diffusion"
   ]
  },
  {
   "cell_type": "code",
   "execution_count": 200,
   "metadata": {},
   "outputs": [
    {
     "data": {
      "text/html": [
       "<div>\n",
       "<style scoped>\n",
       "    .dataframe tbody tr th:only-of-type {\n",
       "        vertical-align: middle;\n",
       "    }\n",
       "\n",
       "    .dataframe tbody tr th {\n",
       "        vertical-align: top;\n",
       "    }\n",
       "\n",
       "    .dataframe thead th {\n",
       "        text-align: right;\n",
       "    }\n",
       "</style>\n",
       "<table border=\"1\" class=\"dataframe\">\n",
       "  <thead>\n",
       "    <tr style=\"text-align: right;\">\n",
       "      <th></th>\n",
       "      <th>spectacleId</th>\n",
       "      <th>year_diffusion</th>\n",
       "      <th>performance</th>\n",
       "      <th>author</th>\n",
       "    </tr>\n",
       "  </thead>\n",
       "  <tbody>\n",
       "    <tr>\n",
       "      <th>0</th>\n",
       "      <td>23453</td>\n",
       "      <td>2010</td>\n",
       "      <td>Babel (Words)</td>\n",
       "      <td>Sidi Larbi Cherkaoui</td>\n",
       "    </tr>\n",
       "    <tr>\n",
       "      <th>1</th>\n",
       "      <td>30546</td>\n",
       "      <td>2010</td>\n",
       "      <td>Pour l'amour de Cosette</td>\n",
       "      <td>Victor Hugo</td>\n",
       "    </tr>\n",
       "    <tr>\n",
       "      <th>2</th>\n",
       "      <td>19502</td>\n",
       "      <td>2010</td>\n",
       "      <td>Nearly 90²</td>\n",
       "      <td>Merce Cunningham</td>\n",
       "    </tr>\n",
       "    <tr>\n",
       "      <th>3</th>\n",
       "      <td>12451</td>\n",
       "      <td>2010</td>\n",
       "      <td>LOL</td>\n",
       "      <td>Bintou Dembélé</td>\n",
       "    </tr>\n",
       "    <tr>\n",
       "      <th>4</th>\n",
       "      <td>20185</td>\n",
       "      <td>2010</td>\n",
       "      <td>Asphalte</td>\n",
       "      <td>Pierre Rigal</td>\n",
       "    </tr>\n",
       "    <tr>\n",
       "      <th>...</th>\n",
       "      <td>...</td>\n",
       "      <td>...</td>\n",
       "      <td>...</td>\n",
       "      <td>...</td>\n",
       "    </tr>\n",
       "    <tr>\n",
       "      <th>218</th>\n",
       "      <td>90791</td>\n",
       "      <td>2019</td>\n",
       "      <td>L'Amour sorcier</td>\n",
       "      <td>Aïcha M'Barek</td>\n",
       "    </tr>\n",
       "    <tr>\n",
       "      <th>219</th>\n",
       "      <td>83385</td>\n",
       "      <td>2019</td>\n",
       "      <td>Iceberg, musique de l'eau</td>\n",
       "      <td>Michèle Meftah</td>\n",
       "    </tr>\n",
       "    <tr>\n",
       "      <th>220</th>\n",
       "      <td>84175</td>\n",
       "      <td>2019</td>\n",
       "      <td>Hocus Pocus</td>\n",
       "      <td>Philippe Saire</td>\n",
       "    </tr>\n",
       "    <tr>\n",
       "      <th>221</th>\n",
       "      <td>88311</td>\n",
       "      <td>2019</td>\n",
       "      <td>Kirina</td>\n",
       "      <td>Serge Aimé Coulibaly</td>\n",
       "    </tr>\n",
       "    <tr>\n",
       "      <th>222</th>\n",
       "      <td>100038</td>\n",
       "      <td>2019</td>\n",
       "      <td>Chansons du monde des animaux</td>\n",
       "      <td>Maria Robin</td>\n",
       "    </tr>\n",
       "  </tbody>\n",
       "</table>\n",
       "<p>195 rows × 4 columns</p>\n",
       "</div>"
      ],
      "text/plain": [
       "     spectacleId  year_diffusion                    performance  \\\n",
       "0          23453            2010                  Babel (Words)   \n",
       "1          30546            2010        Pour l'amour de Cosette   \n",
       "2          19502            2010                     Nearly 90²   \n",
       "3          12451            2010                            LOL   \n",
       "4          20185            2010                       Asphalte   \n",
       "..           ...             ...                            ...   \n",
       "218        90791            2019                L'Amour sorcier   \n",
       "219        83385            2019      Iceberg, musique de l'eau   \n",
       "220        84175            2019                    Hocus Pocus   \n",
       "221        88311            2019                         Kirina   \n",
       "222       100038            2019  Chansons du monde des animaux   \n",
       "\n",
       "                   author  \n",
       "0    Sidi Larbi Cherkaoui  \n",
       "1             Victor Hugo  \n",
       "2        Merce Cunningham  \n",
       "3          Bintou Dembélé  \n",
       "4            Pierre Rigal  \n",
       "..                    ...  \n",
       "218         Aïcha M'Barek  \n",
       "219        Michèle Meftah  \n",
       "220        Philippe Saire  \n",
       "221  Serge Aimé Coulibaly  \n",
       "222           Maria Robin  \n",
       "\n",
       "[195 rows x 4 columns]"
      ]
     },
     "execution_count": 200,
     "metadata": {},
     "output_type": "execute_result"
    }
   ],
   "source": [
    "import os\n",
    "import pandas as pd\n",
    "\n",
    "organismId=\"439\"\n",
    "csv_file_path = os.getcwd() + \"/data/all_10_years_organism_\" + organismId + \".csv\"\n",
    "df_arsenal_diffusion = pd.read_csv(csv_file_path)\n",
    "#on enlève les lignes où les performanceId sont nulles\n",
    "#df_arsenal_diffusion.dropna(subset=['performanceId'], how='all', inplace=True)\n",
    "df_arsenal_diffusion = df_arsenal_diffusion[~(df_arsenal_diffusion['performanceId']==0)]\n",
    "df_arsenal_diffusion= df_arsenal_diffusion[['performanceId', 'year','performance','author']]\n",
    "df_arsenal_diffusion.rename(columns = {'performanceId':'spectacleId'}, inplace = True)\n",
    "df_arsenal_diffusion.rename(columns = {'year':'year_diffusion'}, inplace = True)\n",
    "df_arsenal_diffusion"
   ]
  },
  {
   "cell_type": "code",
   "execution_count": null,
   "metadata": {},
   "outputs": [],
   "source": []
  },
  {
   "cell_type": "code",
   "execution_count": 201,
   "metadata": {},
   "outputs": [
    {
     "data": {
      "text/plain": [
       "spectacleId\n",
       "68361    1\n",
       "30910    1\n",
       "26064    1\n",
       "Name: spectacleId, dtype: int64"
      ]
     },
     "execution_count": 201,
     "metadata": {},
     "output_type": "execute_result"
    }
   ],
   "source": []
  },
  {
   "cell_type": "code",
   "execution_count": 202,
   "metadata": {},
   "outputs": [],
   "source": [
    "#spectacleId\n",
    "#43869     4\n",
    "#59854     4\n",
    "#87796     4"
   ]
  },
  {
   "cell_type": "markdown",
   "metadata": {},
   "source": [
    "## Comparaison date de création et date de diffusion"
   ]
  },
  {
   "cell_type": "code",
   "execution_count": 210,
   "metadata": {},
   "outputs": [
    {
     "data": {
      "text/html": [
       "<div>\n",
       "<style scoped>\n",
       "    .dataframe tbody tr th:only-of-type {\n",
       "        vertical-align: middle;\n",
       "    }\n",
       "\n",
       "    .dataframe tbody tr th {\n",
       "        vertical-align: top;\n",
       "    }\n",
       "\n",
       "    .dataframe thead th {\n",
       "        text-align: right;\n",
       "    }\n",
       "</style>\n",
       "<table border=\"1\" class=\"dataframe\">\n",
       "  <thead>\n",
       "    <tr style=\"text-align: right;\">\n",
       "      <th></th>\n",
       "      <th>spectacleId</th>\n",
       "      <th>year_creation</th>\n",
       "      <th>year_diffusion</th>\n",
       "      <th>performance</th>\n",
       "      <th>author</th>\n",
       "    </tr>\n",
       "  </thead>\n",
       "  <tbody>\n",
       "    <tr>\n",
       "      <th>0</th>\n",
       "      <td>23453</td>\n",
       "      <td>2010</td>\n",
       "      <td>2010</td>\n",
       "      <td>Babel (Words)</td>\n",
       "      <td>Sidi Larbi Cherkaoui</td>\n",
       "    </tr>\n",
       "    <tr>\n",
       "      <th>2</th>\n",
       "      <td>19502</td>\n",
       "      <td>2009</td>\n",
       "      <td>2010</td>\n",
       "      <td>Nearly 90²</td>\n",
       "      <td>Merce Cunningham</td>\n",
       "    </tr>\n",
       "    <tr>\n",
       "      <th>3</th>\n",
       "      <td>12451</td>\n",
       "      <td>2008</td>\n",
       "      <td>2010</td>\n",
       "      <td>LOL</td>\n",
       "      <td>Bintou Dembélé</td>\n",
       "    </tr>\n",
       "    <tr>\n",
       "      <th>4</th>\n",
       "      <td>20185</td>\n",
       "      <td>2009</td>\n",
       "      <td>2010</td>\n",
       "      <td>Asphalte</td>\n",
       "      <td>Pierre Rigal</td>\n",
       "    </tr>\n",
       "    <tr>\n",
       "      <th>6</th>\n",
       "      <td>30548</td>\n",
       "      <td>2010</td>\n",
       "      <td>2010</td>\n",
       "      <td>Cribles/Live</td>\n",
       "      <td>Emmanuelle Huynh</td>\n",
       "    </tr>\n",
       "    <tr>\n",
       "      <th>...</th>\n",
       "      <td>...</td>\n",
       "      <td>...</td>\n",
       "      <td>...</td>\n",
       "      <td>...</td>\n",
       "      <td>...</td>\n",
       "    </tr>\n",
       "    <tr>\n",
       "      <th>187</th>\n",
       "      <td>88893</td>\n",
       "      <td>2019</td>\n",
       "      <td>2019</td>\n",
       "      <td>Anthologie du cauchemar</td>\n",
       "      <td>Marcia Barcellos</td>\n",
       "    </tr>\n",
       "    <tr>\n",
       "      <th>188</th>\n",
       "      <td>82877</td>\n",
       "      <td>2017</td>\n",
       "      <td>2019</td>\n",
       "      <td>Z'Anima</td>\n",
       "      <td>Mié Coquempot</td>\n",
       "    </tr>\n",
       "    <tr>\n",
       "      <th>191</th>\n",
       "      <td>83385</td>\n",
       "      <td>2017</td>\n",
       "      <td>2019</td>\n",
       "      <td>Iceberg, musique de l'eau</td>\n",
       "      <td>Michèle Meftah</td>\n",
       "    </tr>\n",
       "    <tr>\n",
       "      <th>192</th>\n",
       "      <td>84175</td>\n",
       "      <td>2017</td>\n",
       "      <td>2019</td>\n",
       "      <td>Hocus Pocus</td>\n",
       "      <td>Philippe Saire</td>\n",
       "    </tr>\n",
       "    <tr>\n",
       "      <th>193</th>\n",
       "      <td>88311</td>\n",
       "      <td>2018</td>\n",
       "      <td>2019</td>\n",
       "      <td>Kirina</td>\n",
       "      <td>Serge Aimé Coulibaly</td>\n",
       "    </tr>\n",
       "  </tbody>\n",
       "</table>\n",
       "<p>128 rows × 5 columns</p>\n",
       "</div>"
      ],
      "text/plain": [
       "     spectacleId  year_creation  year_diffusion                performance  \\\n",
       "0          23453           2010            2010              Babel (Words)   \n",
       "2          19502           2009            2010                 Nearly 90²   \n",
       "3          12451           2008            2010                        LOL   \n",
       "4          20185           2009            2010                   Asphalte   \n",
       "6          30548           2010            2010               Cribles/Live   \n",
       "..           ...            ...             ...                        ...   \n",
       "187        88893           2019            2019    Anthologie du cauchemar   \n",
       "188        82877           2017            2019                    Z'Anima   \n",
       "191        83385           2017            2019  Iceberg, musique de l'eau   \n",
       "192        84175           2017            2019                Hocus Pocus   \n",
       "193        88311           2018            2019                     Kirina   \n",
       "\n",
       "                   author  \n",
       "0    Sidi Larbi Cherkaoui  \n",
       "2        Merce Cunningham  \n",
       "3          Bintou Dembélé  \n",
       "4            Pierre Rigal  \n",
       "6        Emmanuelle Huynh  \n",
       "..                    ...  \n",
       "187      Marcia Barcellos  \n",
       "188         Mié Coquempot  \n",
       "191        Michèle Meftah  \n",
       "192        Philippe Saire  \n",
       "193  Serge Aimé Coulibaly  \n",
       "\n",
       "[128 rows x 5 columns]"
      ]
     },
     "execution_count": 210,
     "metadata": {},
     "output_type": "execute_result"
    }
   ],
   "source": [
    "#join df_arsenal_diffusion et df_danse_arsenal\n",
    "df_creation_diffusion = df_danse_arsenal.join(df_arsenal_diffusion.set_index('spectacleId'), on='spectacleId')\n",
    "#path=os.getcwd() + \"/data/\"\n",
    "#df_creation_diffusion.to_csv(os.path.join(path,'all_creation_diffusion.csv'))\n",
    "df_creation_diffusion"
   ]
  },
  {
   "cell_type": "code",
   "execution_count": 204,
   "metadata": {},
   "outputs": [
    {
     "data": {
      "text/plain": [
       "spectacleId\n",
       "43869     4\n",
       "59854     4\n",
       "87796     4\n",
       "100034    1\n",
       "50262     1\n",
       "Name: spectacleId, dtype: int64"
      ]
     },
     "execution_count": 204,
     "metadata": {},
     "output_type": "execute_result"
    }
   ],
   "source": [
    "df_creation_diffusion.groupby(\"spectacleId\")[\"spectacleId\"].count().sort_values(ascending=False).head(5)"
   ]
  },
  {
   "cell_type": "code",
   "execution_count": 212,
   "metadata": {},
   "outputs": [
    {
     "data": {
      "text/html": [
       "<div>\n",
       "<style scoped>\n",
       "    .dataframe tbody tr th:only-of-type {\n",
       "        vertical-align: middle;\n",
       "    }\n",
       "\n",
       "    .dataframe tbody tr th {\n",
       "        vertical-align: top;\n",
       "    }\n",
       "\n",
       "    .dataframe thead th {\n",
       "        text-align: right;\n",
       "    }\n",
       "</style>\n",
       "<table border=\"1\" class=\"dataframe\">\n",
       "  <thead>\n",
       "    <tr style=\"text-align: right;\">\n",
       "      <th></th>\n",
       "      <th>spectacleId</th>\n",
       "      <th>year_creation</th>\n",
       "      <th>year_diffusion</th>\n",
       "      <th>performance</th>\n",
       "      <th>author</th>\n",
       "      <th>gap_crea_diffu</th>\n",
       "    </tr>\n",
       "  </thead>\n",
       "  <tbody>\n",
       "    <tr>\n",
       "      <th>19</th>\n",
       "      <td>26064</td>\n",
       "      <td>1987</td>\n",
       "      <td>2011</td>\n",
       "      <td>Mikrokosmos</td>\n",
       "      <td>Anne Teresa De Keersmaeker</td>\n",
       "      <td>24</td>\n",
       "    </tr>\n",
       "    <tr>\n",
       "      <th>137</th>\n",
       "      <td>68361</td>\n",
       "      <td>2003</td>\n",
       "      <td>2018</td>\n",
       "      <td>Counter Phrases</td>\n",
       "      <td>Anne Teresa De Keersmaeker</td>\n",
       "      <td>15</td>\n",
       "    </tr>\n",
       "    <tr>\n",
       "      <th>155</th>\n",
       "      <td>30910</td>\n",
       "      <td>2010</td>\n",
       "      <td>2018</td>\n",
       "      <td>Play</td>\n",
       "      <td>Shantala Shivalingappa</td>\n",
       "      <td>8</td>\n",
       "    </tr>\n",
       "  </tbody>\n",
       "</table>\n",
       "</div>"
      ],
      "text/plain": [
       "     spectacleId  year_creation  year_diffusion      performance  \\\n",
       "19         26064           1987            2011      Mikrokosmos   \n",
       "137        68361           2003            2018  Counter Phrases   \n",
       "155        30910           2010            2018             Play   \n",
       "\n",
       "                         author  gap_crea_diffu  \n",
       "19   Anne Teresa De Keersmaeker              24  \n",
       "137  Anne Teresa De Keersmaeker              15  \n",
       "155      Shantala Shivalingappa               8  "
      ]
     },
     "execution_count": 212,
     "metadata": {},
     "output_type": "execute_result"
    }
   ],
   "source": [
    "#créer une nouvelle colonne (date de diffusion - date de création)\n",
    "fn = lambda row: row.year_diffusion - row.year_creation # define a function for the new column\n",
    "col = df_creation_diffusion.apply(fn, axis=1) # get column data with an index\n",
    "df_creation_diffusion = df_creation_diffusion.assign(gap_crea_diffu=col.values) # assign values to column 'c'df['C'] = df['C'].apply(np.int64)\n",
    "df_creation_diffusion = df_creation_diffusion[df_creation_diffusion['gap_crea_diffu'] > 5]\n",
    "df_creation_diffusion"
   ]
  },
  {
   "cell_type": "code",
   "execution_count": null,
   "metadata": {},
   "outputs": [],
   "source": []
  }
 ],
 "metadata": {
  "kernelspec": {
   "display_name": "Python 3",
   "language": "python",
   "name": "python3"
  },
  "language_info": {
   "codemirror_mode": {
    "name": "ipython",
    "version": 3
   },
   "file_extension": ".py",
   "mimetype": "text/x-python",
   "name": "python",
   "nbconvert_exporter": "python",
   "pygments_lexer": "ipython3",
   "version": "3.7.6"
  },
  "toc": {
   "base_numbering": 1,
   "nav_menu": {},
   "number_sections": true,
   "sideBar": true,
   "skip_h1_title": false,
   "title_cell": "Table of Contents",
   "title_sidebar": "Contents",
   "toc_cell": false,
   "toc_position": {
    "height": "calc(100% - 180px)",
    "left": "10px",
    "top": "150px",
    "width": "288px"
   },
   "toc_section_display": true,
   "toc_window_display": true
  }
 },
 "nbformat": 4,
 "nbformat_minor": 1
}
