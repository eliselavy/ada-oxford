{
 "cells": [
  {
   "cell_type": "code",
   "execution_count": 76,
   "metadata": {},
   "outputs": [],
   "source": [
    "#request the url with id of the film\n",
    "#Example \n",
    "# http://earlycinema.dch.phil-fak.uni-koeln.de/films/view/10\n",
    "\n",
    "\n",
    "# import the library we use to open URLs\n",
    "import urllib.request\n",
    "\n",
    "# specify which URL/web page we are going to be scraping\n",
    "url = \"http://earlycinema.dch.phil-fak.uni-koeln.de/films/view/10\"\n",
    "# open the url using urllib.request and put the HTML into the page variable\n",
    "page = urllib.request.urlopen(url)\n",
    "# import the BeautifulSoup library so we can parse HTML and XML documents\n",
    "from bs4 import BeautifulSoup\n",
    "# parse the HTML from our URL into the BeautifulSoup parse tree format\n",
    "soup = BeautifulSoup(page, \"lxml\")\n",
    "#print(soup.prettify())"
   ]
  },
  {
   "cell_type": "code",
   "execution_count": 77,
   "metadata": {},
   "outputs": [
    {
     "name": "stdout",
     "output_type": "stream",
     "text": [
      "<div id=\"frame1update\">\n",
      "        ﻿<a class=\"hidden\" href=\"/films/view/10\" id=\"frame2_update_link\"></a>\n",
      "<!-- Main heading -->\n",
      "<h2>Film Details</h2>\n",
      "<!-- Message -->\n",
      "<!-- Main content -->\n",
      "<div class=\"id\">#10</div>\n",
      "<h2 class=\"title\">\r\n",
      "  Das Abendbrot (1907)</h2>\n",
      "<h3>\r\n",
      "    Film titles    \r\n",
      "      </h3>\n",
      "<ul>\n",
      "<li>\n",
      "<span class=\"type\">Original Title:</span>\n",
      "<span class=\"title\">\r\n",
      "          Ripp og Rapp. Aftensmaden        </span>\n",
      "</li>\n",
      "<li>\n",
      "<span class=\"type\">Further Title:</span>\n",
      "<span class=\"title\">\r\n",
      "          Aftensmaden        </span>\n",
      "</li>\n",
      "</ul>\n",
      "<h3>\r\n",
      "    Companies    \r\n",
      "      </h3>\n",
      "<ul>\n",
      "<li>\n",
      "<span class=\"type\">Produktionsfirma:</span>\n",
      "<a href=\"/companies/view/10\" id=\"link-798538800\" title=\"Company details\">Nordisk Films Co {dk} &lt;Nordsk&gt; (Dänemark)</a>, No. 282              </li>\n",
      "</ul>\n",
      "<h3>\r\n",
      "    Cast    \r\n",
      "      </h3>\n",
      "<ul>\n",
      "<li>\n",
      "<a href=\"/people/view/6\" id=\"link-1374184194\" title=\"Actor details\">Ripp</a> </li>\n",
      "<li>\n",
      "<a href=\"/people/view/7\" id=\"link-1905830858\" title=\"Actor details\">Rapp</a> </li>\n",
      "</ul>\n",
      "<!-- Crew -->\n",
      "<h3>\r\n",
      "    Crew    \r\n",
      "      </h3>\n",
      "<ul>\n",
      "<li>\n",
      "<a href=\"/tasks/view/31\" id=\"link-1240859988\" title=\"Task details\">Kamera</a>: <a href=\"/people/view/5\" id=\"link-1861007008\" title=\"Person details\">Axel Sørensen</a> </li>\n",
      "</ul>\n",
      "<!-- Description -->\n",
      "<!-- Genres -->\n",
      "<h3>\r\n",
      "    Genres      </h3>\n",
      "<ul>\n",
      "<li>\n",
      "<a href=\"/birett_genres/view/4\" id=\"link-1166703796\" title=\"Genre details\">Lustspiel</a> (<span class=\"cursorhelp\" title=\"Assigned and interpreted by Herbert Birett\">interpreted by H.B.</span>)              </li>\n",
      "</ul>\n",
      "<!-- Lengths -->\n",
      "<h3>\r\n",
      "    Film Length      </h3>\n",
      "<ul>\n",
      "<li>\r\n",
      "        65 Meter              </li>\n",
      "</ul>\n",
      "<!-- Prices -->\n",
      "<h3>\r\n",
      "    Pricing      </h3>\n",
      "<ul>\n",
      "<li>\r\n",
      "        65,00 Mark              </li>\n",
      "</ul>\n",
      "<!-- Colouring -->\n",
      "<!-- Intertitles -->\n",
      "<!-- Censoring -->\n",
      "<!-- Crossreferences -->\n",
      "<!-- Places -->\n",
      "<!-- Studios -->\n",
      "<!-- Sources -->\n",
      "<h3>\r\n",
      "    Sources      </h3>\n",
      "<ul>\n",
      "<li>\r\n",
      "        SLA: <a href=\"/sources/view/1\" id=\"link-88268657\" title=\"Source details\">Kostüme, Kulissen</a> No. 1178, 1907              </li>\n",
      "<li>\r\n",
      "        SPA: <a href=\"/sources/view/13\" id=\"link-78138130\" title=\"Source details\">Engb</a> No. 363              </li>\n",
      "<li>\r\n",
      "        SPA: <a href=\"/sources/view/12\" id=\"link-539282252\" title=\"Source details\">50 aar i Dansk Film. Kopenhagen 1956</a> (Kopenhagen), 1907              </li>\n",
      "</ul>\n",
      "<!-- Screenings -->\n",
      "<!-- Remark -->\n",
      "<!-- Internal data and functions -->\n",
      "<script type=\"text/javascript\">\n",
      "//<![CDATA[\n",
      "$(document).ready(function () {$(\"#frame2_update_link\").bind(\"click\", function (event) {$.ajax({beforeSend:function (XMLHttpRequest) {$( 'html, body' ).animate( { scrollTop: 0 }, 0 );$(\"#frame2update\").hide();$(\"#busy-indicator-frame2\").show();}, complete:function (XMLHttpRequest, textStatus) {$(\"#busy-indicator-frame2\").hide();$(\"#frame2update\").show();}, dataType:\"html\", div:false, evalScripts:true, success:function (data, textStatus) {$(\"#frame2update\").html(data);}, url:\"\\/films\\/view\\/10\"});\n",
      "return false;});\n",
      "$(\"#link-798538800\").bind(\"click\", function (event) {$.ajax({beforeSend:function (XMLHttpRequest) {$( 'html, body' ).animate( { scrollTop: 0 }, 0 );$(\"#frame2update\").hide();$(\"#busy-indicator-frame2\").show();}, complete:function (XMLHttpRequest, textStatus) {$(\"#busy-indicator-frame2\").hide();$(\"#frame2update\").show();}, dataType:\"html\", div:false, evalScripts:true, success:function (data, textStatus) {$(\"#frame2update\").html(data);}, url:\"\\/companies\\/view\\/10\"});\n",
      "return false;});\n",
      "$(\"#link-1374184194\").bind(\"click\", function (event) {$.ajax({beforeSend:function (XMLHttpRequest) {$( 'html, body' ).animate( { scrollTop: 0 }, 0 );$(\"#frame2update\").hide();$(\"#busy-indicator-frame2\").show();}, complete:function (XMLHttpRequest, textStatus) {$(\"#busy-indicator-frame2\").hide();$(\"#frame2update\").show();}, dataType:\"html\", div:false, evalScripts:true, success:function (data, textStatus) {$(\"#frame2update\").html(data);}, url:\"\\/people\\/view\\/6\"});\n",
      "return false;});\n",
      "$(\"#link-1905830858\").bind(\"click\", function (event) {$.ajax({beforeSend:function (XMLHttpRequest) {$( 'html, body' ).animate( { scrollTop: 0 }, 0 );$(\"#frame2update\").hide();$(\"#busy-indicator-frame2\").show();}, complete:function (XMLHttpRequest, textStatus) {$(\"#busy-indicator-frame2\").hide();$(\"#frame2update\").show();}, dataType:\"html\", div:false, evalScripts:true, success:function (data, textStatus) {$(\"#frame2update\").html(data);}, url:\"\\/people\\/view\\/7\"});\n",
      "return false;});\n",
      "$(\"#link-1861007008\").bind(\"click\", function (event) {$.ajax({beforeSend:function (XMLHttpRequest) {$( 'html, body' ).animate( { scrollTop: 0 }, 0 );$(\"#frame2update\").hide();$(\"#busy-indicator-frame2\").show();}, complete:function (XMLHttpRequest, textStatus) {$(\"#busy-indicator-frame2\").hide();$(\"#frame2update\").show();}, dataType:\"html\", div:false, evalScripts:true, success:function (data, textStatus) {$(\"#frame2update\").html(data);}, url:\"\\/people\\/view\\/5\"});\n",
      "return false;});\n",
      "$(\"#link-1240859988\").bind(\"click\", function (event) {$.ajax({beforeSend:function (XMLHttpRequest) {$( 'html, body' ).animate( { scrollTop: 0 }, 0 );$(\"#frame2update\").hide();$(\"#busy-indicator-frame2\").show();}, complete:function (XMLHttpRequest, textStatus) {$(\"#busy-indicator-frame2\").hide();$(\"#frame2update\").show();}, dataType:\"html\", div:false, evalScripts:true, success:function (data, textStatus) {$(\"#frame2update\").html(data);}, url:\"\\/tasks\\/view\\/31\"});\n",
      "return false;});\n",
      "$(\"#link-1166703796\").bind(\"click\", function (event) {$.ajax({beforeSend:function (XMLHttpRequest) {$( 'html, body' ).animate( { scrollTop: 0 }, 0 );$(\"#frame2update\").hide();$(\"#busy-indicator-frame2\").show();}, complete:function (XMLHttpRequest, textStatus) {$(\"#busy-indicator-frame2\").hide();$(\"#frame2update\").show();}, dataType:\"html\", div:false, evalScripts:true, success:function (data, textStatus) {$(\"#frame2update\").html(data);}, url:\"\\/birett_genres\\/view\\/4\"});\n",
      "return false;});\n",
      "$(\"#link-88268657\").bind(\"click\", function (event) {$.ajax({beforeSend:function (XMLHttpRequest) {$( 'html, body' ).animate( { scrollTop: 0 }, 0 );$(\"#frame2update\").hide();$(\"#busy-indicator-frame2\").show();}, complete:function (XMLHttpRequest, textStatus) {$(\"#busy-indicator-frame2\").hide();$(\"#frame2update\").show();}, dataType:\"html\", div:false, evalScripts:true, success:function (data, textStatus) {$(\"#frame2update\").html(data);}, url:\"\\/sources\\/view\\/1\"});\n",
      "return false;});\n",
      "$(\"#link-78138130\").bind(\"click\", function (event) {$.ajax({beforeSend:function (XMLHttpRequest) {$( 'html, body' ).animate( { scrollTop: 0 }, 0 );$(\"#frame2update\").hide();$(\"#busy-indicator-frame2\").show();}, complete:function (XMLHttpRequest, textStatus) {$(\"#busy-indicator-frame2\").hide();$(\"#frame2update\").show();}, dataType:\"html\", div:false, evalScripts:true, success:function (data, textStatus) {$(\"#frame2update\").html(data);}, url:\"\\/sources\\/view\\/13\"});\n",
      "return false;});\n",
      "$(\"#link-539282252\").bind(\"click\", function (event) {$.ajax({beforeSend:function (XMLHttpRequest) {$( 'html, body' ).animate( { scrollTop: 0 }, 0 );$(\"#frame2update\").hide();$(\"#busy-indicator-frame2\").show();}, complete:function (XMLHttpRequest, textStatus) {$(\"#busy-indicator-frame2\").hide();$(\"#frame2update\").show();}, dataType:\"html\", div:false, evalScripts:true, success:function (data, textStatus) {$(\"#frame2update\").html(data);}, url:\"\\/sources\\/view\\/12\"});\n",
      "return false;});});\n",
      "//]]>\n",
      "</script> </div>\n"
     ]
    }
   ],
   "source": [
    "#the div where the information is\n",
    "div_interested = soup.find('div', id='frame1update')\n",
    "print(div_interested)\n"
   ]
  },
  {
   "cell_type": "code",
   "execution_count": 78,
   "metadata": {},
   "outputs": [],
   "source": [
    "##title + date\n",
    "title_date = div_interested.find('h2', class_='title').contents[0]\n",
    "#print(title_date)"
   ]
  },
  {
   "cell_type": "code",
   "execution_count": 79,
   "metadata": {},
   "outputs": [],
   "source": [
    "dateFilms= []\n",
    "##extract date\n",
    "import re\n",
    "date_film =re.search('(\\d+)',title_date)\n",
    "dateFilms.append(date_film.group())"
   ]
  },
  {
   "cell_type": "code",
   "execution_count": 80,
   "metadata": {},
   "outputs": [],
   "source": [
    "titles = []\n",
    "title = title_date.split(\"(\"+date_film.group())\n",
    "titles.append(title[0].lstrip().rstrip())\n",
    "# enlever les espaces"
   ]
  },
  {
   "cell_type": "code",
   "execution_count": 81,
   "metadata": {},
   "outputs": [
    {
     "name": "stdout",
     "output_type": "stream",
     "text": [
      "<ul>\n",
      "<li>\n",
      "<span class=\"type\">Original Title:</span>\n",
      "<span class=\"title\">\r\n",
      "          Ripp og Rapp. Aftensmaden        </span>\n",
      "</li>\n",
      "<li>\n",
      "<span class=\"type\">Further Title:</span>\n",
      "<span class=\"title\">\r\n",
      "          Aftensmaden        </span>\n",
      "</li>\n",
      "</ul>\n"
     ]
    }
   ],
   "source": [
    "ul_film_title=div_interested.find(\"ul\")\n",
    "print(ul_film_title)"
   ]
  },
  {
   "cell_type": "code",
   "execution_count": 82,
   "metadata": {},
   "outputs": [],
   "source": [
    "\n",
    "originalTitles= []\n",
    "furtherTitles = []\n",
    "\n",
    "originalTitles.append(\"\")\n",
    "furtherTitles.append(\"\")"
   ]
  },
  {
   "cell_type": "code",
   "execution_count": 98,
   "metadata": {},
   "outputs": [],
   "source": [
    "#Film lenght\n",
    "filmLenghts= []\n",
    "\n",
    "film_lenght_element = [tag for tag in div_interested.find_all('h3') if tag.text.lstrip().rstrip() == \"Film Length\"]\n",
    "if(film_lenght_element):\n",
    "    ul_film_lenght = film_lenght_element[0].next_sibling.next_sibling\n",
    "    if(ul_film_lenght.name == 'ul'):\n",
    "        for li in ul_film_lenght.findAll('li'):\n",
    "            if li.find('ul'):\n",
    "                break\n",
    "                filmLenghts.append(li.text.lstrip().rstrip())       \n",
    "else:\n",
    "    filmLenghts.append(\"\") \n",
    "\n"
   ]
  },
  {
   "cell_type": "code",
   "execution_count": 99,
   "metadata": {},
   "outputs": [],
   "source": [
    "#Pricing\n",
    "filmPricings= []\n",
    "film_pricing_element = [tag for tag in div_interested.find_all('h3') if tag.text.lstrip().rstrip() == \"Pricing\"]\n",
    "if(film_pricing_element):\n",
    "    ul_film_pricing = film_pricing_element[0].next_sibling.next_sibling\n",
    "    if(ul_film_pricing.name == 'ul'):\n",
    "        for li in ul_film_pricing.findAll('li'):\n",
    "            if li.find('ul'):\n",
    "                break\n",
    "            filmPricings.append(li.text.lstrip().rstrip())  \n",
    "else:\n",
    "    filmPricings.append(\"\") \n",
    "\n"
   ]
  },
  {
   "cell_type": "code",
   "execution_count": 100,
   "metadata": {},
   "outputs": [
    {
     "ename": "SyntaxError",
     "evalue": "invalid syntax (<ipython-input-100-f53beb22f914>, line 1)",
     "traceback": [
      "\u001b[0;36m  File \u001b[0;32m\"<ipython-input-100-f53beb22f914>\"\u001b[0;36m, line \u001b[0;32m1\u001b[0m\n\u001b[0;31m    Film titles\u001b[0m\n\u001b[0m              ^\u001b[0m\n\u001b[0;31mSyntaxError\u001b[0m\u001b[0;31m:\u001b[0m invalid syntax\n"
     ],
     "output_type": "error"
    }
   ],
   "source": [
    "Film titles\n",
    "\n"
   ]
  },
  {
   "cell_type": "code",
   "execution_count": 117,
   "metadata": {},
   "outputs": [
    {
     "name": "stdout",
     "output_type": "stream",
     "text": [
      "ffgOriginal Title:\n",
      "\r\n",
      "          Ripp og Rapp. Aftensmaden\n",
      "ffgFurther Title:\n",
      "\r\n",
      "          Aftensmaden\n"
     ]
    }
   ],
   "source": [
    "#All titles\n",
    "filmAllTitles= []\n",
    "title=\"\"\n",
    "film_alltitle_element = [tag for tag in div_interested.find_all('h3') if tag.text.lstrip().rstrip() == \"Film titles\"]\n",
    "if(film_alltitle_element):    \n",
    "    ul_film_alltitle = film_alltitle_element[0].next_sibling.next_sibling\n",
    "    if(ul_film_alltitle.name == 'ul'):\n",
    "        for li in ul_film_alltitle.findAll('li'):\n",
    "            if li.find('ul'):\n",
    "                break\n",
    "            print('ffg',re.sub(r\"^\\s+|\\s+$\", \"\", li.text), sep='')  # | for OR conditio\n",
    "            title=title + li.text.strip()\n",
    "        filmAllTitles.append(title)  \n",
    "else:\n",
    "    filmAllTitles.append(\"\") \n"
   ]
  },
  {
   "cell_type": "code",
   "execution_count": 106,
   "metadata": {},
   "outputs": [
    {
     "name": "stdout",
     "output_type": "stream",
     "text": [
      "Produktionsfirma:\n",
      "Nordisk Films Co {dk} <Nordsk> (Dänemark), No. 282\n"
     ]
    }
   ],
   "source": [
    "#Companies\n",
    "filmCompanies= []\n",
    "film_companie_element = [tag for tag in div_interested.find_all('h3') if tag.text.lstrip().rstrip() == \"Companies\"]\n",
    "if(film_companie_element):\n",
    "    \n",
    "    ul_film_companie = film_companie_element[0].next_sibling.next_sibling\n",
    "    if(ul_film_companie.name == 'ul'):\n",
    "        for li in ul_film_companie.findAll('li'):\n",
    "            if li.find('ul'):\n",
    "                break\n",
    "            print(li.text.lstrip().rstrip())\n",
    "            filmCompanies.append(li.text.lstrip().rstrip())  \n",
    "else:\n",
    "    filmCompanies.append(\"\") \n"
   ]
  },
  {
   "cell_type": "code",
   "execution_count": 103,
   "metadata": {},
   "outputs": [],
   "source": [
    "#Genres\n",
    "filmGenres= []\n",
    "film_genre_element = [tag for tag in div_interested.find_all('h3') if tag.text.lstrip().rstrip() == \"Genres\"]\n",
    "if(film_genre_element):\n",
    "    ul_film_genre = film_genre_element[0].next_sibling.next_sibling\n",
    "    if(ul_film_genre.name == 'ul'):\n",
    "        for li in ul_film_genre.findAll('li'):\n",
    "            if li.find('ul'):\n",
    "                break\n",
    "            filmGenres.append(li.text.lstrip().rstrip())  \n",
    "else:\n",
    "    filmGenres.append(\"\") \n",
    "\n"
   ]
  },
  {
   "cell_type": "code",
   "execution_count": 108,
   "metadata": {},
   "outputs": [
    {
     "data": {
      "text/plain": [
       "0    Original Title:\\n\\r\\n          Ripp og Rapp. A...\n",
       "Name: All titles, dtype: object"
      ]
     },
     "execution_count": 108,
     "metadata": {},
     "output_type": "execute_result"
    }
   ],
   "source": [
    "import pandas as pd\n",
    "df=pd.DataFrame(dateFilms,columns=['Date'])\n",
    "df['Title']=titles\n",
    "df['Original title']=originalTitles\n",
    "df['Further title']=furtherTitles\n",
    "df['Film lenght']=filmLenghts\n",
    "df['Film pricing']=filmPricings\n",
    "df['Genre']=filmGenres\n",
    "df['All titles']=filmAllTitles\n",
    "df['All titles']"
   ]
  },
  {
   "cell_type": "code",
   "execution_count": 35,
   "metadata": {},
   "outputs": [
    {
     "name": "stdout",
     "output_type": "stream",
     "text": [
      "1\n"
     ]
    }
   ],
   "source": [
    "print(len(ul_film_title.findAll('li')))\n",
    "\n",
    "if(len(ul_film_title.findAll('li'))==1):\n",
    "    titleType = ul_film_title.find('span', class_='type')\n",
    "    if(titleType.text == 'Original Title:'):\n",
    "        originalTitle = ul_film_title.find('span', class_='title')\n",
    "        originalTitles.append(originalTitle.text.lstrip().rstrip()) \n",
    "        furtherTitles.append(\"\")\n",
    "    if(titleType.text == 'Further Title:'):\n",
    "        furtherTitle = ul_film_title.find('span', class_='title')\n",
    "        furtherTitles.append(furtherTitle.text.lstrip().rstrip())\n",
    "        originalTitles.append(\"\")\n",
    "if(len(ul_film_title.findAll('li'))>1):\n",
    "    #for ul in ul_film_title:\n",
    "    for li in ul_film_title.findAll('li'):\n",
    "        if li.find('ul'):\n",
    "            break\n",
    "        titleType = li.find('span', class_='type')\n",
    "        if(titleType.text == 'Original Title:'):\n",
    "            originalTitle = li.find('span', class_='title')\n",
    "            originalTitles.append(originalTitle.text.lstrip().rstrip())\n",
    "        if(titleType.text == 'Further Title:'):\n",
    "            furtherTitle = li.find('span', class_='title')\n",
    "            furtherTitles.append(furtherTitle.text.lstrip().rstrip())  \n",
    "\n"
   ]
  },
  {
   "cell_type": "code",
   "execution_count": null,
   "metadata": {},
   "outputs": [],
   "source": [
    "test"
   ]
  },
  {
   "cell_type": "code",
   "execution_count": null,
   "metadata": {},
   "outputs": [],
   "source": []
  },
  {
   "cell_type": "code",
   "execution_count": null,
   "metadata": {},
   "outputs": [],
   "source": []
  }
 ],
 "metadata": {
  "kernelspec": {
   "display_name": "Python 3",
   "language": "python",
   "name": "python3"
  },
  "language_info": {
   "codemirror_mode": {
    "name": "ipython",
    "version": 3
   },
   "file_extension": ".py",
   "mimetype": "text/x-python",
   "name": "python",
   "nbconvert_exporter": "python",
   "pygments_lexer": "ipython3",
   "version": "3.6.1"
  }
 },
 "nbformat": 4,
 "nbformat_minor": 1
}
