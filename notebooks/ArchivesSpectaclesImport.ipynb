{
 "cells": [
  {
   "cell_type": "code",
   "execution_count": 6,
   "metadata": {},
   "outputs": [],
   "source": [
    "#https://stackoverflow.com/questions/27835619/urllib-and-ssl-certificate-verify-failed-error/42334357#42334357"
   ]
  },
  {
   "cell_type": "code",
   "execution_count": 18,
   "metadata": {},
   "outputs": [],
   "source": [
    "#request the url with id of the organism\n",
    "#Example \n",
    "# https://www.lesarchivesduspectacle.net/?IDX_Organisme=439&Saison=2008\n",
    "# Arsenal id 439\n",
    "# import the library we use to open URLs\n",
    "import urllib.request\n",
    "import re\n",
    "# import the BeautifulSoup library so we can parse HTML and XML documents\n",
    "from bs4 import BeautifulSoup\n",
    "\n",
    "\n",
    "id=\"439\"\n",
    "saison=\"2009\"\n",
    "# specify which URL/web page we are going to be scraping\n",
    "url = \"https://www.lesarchivesduspectacle.net/?IDX_Organisme=\" + id + \"&Saison=\" + saison\n",
    "# open the url using urllib.request and put the HTML into the page variable\n",
    "page = urllib.request.urlopen(url)\n",
    "# parse the HTML from our URL into the BeautifulSoup parse tree format\n",
    "soup = BeautifulSoup(page, \"lxml\")\n",
    "soup\n",
    "#the div where the information is\n",
    "div_interested = soup.find('div', id='async-org-saison-annee')\n",
    "##performance name\n",
    "performance = div_interested.find('a', class_='c_Spectacle').contents[0]\n",
    "##choregraphe\n",
    "choregraphe = div_interested.find('a', class_='c_Personne').contents[0]\n",
    "\n",
    "performances= []\n",
    "choregraphes= []\n",
    "performances.append(performance);\n",
    "choregraphes.append(choregraphe);\n",
    "\n",
    "\n",
    "\n",
    "\n",
    "\n",
    "   \n",
    "    "
   ]
  },
  {
   "cell_type": "code",
   "execution_count": null,
   "metadata": {},
   "outputs": [],
   "source": []
  },
  {
   "cell_type": "code",
   "execution_count": null,
   "metadata": {},
   "outputs": [],
   "source": []
  },
  {
   "cell_type": "code",
   "execution_count": 19,
   "metadata": {},
   "outputs": [
    {
     "data": {
      "text/html": [
       "<div>\n",
       "<style scoped>\n",
       "    .dataframe tbody tr th:only-of-type {\n",
       "        vertical-align: middle;\n",
       "    }\n",
       "\n",
       "    .dataframe tbody tr th {\n",
       "        vertical-align: top;\n",
       "    }\n",
       "\n",
       "    .dataframe thead th {\n",
       "        text-align: right;\n",
       "    }\n",
       "</style>\n",
       "<table border=\"1\" class=\"dataframe\">\n",
       "  <thead>\n",
       "    <tr style=\"text-align: right;\">\n",
       "      <th></th>\n",
       "      <th>Titre</th>\n",
       "      <th>Chorégraphe</th>\n",
       "    </tr>\n",
       "  </thead>\n",
       "  <tbody>\n",
       "    <tr>\n",
       "      <th>0</th>\n",
       "      <td>Machinations</td>\n",
       "      <td>François Regnault</td>\n",
       "    </tr>\n",
       "  </tbody>\n",
       "</table>\n",
       "</div>"
      ],
      "text/plain": [
       "          Titre        Chorégraphe\n",
       "0  Machinations  François Regnault"
      ]
     },
     "execution_count": 19,
     "metadata": {},
     "output_type": "execute_result"
    }
   ],
   "source": [
    "import pandas as pd\n",
    "df=pd.DataFrame(performances,columns=['Titre'])\n",
    "df['Chorégraphe']=choregraphes\n",
    "df\n",
    "\n"
   ]
  },
  {
   "cell_type": "code",
   "execution_count": null,
   "metadata": {},
   "outputs": [],
   "source": []
  }
 ],
 "metadata": {
  "kernelspec": {
   "display_name": "Python 3",
   "language": "python",
   "name": "python3"
  },
  "language_info": {
   "codemirror_mode": {
    "name": "ipython",
    "version": 3
   },
   "file_extension": ".py",
   "mimetype": "text/x-python",
   "name": "python",
   "nbconvert_exporter": "python",
   "pygments_lexer": "ipython3",
   "version": "3.6.1"
  }
 },
 "nbformat": 4,
 "nbformat_minor": 1
}
